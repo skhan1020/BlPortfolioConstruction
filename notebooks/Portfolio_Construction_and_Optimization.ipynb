{
 "cells": [
  {
   "cell_type": "code",
   "execution_count": 1,
   "metadata": {},
   "outputs": [],
   "source": [
    "from blportopt.config import (\n",
    "    FUND_TICKERS,\n",
    "    MARKET_TICKER,\n",
    "    FF_FACTORS,\n",
    "    ASSET_TICKERS,\n",
    ")\n",
    "from blportopt.data_utils import (\n",
    "    get_data,\n",
    "    MarketCapEvaluator,\n",
    ")\n",
    "from blportopt.fama_french_model import famafrench_regression_analysis\n",
    "from blportopt.trading_strategy import backtest\n",
    "from blportopt.covariance_estimator import (\n",
    "    empirical_cov_calculate,\n",
    "    factor_cov_calculate,\n",
    ")\n",
    "from blportopt.portfolio_construction import (\n",
    "    empirical_rf_calculate,\n",
    "    calc_optimal_portfolio_weights,\n",
    "    efficient_frontier,\n",
    "    plot_efficient_frontier,\n",
    ")"
   ]
  },
  {
   "cell_type": "markdown",
   "metadata": {},
   "source": [
    "# Asset Type"
   ]
  },
  {
   "cell_type": "code",
   "execution_count": 2,
   "metadata": {},
   "outputs": [],
   "source": [
    "## Index Funds used in Portfolio Construction\n",
    "# asset_type = \"fund\"\n",
    "\n",
    "## Stocks used in Portfolio Construction\n",
    "asset_type = \"stock\""
   ]
  },
  {
   "cell_type": "markdown",
   "metadata": {},
   "source": [
    "# 1. Load Data"
   ]
  },
  {
   "cell_type": "code",
   "execution_count": 3,
   "metadata": {},
   "outputs": [
    {
     "name": "stdout",
     "output_type": "stream",
     "text": [
      "--------------------------------------------------Loading Time Series of Factors--------------------------------------------------\n"
     ]
    },
    {
     "name": "stderr",
     "output_type": "stream",
     "text": [
      "/Users/souratoshkhan/CQF/BlPortfolioConstruction/blportopt/data_utils.py:168: FutureWarning: The argument 'date_parser' is deprecated and will be removed in a future version. Please use 'date_format' instead, or read your data in as 'object' dtype and then call 'to_datetime'.\n",
      "  data = pdr.get_data_famafrench(filename, start=self.start)[0]\n",
      "/Users/souratoshkhan/CQF/BlPortfolioConstruction/blportopt/data_utils.py:168: FutureWarning: The argument 'date_parser' is deprecated and will be removed in a future version. Please use 'date_format' instead, or read your data in as 'object' dtype and then call 'to_datetime'.\n",
      "  data = pdr.get_data_famafrench(filename, start=self.start)[0]\n",
      "/Users/souratoshkhan/CQF/BlPortfolioConstruction/blportopt/data_utils.py:168: FutureWarning: The argument 'date_parser' is deprecated and will be removed in a future version. Please use 'date_format' instead, or read your data in as 'object' dtype and then call 'to_datetime'.\n",
      "  data = pdr.get_data_famafrench(filename, start=self.start)[0]\n",
      "/Users/souratoshkhan/CQF/BlPortfolioConstruction/blportopt/data_utils.py:168: FutureWarning: The argument 'date_parser' is deprecated and will be removed in a future version. Please use 'date_format' instead, or read your data in as 'object' dtype and then call 'to_datetime'.\n",
      "  data = pdr.get_data_famafrench(filename, start=self.start)[0]\n"
     ]
    },
    {
     "name": "stdout",
     "output_type": "stream",
     "text": [
      "--------------------------------------------------Done!--------------------------------------------------\n",
      "--------------------------------------------------Loading Historical Prices of 10 Equities (Stocks/Funds)--------------------------------------------------\n",
      "--------------------------------------------------Done!--------------------------------------------------\n",
      "--------------------------------------------------Calculating Historical Returns of 10 Equities (Stocks/Funds)--------------------------------------------------\n",
      "--------------------------------------------------Done!--------------------------------------------------\n",
      "--------------------------------------------------Loading Historical Prices of SPY--------------------------------------------------\n",
      "--------------------------------------------------Done!--------------------------------------------------\n"
     ]
    },
    {
     "data": {
      "text/html": [
       "<div>\n",
       "<style scoped>\n",
       "    .dataframe tbody tr th:only-of-type {\n",
       "        vertical-align: middle;\n",
       "    }\n",
       "\n",
       "    .dataframe tbody tr th {\n",
       "        vertical-align: top;\n",
       "    }\n",
       "\n",
       "    .dataframe thead th {\n",
       "        text-align: right;\n",
       "    }\n",
       "</style>\n",
       "<table border=\"1\" class=\"dataframe\">\n",
       "  <thead>\n",
       "    <tr style=\"text-align: right;\">\n",
       "      <th></th>\n",
       "      <th>Mkt-RF</th>\n",
       "      <th>SMB</th>\n",
       "      <th>HML</th>\n",
       "      <th>RMW</th>\n",
       "      <th>CMA</th>\n",
       "      <th>RF</th>\n",
       "      <th>Mom</th>\n",
       "    </tr>\n",
       "    <tr>\n",
       "      <th>Date</th>\n",
       "      <th></th>\n",
       "      <th></th>\n",
       "      <th></th>\n",
       "      <th></th>\n",
       "      <th></th>\n",
       "      <th></th>\n",
       "      <th></th>\n",
       "    </tr>\n",
       "  </thead>\n",
       "  <tbody>\n",
       "    <tr>\n",
       "      <th>1963-07</th>\n",
       "      <td>-0.0039</td>\n",
       "      <td>-0.0041</td>\n",
       "      <td>-0.0097</td>\n",
       "      <td>0.0068</td>\n",
       "      <td>-0.0118</td>\n",
       "      <td>0.0027</td>\n",
       "      <td>0.0090</td>\n",
       "    </tr>\n",
       "    <tr>\n",
       "      <th>1963-08</th>\n",
       "      <td>0.0507</td>\n",
       "      <td>-0.0080</td>\n",
       "      <td>0.0180</td>\n",
       "      <td>0.0036</td>\n",
       "      <td>-0.0035</td>\n",
       "      <td>0.0025</td>\n",
       "      <td>0.0101</td>\n",
       "    </tr>\n",
       "    <tr>\n",
       "      <th>1963-09</th>\n",
       "      <td>-0.0157</td>\n",
       "      <td>-0.0052</td>\n",
       "      <td>0.0013</td>\n",
       "      <td>-0.0071</td>\n",
       "      <td>0.0029</td>\n",
       "      <td>0.0027</td>\n",
       "      <td>0.0019</td>\n",
       "    </tr>\n",
       "    <tr>\n",
       "      <th>1963-10</th>\n",
       "      <td>0.0253</td>\n",
       "      <td>-0.0139</td>\n",
       "      <td>-0.0010</td>\n",
       "      <td>0.0280</td>\n",
       "      <td>-0.0201</td>\n",
       "      <td>0.0029</td>\n",
       "      <td>0.0312</td>\n",
       "    </tr>\n",
       "    <tr>\n",
       "      <th>1963-11</th>\n",
       "      <td>-0.0085</td>\n",
       "      <td>-0.0088</td>\n",
       "      <td>0.0175</td>\n",
       "      <td>-0.0051</td>\n",
       "      <td>0.0224</td>\n",
       "      <td>0.0027</td>\n",
       "      <td>-0.0074</td>\n",
       "    </tr>\n",
       "  </tbody>\n",
       "</table>\n",
       "</div>"
      ],
      "text/plain": [
       "         Mkt-RF     SMB     HML     RMW     CMA      RF     Mom\n",
       "Date                                                           \n",
       "1963-07 -0.0039 -0.0041 -0.0097  0.0068 -0.0118  0.0027  0.0090\n",
       "1963-08  0.0507 -0.0080  0.0180  0.0036 -0.0035  0.0025  0.0101\n",
       "1963-09 -0.0157 -0.0052  0.0013 -0.0071  0.0029  0.0027  0.0019\n",
       "1963-10  0.0253 -0.0139 -0.0010  0.0280 -0.0201  0.0029  0.0312\n",
       "1963-11 -0.0085 -0.0088  0.0175 -0.0051  0.0224  0.0027 -0.0074"
      ]
     },
     "metadata": {},
     "output_type": "display_data"
    },
    {
     "data": {
      "text/html": [
       "<div>\n",
       "<style scoped>\n",
       "    .dataframe tbody tr th:only-of-type {\n",
       "        vertical-align: middle;\n",
       "    }\n",
       "\n",
       "    .dataframe tbody tr th {\n",
       "        vertical-align: top;\n",
       "    }\n",
       "\n",
       "    .dataframe thead th {\n",
       "        text-align: right;\n",
       "    }\n",
       "</style>\n",
       "<table border=\"1\" class=\"dataframe\">\n",
       "  <thead>\n",
       "    <tr style=\"text-align: right;\">\n",
       "      <th></th>\n",
       "      <th>XLK</th>\n",
       "      <th>XLF</th>\n",
       "      <th>XLV</th>\n",
       "      <th>XLY</th>\n",
       "      <th>XLI</th>\n",
       "      <th>XLP</th>\n",
       "      <th>XLE</th>\n",
       "      <th>XLB</th>\n",
       "      <th>XLU</th>\n",
       "      <th>IYR</th>\n",
       "    </tr>\n",
       "    <tr>\n",
       "      <th>Date</th>\n",
       "      <th></th>\n",
       "      <th></th>\n",
       "      <th></th>\n",
       "      <th></th>\n",
       "      <th></th>\n",
       "      <th></th>\n",
       "      <th></th>\n",
       "      <th></th>\n",
       "      <th></th>\n",
       "      <th></th>\n",
       "    </tr>\n",
       "  </thead>\n",
       "  <tbody>\n",
       "    <tr>\n",
       "      <th>2008-01</th>\n",
       "      <td>21.102577</td>\n",
       "      <td>17.070858</td>\n",
       "      <td>26.738086</td>\n",
       "      <td>26.540570</td>\n",
       "      <td>28.066698</td>\n",
       "      <td>18.277428</td>\n",
       "      <td>47.993432</td>\n",
       "      <td>29.080851</td>\n",
       "      <td>23.385230</td>\n",
       "      <td>35.673085</td>\n",
       "    </tr>\n",
       "    <tr>\n",
       "      <th>2008-02</th>\n",
       "      <td>18.671619</td>\n",
       "      <td>17.023889</td>\n",
       "      <td>25.042099</td>\n",
       "      <td>26.210728</td>\n",
       "      <td>26.844832</td>\n",
       "      <td>17.425373</td>\n",
       "      <td>42.332673</td>\n",
       "      <td>28.425311</td>\n",
       "      <td>21.909443</td>\n",
       "      <td>35.721921</td>\n",
       "    </tr>\n",
       "    <tr>\n",
       "      <th>2008-03</th>\n",
       "      <td>17.563041</td>\n",
       "      <td>15.069083</td>\n",
       "      <td>24.501779</td>\n",
       "      <td>25.092464</td>\n",
       "      <td>25.874553</td>\n",
       "      <td>17.271620</td>\n",
       "      <td>45.682332</td>\n",
       "      <td>28.585713</td>\n",
       "      <td>20.860847</td>\n",
       "      <td>34.148025</td>\n",
       "    </tr>\n",
       "    <tr>\n",
       "      <th>2008-04</th>\n",
       "      <td>18.153928</td>\n",
       "      <td>15.243866</td>\n",
       "      <td>23.593843</td>\n",
       "      <td>25.085247</td>\n",
       "      <td>27.202310</td>\n",
       "      <td>18.111099</td>\n",
       "      <td>44.429201</td>\n",
       "      <td>28.353168</td>\n",
       "      <td>21.374603</td>\n",
       "      <td>36.411332</td>\n",
       "    </tr>\n",
       "    <tr>\n",
       "      <th>2008-05</th>\n",
       "      <td>19.143996</td>\n",
       "      <td>15.705440</td>\n",
       "      <td>23.639063</td>\n",
       "      <td>25.963315</td>\n",
       "      <td>27.628249</td>\n",
       "      <td>17.917878</td>\n",
       "      <td>48.595205</td>\n",
       "      <td>29.514447</td>\n",
       "      <td>22.408397</td>\n",
       "      <td>37.854623</td>\n",
       "    </tr>\n",
       "  </tbody>\n",
       "</table>\n",
       "</div>"
      ],
      "text/plain": [
       "               XLK        XLF        XLV        XLY        XLI        XLP  \\\n",
       "Date                                                                        \n",
       "2008-01  21.102577  17.070858  26.738086  26.540570  28.066698  18.277428   \n",
       "2008-02  18.671619  17.023889  25.042099  26.210728  26.844832  17.425373   \n",
       "2008-03  17.563041  15.069083  24.501779  25.092464  25.874553  17.271620   \n",
       "2008-04  18.153928  15.243866  23.593843  25.085247  27.202310  18.111099   \n",
       "2008-05  19.143996  15.705440  23.639063  25.963315  27.628249  17.917878   \n",
       "\n",
       "               XLE        XLB        XLU        IYR  \n",
       "Date                                                 \n",
       "2008-01  47.993432  29.080851  23.385230  35.673085  \n",
       "2008-02  42.332673  28.425311  21.909443  35.721921  \n",
       "2008-03  45.682332  28.585713  20.860847  34.148025  \n",
       "2008-04  44.429201  28.353168  21.374603  36.411332  \n",
       "2008-05  48.595205  29.514447  22.408397  37.854623  "
      ]
     },
     "metadata": {},
     "output_type": "display_data"
    },
    {
     "data": {
      "text/html": [
       "<div>\n",
       "<style scoped>\n",
       "    .dataframe tbody tr th:only-of-type {\n",
       "        vertical-align: middle;\n",
       "    }\n",
       "\n",
       "    .dataframe tbody tr th {\n",
       "        vertical-align: top;\n",
       "    }\n",
       "\n",
       "    .dataframe thead th {\n",
       "        text-align: right;\n",
       "    }\n",
       "</style>\n",
       "<table border=\"1\" class=\"dataframe\">\n",
       "  <thead>\n",
       "    <tr style=\"text-align: right;\">\n",
       "      <th></th>\n",
       "      <th>XLK</th>\n",
       "      <th>XLF</th>\n",
       "      <th>XLV</th>\n",
       "      <th>XLY</th>\n",
       "      <th>XLI</th>\n",
       "      <th>XLP</th>\n",
       "      <th>XLE</th>\n",
       "      <th>XLB</th>\n",
       "      <th>XLU</th>\n",
       "      <th>IYR</th>\n",
       "    </tr>\n",
       "    <tr>\n",
       "      <th>Date</th>\n",
       "      <th></th>\n",
       "      <th></th>\n",
       "      <th></th>\n",
       "      <th></th>\n",
       "      <th></th>\n",
       "      <th></th>\n",
       "      <th></th>\n",
       "      <th></th>\n",
       "      <th></th>\n",
       "      <th></th>\n",
       "    </tr>\n",
       "  </thead>\n",
       "  <tbody>\n",
       "    <tr>\n",
       "      <th>2008-01</th>\n",
       "      <td>18.410316</td>\n",
       "      <td>17.106079</td>\n",
       "      <td>25.289742</td>\n",
       "      <td>26.210724</td>\n",
       "      <td>26.593287</td>\n",
       "      <td>17.425379</td>\n",
       "      <td>41.780399</td>\n",
       "      <td>27.860432</td>\n",
       "      <td>21.759638</td>\n",
       "      <td>35.694790</td>\n",
       "    </tr>\n",
       "    <tr>\n",
       "      <th>2008-02</th>\n",
       "      <td>17.539286</td>\n",
       "      <td>15.163002</td>\n",
       "      <td>24.614349</td>\n",
       "      <td>25.197052</td>\n",
       "      <td>26.054222</td>\n",
       "      <td>17.380527</td>\n",
       "      <td>45.652298</td>\n",
       "      <td>28.502024</td>\n",
       "      <td>20.866400</td>\n",
       "      <td>34.196873</td>\n",
       "    </tr>\n",
       "    <tr>\n",
       "      <th>2008-03</th>\n",
       "      <td>17.737246</td>\n",
       "      <td>14.599459</td>\n",
       "      <td>23.391130</td>\n",
       "      <td>24.714346</td>\n",
       "      <td>26.880787</td>\n",
       "      <td>17.848196</td>\n",
       "      <td>44.457733</td>\n",
       "      <td>28.013857</td>\n",
       "      <td>21.049482</td>\n",
       "      <td>35.331158</td>\n",
       "    </tr>\n",
       "    <tr>\n",
       "      <th>2008-04</th>\n",
       "      <td>18.850937</td>\n",
       "      <td>15.746865</td>\n",
       "      <td>23.729527</td>\n",
       "      <td>25.334972</td>\n",
       "      <td>27.794292</td>\n",
       "      <td>17.808388</td>\n",
       "      <td>49.215271</td>\n",
       "      <td>29.598387</td>\n",
       "      <td>22.285469</td>\n",
       "      <td>37.799736</td>\n",
       "    </tr>\n",
       "    <tr>\n",
       "      <th>2008-05</th>\n",
       "      <td>20.078623</td>\n",
       "      <td>14.652099</td>\n",
       "      <td>24.181797</td>\n",
       "      <td>26.027761</td>\n",
       "      <td>28.039749</td>\n",
       "      <td>18.349401</td>\n",
       "      <td>51.773880</td>\n",
       "      <td>31.137426</td>\n",
       "      <td>23.084562</td>\n",
       "      <td>38.107059</td>\n",
       "    </tr>\n",
       "  </tbody>\n",
       "</table>\n",
       "</div>"
      ],
      "text/plain": [
       "               XLK        XLF        XLV        XLY        XLI        XLP  \\\n",
       "Date                                                                        \n",
       "2008-01  18.410316  17.106079  25.289742  26.210724  26.593287  17.425379   \n",
       "2008-02  17.539286  15.163002  24.614349  25.197052  26.054222  17.380527   \n",
       "2008-03  17.737246  14.599459  23.391130  24.714346  26.880787  17.848196   \n",
       "2008-04  18.850937  15.746865  23.729527  25.334972  27.794292  17.808388   \n",
       "2008-05  20.078623  14.652099  24.181797  26.027761  28.039749  18.349401   \n",
       "\n",
       "               XLE        XLB        XLU        IYR  \n",
       "Date                                                 \n",
       "2008-01  41.780399  27.860432  21.759638  35.694790  \n",
       "2008-02  45.652298  28.502024  20.866400  34.196873  \n",
       "2008-03  44.457733  28.013857  21.049482  35.331158  \n",
       "2008-04  49.215271  29.598387  22.285469  37.799736  \n",
       "2008-05  51.773880  31.137426  23.084562  38.107059  "
      ]
     },
     "metadata": {},
     "output_type": "display_data"
    },
    {
     "data": {
      "text/html": [
       "<div>\n",
       "<style scoped>\n",
       "    .dataframe tbody tr th:only-of-type {\n",
       "        vertical-align: middle;\n",
       "    }\n",
       "\n",
       "    .dataframe tbody tr th {\n",
       "        vertical-align: top;\n",
       "    }\n",
       "\n",
       "    .dataframe thead th {\n",
       "        text-align: right;\n",
       "    }\n",
       "</style>\n",
       "<table border=\"1\" class=\"dataframe\">\n",
       "  <thead>\n",
       "    <tr style=\"text-align: right;\">\n",
       "      <th></th>\n",
       "      <th>XLK</th>\n",
       "      <th>XLF</th>\n",
       "      <th>XLV</th>\n",
       "      <th>XLY</th>\n",
       "      <th>XLI</th>\n",
       "      <th>XLP</th>\n",
       "      <th>XLE</th>\n",
       "      <th>XLB</th>\n",
       "      <th>XLU</th>\n",
       "      <th>IYR</th>\n",
       "    </tr>\n",
       "    <tr>\n",
       "      <th>Date</th>\n",
       "      <th></th>\n",
       "      <th></th>\n",
       "      <th></th>\n",
       "      <th></th>\n",
       "      <th></th>\n",
       "      <th></th>\n",
       "      <th></th>\n",
       "      <th></th>\n",
       "      <th></th>\n",
       "      <th></th>\n",
       "    </tr>\n",
       "  </thead>\n",
       "  <tbody>\n",
       "    <tr>\n",
       "      <th>2008-01</th>\n",
       "      <td>NaN</td>\n",
       "      <td>NaN</td>\n",
       "      <td>NaN</td>\n",
       "      <td>NaN</td>\n",
       "      <td>NaN</td>\n",
       "      <td>NaN</td>\n",
       "      <td>NaN</td>\n",
       "      <td>NaN</td>\n",
       "      <td>NaN</td>\n",
       "      <td>NaN</td>\n",
       "    </tr>\n",
       "    <tr>\n",
       "      <th>2008-02</th>\n",
       "      <td>-0.047312</td>\n",
       "      <td>-0.113590</td>\n",
       "      <td>-0.026706</td>\n",
       "      <td>-0.038674</td>\n",
       "      <td>-0.020271</td>\n",
       "      <td>-0.002574</td>\n",
       "      <td>0.092673</td>\n",
       "      <td>0.023029</td>\n",
       "      <td>-0.041050</td>\n",
       "      <td>-0.041965</td>\n",
       "    </tr>\n",
       "    <tr>\n",
       "      <th>2008-03</th>\n",
       "      <td>0.011287</td>\n",
       "      <td>-0.037166</td>\n",
       "      <td>-0.049695</td>\n",
       "      <td>-0.019157</td>\n",
       "      <td>0.031725</td>\n",
       "      <td>0.026908</td>\n",
       "      <td>-0.026167</td>\n",
       "      <td>-0.017127</td>\n",
       "      <td>0.008774</td>\n",
       "      <td>0.033169</td>\n",
       "    </tr>\n",
       "    <tr>\n",
       "      <th>2008-04</th>\n",
       "      <td>0.062788</td>\n",
       "      <td>0.078592</td>\n",
       "      <td>0.014467</td>\n",
       "      <td>0.025112</td>\n",
       "      <td>0.033984</td>\n",
       "      <td>-0.002230</td>\n",
       "      <td>0.107013</td>\n",
       "      <td>0.056562</td>\n",
       "      <td>0.058718</td>\n",
       "      <td>0.069870</td>\n",
       "    </tr>\n",
       "    <tr>\n",
       "      <th>2008-05</th>\n",
       "      <td>0.065126</td>\n",
       "      <td>-0.069523</td>\n",
       "      <td>0.019059</td>\n",
       "      <td>0.027345</td>\n",
       "      <td>0.008831</td>\n",
       "      <td>0.030380</td>\n",
       "      <td>0.051988</td>\n",
       "      <td>0.051997</td>\n",
       "      <td>0.035857</td>\n",
       "      <td>0.008130</td>\n",
       "    </tr>\n",
       "  </tbody>\n",
       "</table>\n",
       "</div>"
      ],
      "text/plain": [
       "              XLK       XLF       XLV       XLY       XLI       XLP       XLE  \\\n",
       "Date                                                                            \n",
       "2008-01       NaN       NaN       NaN       NaN       NaN       NaN       NaN   \n",
       "2008-02 -0.047312 -0.113590 -0.026706 -0.038674 -0.020271 -0.002574  0.092673   \n",
       "2008-03  0.011287 -0.037166 -0.049695 -0.019157  0.031725  0.026908 -0.026167   \n",
       "2008-04  0.062788  0.078592  0.014467  0.025112  0.033984 -0.002230  0.107013   \n",
       "2008-05  0.065126 -0.069523  0.019059  0.027345  0.008831  0.030380  0.051988   \n",
       "\n",
       "              XLB       XLU       IYR  \n",
       "Date                                   \n",
       "2008-01       NaN       NaN       NaN  \n",
       "2008-02  0.023029 -0.041050 -0.041965  \n",
       "2008-03 -0.017127  0.008774  0.033169  \n",
       "2008-04  0.056562  0.058718  0.069870  \n",
       "2008-05  0.051997  0.035857  0.008130  "
      ]
     },
     "metadata": {},
     "output_type": "display_data"
    },
    {
     "data": {
      "text/html": [
       "<div>\n",
       "<style scoped>\n",
       "    .dataframe tbody tr th:only-of-type {\n",
       "        vertical-align: middle;\n",
       "    }\n",
       "\n",
       "    .dataframe tbody tr th {\n",
       "        vertical-align: top;\n",
       "    }\n",
       "\n",
       "    .dataframe thead th {\n",
       "        text-align: right;\n",
       "    }\n",
       "</style>\n",
       "<table border=\"1\" class=\"dataframe\">\n",
       "  <thead>\n",
       "    <tr style=\"text-align: right;\">\n",
       "      <th></th>\n",
       "      <th>SPY</th>\n",
       "    </tr>\n",
       "    <tr>\n",
       "      <th>Date</th>\n",
       "      <th></th>\n",
       "    </tr>\n",
       "  </thead>\n",
       "  <tbody>\n",
       "    <tr>\n",
       "      <th>1993-02</th>\n",
       "      <td>NaN</td>\n",
       "    </tr>\n",
       "    <tr>\n",
       "      <th>1993-03</th>\n",
       "      <td>0.017593</td>\n",
       "    </tr>\n",
       "    <tr>\n",
       "      <th>1993-04</th>\n",
       "      <td>-0.020986</td>\n",
       "    </tr>\n",
       "    <tr>\n",
       "      <th>1993-05</th>\n",
       "      <td>0.026969</td>\n",
       "    </tr>\n",
       "    <tr>\n",
       "      <th>1993-06</th>\n",
       "      <td>-0.003456</td>\n",
       "    </tr>\n",
       "  </tbody>\n",
       "</table>\n",
       "</div>"
      ],
      "text/plain": [
       "              SPY\n",
       "Date             \n",
       "1993-02       NaN\n",
       "1993-03  0.017593\n",
       "1993-04 -0.020986\n",
       "1993-05  0.026969\n",
       "1993-06 -0.003456"
      ]
     },
     "metadata": {},
     "output_type": "display_data"
    }
   ],
   "source": [
    "ff_data, fund_open_data, fund_close_data, fund_returns, market_returns = get_data(asset_tickers=FUND_TICKERS, market_ticker=MARKET_TICKER, asset_type=\"fund\")\n",
    "\n",
    "display(ff_data.head())\n",
    "display(fund_open_data.head())\n",
    "display(fund_close_data.head())\n",
    "display(fund_returns.head())\n",
    "display(market_returns.head())"
   ]
  },
  {
   "cell_type": "markdown",
   "metadata": {},
   "source": [
    "# 2. Portfolio Selection - Backtest Factors"
   ]
  },
  {
   "cell_type": "markdown",
   "metadata": {},
   "source": [
    "## 2a. Estimate R-squares"
   ]
  },
  {
   "cell_type": "code",
   "execution_count": 4,
   "metadata": {},
   "outputs": [
    {
     "name": "stdout",
     "output_type": "stream",
     "text": [
      "--------------------------------------------------Loading Time Series of Factors--------------------------------------------------\n",
      "--------------------------------------------------Done!--------------------------------------------------"
     ]
    },
    {
     "name": "stderr",
     "output_type": "stream",
     "text": [
      "/Users/souratoshkhan/CQF/BlPortfolioConstruction/blportopt/data_utils.py:168: FutureWarning: The argument 'date_parser' is deprecated and will be removed in a future version. Please use 'date_format' instead, or read your data in as 'object' dtype and then call 'to_datetime'.\n",
      "  data = pdr.get_data_famafrench(filename, start=self.start)[0]\n",
      "/Users/souratoshkhan/CQF/BlPortfolioConstruction/blportopt/data_utils.py:168: FutureWarning: The argument 'date_parser' is deprecated and will be removed in a future version. Please use 'date_format' instead, or read your data in as 'object' dtype and then call 'to_datetime'.\n",
      "  data = pdr.get_data_famafrench(filename, start=self.start)[0]\n",
      "/Users/souratoshkhan/CQF/BlPortfolioConstruction/blportopt/data_utils.py:168: FutureWarning: The argument 'date_parser' is deprecated and will be removed in a future version. Please use 'date_format' instead, or read your data in as 'object' dtype and then call 'to_datetime'.\n",
      "  data = pdr.get_data_famafrench(filename, start=self.start)[0]\n",
      "/Users/souratoshkhan/CQF/BlPortfolioConstruction/blportopt/data_utils.py:168: FutureWarning: The argument 'date_parser' is deprecated and will be removed in a future version. Please use 'date_format' instead, or read your data in as 'object' dtype and then call 'to_datetime'.\n",
      "  data = pdr.get_data_famafrench(filename, start=self.start)[0]\n"
     ]
    },
    {
     "name": "stdout",
     "output_type": "stream",
     "text": [
      "\n",
      "--------------------------------------------------Loading Historical Prices of 20 Equities (Stocks/Funds)--------------------------------------------------\n",
      "--------------------------------------------------Done!--------------------------------------------------\n",
      "--------------------------------------------------Calculating Historical Returns of 20 Equities (Stocks/Funds)--------------------------------------------------\n",
      "--------------------------------------------------Done!--------------------------------------------------\n",
      "--------------------------------------------------Loading Historical Prices of SPY--------------------------------------------------\n",
      "--------------------------------------------------Done!--------------------------------------------------\n",
      "--------------------------------------------------Fitting Fama-French Factor Model--------------------------------------------------\n",
      "--------------------------------------------------Done!--------------------------------------------------\n"
     ]
    },
    {
     "name": "stderr",
     "output_type": "stream",
     "text": [
      "/Users/souratoshkhan/CQF/BlPortfolioConstruction/blportopt/fama_french_model.py:205: FutureWarning: The default of observed=False is deprecated and will be changed to True in a future version of pandas. Pass observed=False to retain current behavior or observed=True to adopt the future default and silence this warning.\n",
      "  rolling_betas.groupby([\"Group\"])[self.rf_col].hist(bins=100, density=True, legend=True)\n",
      "/Users/souratoshkhan/CQF/BlPortfolioConstruction/blportopt/fama_french_model.py:226: FutureWarning: The default of observed=False is deprecated and will be changed to True in a future version of pandas. Pass observed=False to retain current behavior or observed=True to adopt the future default and silence this warning.\n",
      "  rolling_betas.groupby([\"Group\"])[factor].hist(bins=100, density=True, ax=ax, figsize=(10, 10), legend=True)\n"
     ]
    },
    {
     "name": "stdout",
     "output_type": "stream",
     "text": [
      "--------------------------------------------------Rolling Estimates of Sensitivity Factors for AAPL--------------------------------------------------\n",
      "--------------------------------------------------Done!--------------------------------------------------\n",
      "--------------------------------------------------Fitting Fama-French Factor Model--------------------------------------------------\n",
      "--------------------------------------------------Done!--------------------------------------------------\n"
     ]
    },
    {
     "name": "stderr",
     "output_type": "stream",
     "text": [
      "/Users/souratoshkhan/CQF/BlPortfolioConstruction/blportopt/fama_french_model.py:205: FutureWarning: The default of observed=False is deprecated and will be changed to True in a future version of pandas. Pass observed=False to retain current behavior or observed=True to adopt the future default and silence this warning.\n",
      "  rolling_betas.groupby([\"Group\"])[self.rf_col].hist(bins=100, density=True, legend=True)\n",
      "/Users/souratoshkhan/CQF/BlPortfolioConstruction/blportopt/fama_french_model.py:226: FutureWarning: The default of observed=False is deprecated and will be changed to True in a future version of pandas. Pass observed=False to retain current behavior or observed=True to adopt the future default and silence this warning.\n",
      "  rolling_betas.groupby([\"Group\"])[factor].hist(bins=100, density=True, ax=ax, figsize=(10, 10), legend=True)\n"
     ]
    },
    {
     "name": "stdout",
     "output_type": "stream",
     "text": [
      "--------------------------------------------------Rolling Estimates of Sensitivity Factors for IBM--------------------------------------------------\n",
      "--------------------------------------------------Done!--------------------------------------------------\n",
      "--------------------------------------------------Fitting Fama-French Factor Model--------------------------------------------------\n",
      "--------------------------------------------------Done!--------------------------------------------------\n"
     ]
    },
    {
     "name": "stderr",
     "output_type": "stream",
     "text": [
      "/Users/souratoshkhan/CQF/BlPortfolioConstruction/blportopt/fama_french_model.py:205: FutureWarning: The default of observed=False is deprecated and will be changed to True in a future version of pandas. Pass observed=False to retain current behavior or observed=True to adopt the future default and silence this warning.\n",
      "  rolling_betas.groupby([\"Group\"])[self.rf_col].hist(bins=100, density=True, legend=True)\n",
      "/Users/souratoshkhan/CQF/BlPortfolioConstruction/blportopt/fama_french_model.py:226: FutureWarning: The default of observed=False is deprecated and will be changed to True in a future version of pandas. Pass observed=False to retain current behavior or observed=True to adopt the future default and silence this warning.\n",
      "  rolling_betas.groupby([\"Group\"])[factor].hist(bins=100, density=True, ax=ax, figsize=(10, 10), legend=True)\n"
     ]
    },
    {
     "name": "stdout",
     "output_type": "stream",
     "text": [
      "--------------------------------------------------Rolling Estimates of Sensitivity Factors for PG--------------------------------------------------\n",
      "--------------------------------------------------Done!--------------------------------------------------\n",
      "--------------------------------------------------Fitting Fama-French Factor Model--------------------------------------------------\n",
      "--------------------------------------------------Done!--------------------------------------------------\n"
     ]
    },
    {
     "name": "stderr",
     "output_type": "stream",
     "text": [
      "/Users/souratoshkhan/CQF/BlPortfolioConstruction/blportopt/fama_french_model.py:205: FutureWarning: The default of observed=False is deprecated and will be changed to True in a future version of pandas. Pass observed=False to retain current behavior or observed=True to adopt the future default and silence this warning.\n",
      "  rolling_betas.groupby([\"Group\"])[self.rf_col].hist(bins=100, density=True, legend=True)\n",
      "/Users/souratoshkhan/CQF/BlPortfolioConstruction/blportopt/fama_french_model.py:226: FutureWarning: The default of observed=False is deprecated and will be changed to True in a future version of pandas. Pass observed=False to retain current behavior or observed=True to adopt the future default and silence this warning.\n",
      "  rolling_betas.groupby([\"Group\"])[factor].hist(bins=100, density=True, ax=ax, figsize=(10, 10), legend=True)\n"
     ]
    },
    {
     "name": "stdout",
     "output_type": "stream",
     "text": [
      "--------------------------------------------------Rolling Estimates of Sensitivity Factors for GE--------------------------------------------------\n",
      "--------------------------------------------------Done!--------------------------------------------------\n",
      "--------------------------------------------------Fitting Fama-French Factor Model--------------------------------------------------\n",
      "--------------------------------------------------Done!--------------------------------------------------\n"
     ]
    },
    {
     "name": "stderr",
     "output_type": "stream",
     "text": [
      "/Users/souratoshkhan/CQF/BlPortfolioConstruction/blportopt/fama_french_model.py:205: FutureWarning: The default of observed=False is deprecated and will be changed to True in a future version of pandas. Pass observed=False to retain current behavior or observed=True to adopt the future default and silence this warning.\n",
      "  rolling_betas.groupby([\"Group\"])[self.rf_col].hist(bins=100, density=True, legend=True)\n",
      "/Users/souratoshkhan/CQF/BlPortfolioConstruction/blportopt/fama_french_model.py:226: FutureWarning: The default of observed=False is deprecated and will be changed to True in a future version of pandas. Pass observed=False to retain current behavior or observed=True to adopt the future default and silence this warning.\n",
      "  rolling_betas.groupby([\"Group\"])[factor].hist(bins=100, density=True, ax=ax, figsize=(10, 10), legend=True)\n"
     ]
    },
    {
     "name": "stdout",
     "output_type": "stream",
     "text": [
      "--------------------------------------------------Rolling Estimates of Sensitivity Factors for AMD--------------------------------------------------\n",
      "--------------------------------------------------Done!--------------------------------------------------\n",
      "--------------------------------------------------Fitting Fama-French Factor Model--------------------------------------------------\n",
      "--------------------------------------------------Done!--------------------------------------------------\n"
     ]
    },
    {
     "name": "stderr",
     "output_type": "stream",
     "text": [
      "/Users/souratoshkhan/CQF/BlPortfolioConstruction/blportopt/fama_french_model.py:205: FutureWarning: The default of observed=False is deprecated and will be changed to True in a future version of pandas. Pass observed=False to retain current behavior or observed=True to adopt the future default and silence this warning.\n",
      "  rolling_betas.groupby([\"Group\"])[self.rf_col].hist(bins=100, density=True, legend=True)\n",
      "/Users/souratoshkhan/CQF/BlPortfolioConstruction/blportopt/fama_french_model.py:226: FutureWarning: The default of observed=False is deprecated and will be changed to True in a future version of pandas. Pass observed=False to retain current behavior or observed=True to adopt the future default and silence this warning.\n",
      "  rolling_betas.groupby([\"Group\"])[factor].hist(bins=100, density=True, ax=ax, figsize=(10, 10), legend=True)\n"
     ]
    },
    {
     "name": "stdout",
     "output_type": "stream",
     "text": [
      "--------------------------------------------------Rolling Estimates of Sensitivity Factors for WMT--------------------------------------------------\n",
      "--------------------------------------------------Done!--------------------------------------------------\n",
      "--------------------------------------------------Fitting Fama-French Factor Model--------------------------------------------------\n",
      "--------------------------------------------------Done!--------------------------------------------------\n"
     ]
    },
    {
     "name": "stderr",
     "output_type": "stream",
     "text": [
      "/Users/souratoshkhan/CQF/BlPortfolioConstruction/blportopt/fama_french_model.py:205: FutureWarning: The default of observed=False is deprecated and will be changed to True in a future version of pandas. Pass observed=False to retain current behavior or observed=True to adopt the future default and silence this warning.\n",
      "  rolling_betas.groupby([\"Group\"])[self.rf_col].hist(bins=100, density=True, legend=True)\n",
      "/Users/souratoshkhan/CQF/BlPortfolioConstruction/blportopt/fama_french_model.py:226: FutureWarning: The default of observed=False is deprecated and will be changed to True in a future version of pandas. Pass observed=False to retain current behavior or observed=True to adopt the future default and silence this warning.\n",
      "  rolling_betas.groupby([\"Group\"])[factor].hist(bins=100, density=True, ax=ax, figsize=(10, 10), legend=True)\n"
     ]
    },
    {
     "name": "stdout",
     "output_type": "stream",
     "text": [
      "--------------------------------------------------Rolling Estimates of Sensitivity Factors for BAC--------------------------------------------------\n",
      "--------------------------------------------------Done!--------------------------------------------------\n",
      "--------------------------------------------------Fitting Fama-French Factor Model--------------------------------------------------\n",
      "--------------------------------------------------Done!--------------------------------------------------\n"
     ]
    },
    {
     "name": "stderr",
     "output_type": "stream",
     "text": [
      "/Users/souratoshkhan/CQF/BlPortfolioConstruction/blportopt/fama_french_model.py:205: FutureWarning: The default of observed=False is deprecated and will be changed to True in a future version of pandas. Pass observed=False to retain current behavior or observed=True to adopt the future default and silence this warning.\n",
      "  rolling_betas.groupby([\"Group\"])[self.rf_col].hist(bins=100, density=True, legend=True)\n",
      "/Users/souratoshkhan/CQF/BlPortfolioConstruction/blportopt/fama_french_model.py:226: FutureWarning: The default of observed=False is deprecated and will be changed to True in a future version of pandas. Pass observed=False to retain current behavior or observed=True to adopt the future default and silence this warning.\n",
      "  rolling_betas.groupby([\"Group\"])[factor].hist(bins=100, density=True, ax=ax, figsize=(10, 10), legend=True)\n"
     ]
    },
    {
     "name": "stdout",
     "output_type": "stream",
     "text": [
      "--------------------------------------------------Rolling Estimates of Sensitivity Factors for T--------------------------------------------------\n",
      "--------------------------------------------------Done!--------------------------------------------------\n",
      "--------------------------------------------------Fitting Fama-French Factor Model--------------------------------------------------\n",
      "--------------------------------------------------Done!--------------------------------------------------\n"
     ]
    },
    {
     "name": "stderr",
     "output_type": "stream",
     "text": [
      "/Users/souratoshkhan/CQF/BlPortfolioConstruction/blportopt/fama_french_model.py:205: FutureWarning: The default of observed=False is deprecated and will be changed to True in a future version of pandas. Pass observed=False to retain current behavior or observed=True to adopt the future default and silence this warning.\n",
      "  rolling_betas.groupby([\"Group\"])[self.rf_col].hist(bins=100, density=True, legend=True)\n",
      "/Users/souratoshkhan/CQF/BlPortfolioConstruction/blportopt/fama_french_model.py:226: FutureWarning: The default of observed=False is deprecated and will be changed to True in a future version of pandas. Pass observed=False to retain current behavior or observed=True to adopt the future default and silence this warning.\n",
      "  rolling_betas.groupby([\"Group\"])[factor].hist(bins=100, density=True, ax=ax, figsize=(10, 10), legend=True)\n"
     ]
    },
    {
     "name": "stdout",
     "output_type": "stream",
     "text": [
      "--------------------------------------------------Rolling Estimates of Sensitivity Factors for XOM--------------------------------------------------\n",
      "--------------------------------------------------Done!--------------------------------------------------\n",
      "--------------------------------------------------Fitting Fama-French Factor Model--------------------------------------------------\n",
      "--------------------------------------------------Done!--------------------------------------------------\n"
     ]
    },
    {
     "name": "stderr",
     "output_type": "stream",
     "text": [
      "/Users/souratoshkhan/CQF/BlPortfolioConstruction/blportopt/fama_french_model.py:205: FutureWarning: The default of observed=False is deprecated and will be changed to True in a future version of pandas. Pass observed=False to retain current behavior or observed=True to adopt the future default and silence this warning.\n",
      "  rolling_betas.groupby([\"Group\"])[self.rf_col].hist(bins=100, density=True, legend=True)\n",
      "/Users/souratoshkhan/CQF/BlPortfolioConstruction/blportopt/fama_french_model.py:226: FutureWarning: The default of observed=False is deprecated and will be changed to True in a future version of pandas. Pass observed=False to retain current behavior or observed=True to adopt the future default and silence this warning.\n",
      "  rolling_betas.groupby([\"Group\"])[factor].hist(bins=100, density=True, ax=ax, figsize=(10, 10), legend=True)\n"
     ]
    },
    {
     "name": "stdout",
     "output_type": "stream",
     "text": [
      "--------------------------------------------------Rolling Estimates of Sensitivity Factors for RRC--------------------------------------------------\n",
      "--------------------------------------------------Done!--------------------------------------------------\n",
      "--------------------------------------------------Fitting Fama-French Factor Model--------------------------------------------------\n",
      "--------------------------------------------------Done!--------------------------------------------------\n"
     ]
    },
    {
     "name": "stderr",
     "output_type": "stream",
     "text": [
      "/Users/souratoshkhan/CQF/BlPortfolioConstruction/blportopt/fama_french_model.py:205: FutureWarning: The default of observed=False is deprecated and will be changed to True in a future version of pandas. Pass observed=False to retain current behavior or observed=True to adopt the future default and silence this warning.\n",
      "  rolling_betas.groupby([\"Group\"])[self.rf_col].hist(bins=100, density=True, legend=True)\n",
      "/Users/souratoshkhan/CQF/BlPortfolioConstruction/blportopt/fama_french_model.py:226: FutureWarning: The default of observed=False is deprecated and will be changed to True in a future version of pandas. Pass observed=False to retain current behavior or observed=True to adopt the future default and silence this warning.\n",
      "  rolling_betas.groupby([\"Group\"])[factor].hist(bins=100, density=True, ax=ax, figsize=(10, 10), legend=True)\n"
     ]
    },
    {
     "name": "stdout",
     "output_type": "stream",
     "text": [
      "--------------------------------------------------Rolling Estimates of Sensitivity Factors for BBY--------------------------------------------------\n",
      "--------------------------------------------------Done!--------------------------------------------------\n",
      "--------------------------------------------------Fitting Fama-French Factor Model--------------------------------------------------\n",
      "--------------------------------------------------Done!--------------------------------------------------\n"
     ]
    },
    {
     "name": "stderr",
     "output_type": "stream",
     "text": [
      "/Users/souratoshkhan/CQF/BlPortfolioConstruction/blportopt/fama_french_model.py:205: FutureWarning: The default of observed=False is deprecated and will be changed to True in a future version of pandas. Pass observed=False to retain current behavior or observed=True to adopt the future default and silence this warning.\n",
      "  rolling_betas.groupby([\"Group\"])[self.rf_col].hist(bins=100, density=True, legend=True)\n",
      "/Users/souratoshkhan/CQF/BlPortfolioConstruction/blportopt/fama_french_model.py:226: FutureWarning: The default of observed=False is deprecated and will be changed to True in a future version of pandas. Pass observed=False to retain current behavior or observed=True to adopt the future default and silence this warning.\n",
      "  rolling_betas.groupby([\"Group\"])[factor].hist(bins=100, density=True, ax=ax, figsize=(10, 10), legend=True)\n"
     ]
    },
    {
     "name": "stdout",
     "output_type": "stream",
     "text": [
      "--------------------------------------------------Rolling Estimates of Sensitivity Factors for PFE--------------------------------------------------\n",
      "--------------------------------------------------Done!--------------------------------------------------\n",
      "--------------------------------------------------Fitting Fama-French Factor Model--------------------------------------------------\n",
      "--------------------------------------------------Done!--------------------------------------------------\n"
     ]
    },
    {
     "name": "stderr",
     "output_type": "stream",
     "text": [
      "/Users/souratoshkhan/CQF/BlPortfolioConstruction/blportopt/fama_french_model.py:205: FutureWarning: The default of observed=False is deprecated and will be changed to True in a future version of pandas. Pass observed=False to retain current behavior or observed=True to adopt the future default and silence this warning.\n",
      "  rolling_betas.groupby([\"Group\"])[self.rf_col].hist(bins=100, density=True, legend=True)\n",
      "/Users/souratoshkhan/CQF/BlPortfolioConstruction/blportopt/fama_french_model.py:226: FutureWarning: The default of observed=False is deprecated and will be changed to True in a future version of pandas. Pass observed=False to retain current behavior or observed=True to adopt the future default and silence this warning.\n",
      "  rolling_betas.groupby([\"Group\"])[factor].hist(bins=100, density=True, ax=ax, figsize=(10, 10), legend=True)\n"
     ]
    },
    {
     "name": "stdout",
     "output_type": "stream",
     "text": [
      "--------------------------------------------------Rolling Estimates of Sensitivity Factors for JPM--------------------------------------------------\n",
      "--------------------------------------------------Done!--------------------------------------------------\n",
      "--------------------------------------------------Fitting Fama-French Factor Model--------------------------------------------------\n",
      "--------------------------------------------------Done!--------------------------------------------------\n"
     ]
    },
    {
     "name": "stderr",
     "output_type": "stream",
     "text": [
      "/Users/souratoshkhan/CQF/BlPortfolioConstruction/blportopt/fama_french_model.py:205: FutureWarning: The default of observed=False is deprecated and will be changed to True in a future version of pandas. Pass observed=False to retain current behavior or observed=True to adopt the future default and silence this warning.\n",
      "  rolling_betas.groupby([\"Group\"])[self.rf_col].hist(bins=100, density=True, legend=True)\n",
      "/Users/souratoshkhan/CQF/BlPortfolioConstruction/blportopt/fama_french_model.py:226: FutureWarning: The default of observed=False is deprecated and will be changed to True in a future version of pandas. Pass observed=False to retain current behavior or observed=True to adopt the future default and silence this warning.\n",
      "  rolling_betas.groupby([\"Group\"])[factor].hist(bins=100, density=True, ax=ax, figsize=(10, 10), legend=True)\n"
     ]
    },
    {
     "name": "stdout",
     "output_type": "stream",
     "text": [
      "--------------------------------------------------Rolling Estimates of Sensitivity Factors for C--------------------------------------------------\n",
      "--------------------------------------------------Done!--------------------------------------------------\n",
      "--------------------------------------------------Fitting Fama-French Factor Model--------------------------------------------------\n",
      "--------------------------------------------------Done!--------------------------------------------------\n"
     ]
    },
    {
     "name": "stderr",
     "output_type": "stream",
     "text": [
      "/Users/souratoshkhan/CQF/BlPortfolioConstruction/blportopt/fama_french_model.py:205: FutureWarning: The default of observed=False is deprecated and will be changed to True in a future version of pandas. Pass observed=False to retain current behavior or observed=True to adopt the future default and silence this warning.\n",
      "  rolling_betas.groupby([\"Group\"])[self.rf_col].hist(bins=100, density=True, legend=True)\n",
      "/Users/souratoshkhan/CQF/BlPortfolioConstruction/blportopt/fama_french_model.py:226: FutureWarning: The default of observed=False is deprecated and will be changed to True in a future version of pandas. Pass observed=False to retain current behavior or observed=True to adopt the future default and silence this warning.\n",
      "  rolling_betas.groupby([\"Group\"])[factor].hist(bins=100, density=True, ax=ax, figsize=(10, 10), legend=True)\n"
     ]
    },
    {
     "name": "stdout",
     "output_type": "stream",
     "text": [
      "--------------------------------------------------Rolling Estimates of Sensitivity Factors for MCD--------------------------------------------------\n",
      "--------------------------------------------------Done!--------------------------------------------------\n",
      "--------------------------------------------------Fitting Fama-French Factor Model--------------------------------------------------\n",
      "--------------------------------------------------Done!--------------------------------------------------\n"
     ]
    },
    {
     "name": "stderr",
     "output_type": "stream",
     "text": [
      "/Users/souratoshkhan/CQF/BlPortfolioConstruction/blportopt/fama_french_model.py:205: FutureWarning: The default of observed=False is deprecated and will be changed to True in a future version of pandas. Pass observed=False to retain current behavior or observed=True to adopt the future default and silence this warning.\n",
      "  rolling_betas.groupby([\"Group\"])[self.rf_col].hist(bins=100, density=True, legend=True)\n",
      "/Users/souratoshkhan/CQF/BlPortfolioConstruction/blportopt/fama_french_model.py:226: FutureWarning: The default of observed=False is deprecated and will be changed to True in a future version of pandas. Pass observed=False to retain current behavior or observed=True to adopt the future default and silence this warning.\n",
      "  rolling_betas.groupby([\"Group\"])[factor].hist(bins=100, density=True, ax=ax, figsize=(10, 10), legend=True)\n"
     ]
    },
    {
     "name": "stdout",
     "output_type": "stream",
     "text": [
      "--------------------------------------------------Rolling Estimates of Sensitivity Factors for KO--------------------------------------------------\n",
      "--------------------------------------------------Done!--------------------------------------------------\n",
      "--------------------------------------------------Fitting Fama-French Factor Model--------------------------------------------------\n",
      "--------------------------------------------------Done!--------------------------------------------------\n"
     ]
    },
    {
     "name": "stderr",
     "output_type": "stream",
     "text": [
      "/Users/souratoshkhan/CQF/BlPortfolioConstruction/blportopt/fama_french_model.py:205: FutureWarning: The default of observed=False is deprecated and will be changed to True in a future version of pandas. Pass observed=False to retain current behavior or observed=True to adopt the future default and silence this warning.\n",
      "  rolling_betas.groupby([\"Group\"])[self.rf_col].hist(bins=100, density=True, legend=True)\n",
      "/Users/souratoshkhan/CQF/BlPortfolioConstruction/blportopt/fama_french_model.py:226: FutureWarning: The default of observed=False is deprecated and will be changed to True in a future version of pandas. Pass observed=False to retain current behavior or observed=True to adopt the future default and silence this warning.\n",
      "  rolling_betas.groupby([\"Group\"])[factor].hist(bins=100, density=True, ax=ax, figsize=(10, 10), legend=True)\n"
     ]
    },
    {
     "name": "stdout",
     "output_type": "stream",
     "text": [
      "--------------------------------------------------Rolling Estimates of Sensitivity Factors for JNJ--------------------------------------------------\n",
      "--------------------------------------------------Done!--------------------------------------------------\n",
      "--------------------------------------------------Fitting Fama-French Factor Model--------------------------------------------------\n",
      "--------------------------------------------------Done!--------------------------------------------------\n"
     ]
    },
    {
     "name": "stderr",
     "output_type": "stream",
     "text": [
      "/Users/souratoshkhan/CQF/BlPortfolioConstruction/blportopt/fama_french_model.py:205: FutureWarning: The default of observed=False is deprecated and will be changed to True in a future version of pandas. Pass observed=False to retain current behavior or observed=True to adopt the future default and silence this warning.\n",
      "  rolling_betas.groupby([\"Group\"])[self.rf_col].hist(bins=100, density=True, legend=True)\n",
      "/Users/souratoshkhan/CQF/BlPortfolioConstruction/blportopt/fama_french_model.py:226: FutureWarning: The default of observed=False is deprecated and will be changed to True in a future version of pandas. Pass observed=False to retain current behavior or observed=True to adopt the future default and silence this warning.\n",
      "  rolling_betas.groupby([\"Group\"])[factor].hist(bins=100, density=True, ax=ax, figsize=(10, 10), legend=True)\n"
     ]
    },
    {
     "name": "stdout",
     "output_type": "stream",
     "text": [
      "--------------------------------------------------Rolling Estimates of Sensitivity Factors for WHR--------------------------------------------------\n",
      "--------------------------------------------------Done!--------------------------------------------------\n",
      "--------------------------------------------------Fitting Fama-French Factor Model--------------------------------------------------\n",
      "--------------------------------------------------Done!--------------------------------------------------\n"
     ]
    },
    {
     "name": "stderr",
     "output_type": "stream",
     "text": [
      "/Users/souratoshkhan/CQF/BlPortfolioConstruction/blportopt/fama_french_model.py:205: FutureWarning: The default of observed=False is deprecated and will be changed to True in a future version of pandas. Pass observed=False to retain current behavior or observed=True to adopt the future default and silence this warning.\n",
      "  rolling_betas.groupby([\"Group\"])[self.rf_col].hist(bins=100, density=True, legend=True)\n",
      "/Users/souratoshkhan/CQF/BlPortfolioConstruction/blportopt/fama_french_model.py:226: FutureWarning: The default of observed=False is deprecated and will be changed to True in a future version of pandas. Pass observed=False to retain current behavior or observed=True to adopt the future default and silence this warning.\n",
      "  rolling_betas.groupby([\"Group\"])[factor].hist(bins=100, density=True, ax=ax, figsize=(10, 10), legend=True)\n"
     ]
    },
    {
     "name": "stdout",
     "output_type": "stream",
     "text": [
      "--------------------------------------------------Rolling Estimates of Sensitivity Factors for MMM--------------------------------------------------\n",
      "--------------------------------------------------Done!--------------------------------------------------\n",
      "--------------------------------------------------Fitting Fama-French Factor Model--------------------------------------------------\n",
      "--------------------------------------------------Done!--------------------------------------------------\n"
     ]
    },
    {
     "name": "stderr",
     "output_type": "stream",
     "text": [
      "/Users/souratoshkhan/CQF/BlPortfolioConstruction/blportopt/fama_french_model.py:205: FutureWarning: The default of observed=False is deprecated and will be changed to True in a future version of pandas. Pass observed=False to retain current behavior or observed=True to adopt the future default and silence this warning.\n",
      "  rolling_betas.groupby([\"Group\"])[self.rf_col].hist(bins=100, density=True, legend=True)\n",
      "/Users/souratoshkhan/CQF/BlPortfolioConstruction/blportopt/fama_french_model.py:226: FutureWarning: The default of observed=False is deprecated and will be changed to True in a future version of pandas. Pass observed=False to retain current behavior or observed=True to adopt the future default and silence this warning.\n",
      "  rolling_betas.groupby([\"Group\"])[factor].hist(bins=100, density=True, ax=ax, figsize=(10, 10), legend=True)\n"
     ]
    },
    {
     "name": "stdout",
     "output_type": "stream",
     "text": [
      "--------------------------------------------------Rolling Estimates of Sensitivity Factors for GIS--------------------------------------------------\n",
      "--------------------------------------------------Done!--------------------------------------------------\n",
      "--------------------------------------------------Fitting Fama-French Factor Model--------------------------------------------------\n",
      "--------------------------------------------------Done!--------------------------------------------------\n"
     ]
    },
    {
     "name": "stderr",
     "output_type": "stream",
     "text": [
      "/Users/souratoshkhan/CQF/BlPortfolioConstruction/blportopt/fama_french_model.py:205: FutureWarning: The default of observed=False is deprecated and will be changed to True in a future version of pandas. Pass observed=False to retain current behavior or observed=True to adopt the future default and silence this warning.\n",
      "  rolling_betas.groupby([\"Group\"])[self.rf_col].hist(bins=100, density=True, legend=True)\n",
      "/Users/souratoshkhan/CQF/BlPortfolioConstruction/blportopt/fama_french_model.py:226: FutureWarning: The default of observed=False is deprecated and will be changed to True in a future version of pandas. Pass observed=False to retain current behavior or observed=True to adopt the future default and silence this warning.\n",
      "  rolling_betas.groupby([\"Group\"])[factor].hist(bins=100, density=True, ax=ax, figsize=(10, 10), legend=True)\n"
     ]
    },
    {
     "name": "stdout",
     "output_type": "stream",
     "text": [
      "--------------------------------------------------Rolling Estimates of Sensitivity Factors for AAPL--------------------------------------------------\n",
      "--------------------------------------------------Done!--------------------------------------------------\n",
      "--------------------------------------------------Fitting Fama-French Factor Model--------------------------------------------------\n",
      "--------------------------------------------------Done!--------------------------------------------------\n"
     ]
    },
    {
     "name": "stderr",
     "output_type": "stream",
     "text": [
      "/Users/souratoshkhan/CQF/BlPortfolioConstruction/blportopt/fama_french_model.py:205: FutureWarning: The default of observed=False is deprecated and will be changed to True in a future version of pandas. Pass observed=False to retain current behavior or observed=True to adopt the future default and silence this warning.\n",
      "  rolling_betas.groupby([\"Group\"])[self.rf_col].hist(bins=100, density=True, legend=True)\n",
      "/Users/souratoshkhan/CQF/BlPortfolioConstruction/blportopt/fama_french_model.py:226: FutureWarning: The default of observed=False is deprecated and will be changed to True in a future version of pandas. Pass observed=False to retain current behavior or observed=True to adopt the future default and silence this warning.\n",
      "  rolling_betas.groupby([\"Group\"])[factor].hist(bins=100, density=True, ax=ax, figsize=(10, 10), legend=True)\n"
     ]
    },
    {
     "name": "stdout",
     "output_type": "stream",
     "text": [
      "--------------------------------------------------Rolling Estimates of Sensitivity Factors for IBM--------------------------------------------------\n",
      "--------------------------------------------------Done!--------------------------------------------------\n",
      "--------------------------------------------------Fitting Fama-French Factor Model--------------------------------------------------\n",
      "--------------------------------------------------Done!--------------------------------------------------\n"
     ]
    },
    {
     "name": "stderr",
     "output_type": "stream",
     "text": [
      "/Users/souratoshkhan/CQF/BlPortfolioConstruction/blportopt/fama_french_model.py:205: FutureWarning: The default of observed=False is deprecated and will be changed to True in a future version of pandas. Pass observed=False to retain current behavior or observed=True to adopt the future default and silence this warning.\n",
      "  rolling_betas.groupby([\"Group\"])[self.rf_col].hist(bins=100, density=True, legend=True)\n",
      "/Users/souratoshkhan/CQF/BlPortfolioConstruction/blportopt/fama_french_model.py:226: FutureWarning: The default of observed=False is deprecated and will be changed to True in a future version of pandas. Pass observed=False to retain current behavior or observed=True to adopt the future default and silence this warning.\n",
      "  rolling_betas.groupby([\"Group\"])[factor].hist(bins=100, density=True, ax=ax, figsize=(10, 10), legend=True)\n"
     ]
    },
    {
     "name": "stdout",
     "output_type": "stream",
     "text": [
      "--------------------------------------------------Rolling Estimates of Sensitivity Factors for PG--------------------------------------------------\n",
      "--------------------------------------------------Done!--------------------------------------------------\n",
      "--------------------------------------------------Fitting Fama-French Factor Model--------------------------------------------------\n",
      "--------------------------------------------------Done!--------------------------------------------------\n"
     ]
    },
    {
     "name": "stderr",
     "output_type": "stream",
     "text": [
      "/Users/souratoshkhan/CQF/BlPortfolioConstruction/blportopt/fama_french_model.py:205: FutureWarning: The default of observed=False is deprecated and will be changed to True in a future version of pandas. Pass observed=False to retain current behavior or observed=True to adopt the future default and silence this warning.\n",
      "  rolling_betas.groupby([\"Group\"])[self.rf_col].hist(bins=100, density=True, legend=True)\n",
      "/Users/souratoshkhan/CQF/BlPortfolioConstruction/blportopt/fama_french_model.py:226: FutureWarning: The default of observed=False is deprecated and will be changed to True in a future version of pandas. Pass observed=False to retain current behavior or observed=True to adopt the future default and silence this warning.\n",
      "  rolling_betas.groupby([\"Group\"])[factor].hist(bins=100, density=True, ax=ax, figsize=(10, 10), legend=True)\n"
     ]
    },
    {
     "name": "stdout",
     "output_type": "stream",
     "text": [
      "--------------------------------------------------Rolling Estimates of Sensitivity Factors for GE--------------------------------------------------\n",
      "--------------------------------------------------Done!--------------------------------------------------\n",
      "--------------------------------------------------Fitting Fama-French Factor Model--------------------------------------------------\n",
      "--------------------------------------------------Done!--------------------------------------------------\n"
     ]
    },
    {
     "name": "stderr",
     "output_type": "stream",
     "text": [
      "/Users/souratoshkhan/CQF/BlPortfolioConstruction/blportopt/fama_french_model.py:205: FutureWarning: The default of observed=False is deprecated and will be changed to True in a future version of pandas. Pass observed=False to retain current behavior or observed=True to adopt the future default and silence this warning.\n",
      "  rolling_betas.groupby([\"Group\"])[self.rf_col].hist(bins=100, density=True, legend=True)\n",
      "/Users/souratoshkhan/CQF/BlPortfolioConstruction/blportopt/fama_french_model.py:226: FutureWarning: The default of observed=False is deprecated and will be changed to True in a future version of pandas. Pass observed=False to retain current behavior or observed=True to adopt the future default and silence this warning.\n",
      "  rolling_betas.groupby([\"Group\"])[factor].hist(bins=100, density=True, ax=ax, figsize=(10, 10), legend=True)\n"
     ]
    },
    {
     "name": "stdout",
     "output_type": "stream",
     "text": [
      "--------------------------------------------------Rolling Estimates of Sensitivity Factors for AMD--------------------------------------------------\n",
      "--------------------------------------------------Done!--------------------------------------------------\n",
      "--------------------------------------------------Fitting Fama-French Factor Model--------------------------------------------------\n",
      "--------------------------------------------------Done!--------------------------------------------------\n"
     ]
    },
    {
     "name": "stderr",
     "output_type": "stream",
     "text": [
      "/Users/souratoshkhan/CQF/BlPortfolioConstruction/blportopt/fama_french_model.py:205: FutureWarning: The default of observed=False is deprecated and will be changed to True in a future version of pandas. Pass observed=False to retain current behavior or observed=True to adopt the future default and silence this warning.\n",
      "  rolling_betas.groupby([\"Group\"])[self.rf_col].hist(bins=100, density=True, legend=True)\n",
      "/Users/souratoshkhan/CQF/BlPortfolioConstruction/blportopt/fama_french_model.py:226: FutureWarning: The default of observed=False is deprecated and will be changed to True in a future version of pandas. Pass observed=False to retain current behavior or observed=True to adopt the future default and silence this warning.\n",
      "  rolling_betas.groupby([\"Group\"])[factor].hist(bins=100, density=True, ax=ax, figsize=(10, 10), legend=True)\n"
     ]
    },
    {
     "name": "stdout",
     "output_type": "stream",
     "text": [
      "--------------------------------------------------Rolling Estimates of Sensitivity Factors for WMT--------------------------------------------------\n",
      "--------------------------------------------------Done!--------------------------------------------------\n",
      "--------------------------------------------------Fitting Fama-French Factor Model--------------------------------------------------\n",
      "--------------------------------------------------Done!--------------------------------------------------\n"
     ]
    },
    {
     "name": "stderr",
     "output_type": "stream",
     "text": [
      "/Users/souratoshkhan/CQF/BlPortfolioConstruction/blportopt/fama_french_model.py:205: FutureWarning: The default of observed=False is deprecated and will be changed to True in a future version of pandas. Pass observed=False to retain current behavior or observed=True to adopt the future default and silence this warning.\n",
      "  rolling_betas.groupby([\"Group\"])[self.rf_col].hist(bins=100, density=True, legend=True)\n",
      "/Users/souratoshkhan/CQF/BlPortfolioConstruction/blportopt/fama_french_model.py:226: FutureWarning: The default of observed=False is deprecated and will be changed to True in a future version of pandas. Pass observed=False to retain current behavior or observed=True to adopt the future default and silence this warning.\n",
      "  rolling_betas.groupby([\"Group\"])[factor].hist(bins=100, density=True, ax=ax, figsize=(10, 10), legend=True)\n"
     ]
    },
    {
     "name": "stdout",
     "output_type": "stream",
     "text": [
      "--------------------------------------------------Rolling Estimates of Sensitivity Factors for BAC--------------------------------------------------\n",
      "--------------------------------------------------Done!--------------------------------------------------\n",
      "--------------------------------------------------Fitting Fama-French Factor Model--------------------------------------------------\n",
      "--------------------------------------------------Done!--------------------------------------------------\n"
     ]
    },
    {
     "name": "stderr",
     "output_type": "stream",
     "text": [
      "/Users/souratoshkhan/CQF/BlPortfolioConstruction/blportopt/fama_french_model.py:205: FutureWarning: The default of observed=False is deprecated and will be changed to True in a future version of pandas. Pass observed=False to retain current behavior or observed=True to adopt the future default and silence this warning.\n",
      "  rolling_betas.groupby([\"Group\"])[self.rf_col].hist(bins=100, density=True, legend=True)\n",
      "/Users/souratoshkhan/CQF/BlPortfolioConstruction/blportopt/fama_french_model.py:226: FutureWarning: The default of observed=False is deprecated and will be changed to True in a future version of pandas. Pass observed=False to retain current behavior or observed=True to adopt the future default and silence this warning.\n",
      "  rolling_betas.groupby([\"Group\"])[factor].hist(bins=100, density=True, ax=ax, figsize=(10, 10), legend=True)\n"
     ]
    },
    {
     "name": "stdout",
     "output_type": "stream",
     "text": [
      "--------------------------------------------------Rolling Estimates of Sensitivity Factors for T--------------------------------------------------\n",
      "--------------------------------------------------Done!--------------------------------------------------\n",
      "--------------------------------------------------Fitting Fama-French Factor Model--------------------------------------------------\n",
      "--------------------------------------------------Done!--------------------------------------------------\n"
     ]
    },
    {
     "name": "stderr",
     "output_type": "stream",
     "text": [
      "/Users/souratoshkhan/CQF/BlPortfolioConstruction/blportopt/fama_french_model.py:205: FutureWarning: The default of observed=False is deprecated and will be changed to True in a future version of pandas. Pass observed=False to retain current behavior or observed=True to adopt the future default and silence this warning.\n",
      "  rolling_betas.groupby([\"Group\"])[self.rf_col].hist(bins=100, density=True, legend=True)\n",
      "/Users/souratoshkhan/CQF/BlPortfolioConstruction/blportopt/fama_french_model.py:226: FutureWarning: The default of observed=False is deprecated and will be changed to True in a future version of pandas. Pass observed=False to retain current behavior or observed=True to adopt the future default and silence this warning.\n",
      "  rolling_betas.groupby([\"Group\"])[factor].hist(bins=100, density=True, ax=ax, figsize=(10, 10), legend=True)\n"
     ]
    },
    {
     "name": "stdout",
     "output_type": "stream",
     "text": [
      "--------------------------------------------------Rolling Estimates of Sensitivity Factors for XOM--------------------------------------------------\n",
      "--------------------------------------------------Done!--------------------------------------------------\n",
      "--------------------------------------------------Fitting Fama-French Factor Model--------------------------------------------------\n",
      "--------------------------------------------------Done!--------------------------------------------------\n"
     ]
    },
    {
     "name": "stderr",
     "output_type": "stream",
     "text": [
      "/Users/souratoshkhan/CQF/BlPortfolioConstruction/blportopt/fama_french_model.py:205: FutureWarning: The default of observed=False is deprecated and will be changed to True in a future version of pandas. Pass observed=False to retain current behavior or observed=True to adopt the future default and silence this warning.\n",
      "  rolling_betas.groupby([\"Group\"])[self.rf_col].hist(bins=100, density=True, legend=True)\n",
      "/Users/souratoshkhan/CQF/BlPortfolioConstruction/blportopt/fama_french_model.py:226: FutureWarning: The default of observed=False is deprecated and will be changed to True in a future version of pandas. Pass observed=False to retain current behavior or observed=True to adopt the future default and silence this warning.\n",
      "  rolling_betas.groupby([\"Group\"])[factor].hist(bins=100, density=True, ax=ax, figsize=(10, 10), legend=True)\n"
     ]
    },
    {
     "name": "stdout",
     "output_type": "stream",
     "text": [
      "--------------------------------------------------Rolling Estimates of Sensitivity Factors for RRC--------------------------------------------------\n",
      "--------------------------------------------------Done!--------------------------------------------------\n",
      "--------------------------------------------------Fitting Fama-French Factor Model--------------------------------------------------\n",
      "--------------------------------------------------Done!--------------------------------------------------\n"
     ]
    },
    {
     "name": "stderr",
     "output_type": "stream",
     "text": [
      "/Users/souratoshkhan/CQF/BlPortfolioConstruction/blportopt/fama_french_model.py:205: FutureWarning: The default of observed=False is deprecated and will be changed to True in a future version of pandas. Pass observed=False to retain current behavior or observed=True to adopt the future default and silence this warning.\n",
      "  rolling_betas.groupby([\"Group\"])[self.rf_col].hist(bins=100, density=True, legend=True)\n",
      "/Users/souratoshkhan/CQF/BlPortfolioConstruction/blportopt/fama_french_model.py:226: FutureWarning: The default of observed=False is deprecated and will be changed to True in a future version of pandas. Pass observed=False to retain current behavior or observed=True to adopt the future default and silence this warning.\n",
      "  rolling_betas.groupby([\"Group\"])[factor].hist(bins=100, density=True, ax=ax, figsize=(10, 10), legend=True)\n"
     ]
    },
    {
     "name": "stdout",
     "output_type": "stream",
     "text": [
      "--------------------------------------------------Rolling Estimates of Sensitivity Factors for BBY--------------------------------------------------\n",
      "--------------------------------------------------Done!--------------------------------------------------\n",
      "--------------------------------------------------Fitting Fama-French Factor Model--------------------------------------------------\n",
      "--------------------------------------------------Done!--------------------------------------------------\n"
     ]
    },
    {
     "name": "stderr",
     "output_type": "stream",
     "text": [
      "/Users/souratoshkhan/CQF/BlPortfolioConstruction/blportopt/fama_french_model.py:205: FutureWarning: The default of observed=False is deprecated and will be changed to True in a future version of pandas. Pass observed=False to retain current behavior or observed=True to adopt the future default and silence this warning.\n",
      "  rolling_betas.groupby([\"Group\"])[self.rf_col].hist(bins=100, density=True, legend=True)\n",
      "/Users/souratoshkhan/CQF/BlPortfolioConstruction/blportopt/fama_french_model.py:226: FutureWarning: The default of observed=False is deprecated and will be changed to True in a future version of pandas. Pass observed=False to retain current behavior or observed=True to adopt the future default and silence this warning.\n",
      "  rolling_betas.groupby([\"Group\"])[factor].hist(bins=100, density=True, ax=ax, figsize=(10, 10), legend=True)\n"
     ]
    },
    {
     "name": "stdout",
     "output_type": "stream",
     "text": [
      "--------------------------------------------------Rolling Estimates of Sensitivity Factors for PFE--------------------------------------------------\n",
      "--------------------------------------------------Done!--------------------------------------------------\n",
      "--------------------------------------------------Fitting Fama-French Factor Model--------------------------------------------------\n",
      "--------------------------------------------------Done!--------------------------------------------------\n"
     ]
    },
    {
     "name": "stderr",
     "output_type": "stream",
     "text": [
      "/Users/souratoshkhan/CQF/BlPortfolioConstruction/blportopt/fama_french_model.py:205: FutureWarning: The default of observed=False is deprecated and will be changed to True in a future version of pandas. Pass observed=False to retain current behavior or observed=True to adopt the future default and silence this warning.\n",
      "  rolling_betas.groupby([\"Group\"])[self.rf_col].hist(bins=100, density=True, legend=True)\n",
      "/Users/souratoshkhan/CQF/BlPortfolioConstruction/blportopt/fama_french_model.py:226: FutureWarning: The default of observed=False is deprecated and will be changed to True in a future version of pandas. Pass observed=False to retain current behavior or observed=True to adopt the future default and silence this warning.\n",
      "  rolling_betas.groupby([\"Group\"])[factor].hist(bins=100, density=True, ax=ax, figsize=(10, 10), legend=True)\n"
     ]
    },
    {
     "name": "stdout",
     "output_type": "stream",
     "text": [
      "--------------------------------------------------Rolling Estimates of Sensitivity Factors for JPM--------------------------------------------------\n",
      "--------------------------------------------------Done!--------------------------------------------------\n",
      "--------------------------------------------------Fitting Fama-French Factor Model--------------------------------------------------\n",
      "--------------------------------------------------Done!--------------------------------------------------\n"
     ]
    },
    {
     "name": "stderr",
     "output_type": "stream",
     "text": [
      "/Users/souratoshkhan/CQF/BlPortfolioConstruction/blportopt/fama_french_model.py:205: FutureWarning: The default of observed=False is deprecated and will be changed to True in a future version of pandas. Pass observed=False to retain current behavior or observed=True to adopt the future default and silence this warning.\n",
      "  rolling_betas.groupby([\"Group\"])[self.rf_col].hist(bins=100, density=True, legend=True)\n",
      "/Users/souratoshkhan/CQF/BlPortfolioConstruction/blportopt/fama_french_model.py:226: FutureWarning: The default of observed=False is deprecated and will be changed to True in a future version of pandas. Pass observed=False to retain current behavior or observed=True to adopt the future default and silence this warning.\n",
      "  rolling_betas.groupby([\"Group\"])[factor].hist(bins=100, density=True, ax=ax, figsize=(10, 10), legend=True)\n"
     ]
    },
    {
     "name": "stdout",
     "output_type": "stream",
     "text": [
      "--------------------------------------------------Rolling Estimates of Sensitivity Factors for C--------------------------------------------------\n",
      "--------------------------------------------------Done!--------------------------------------------------\n",
      "--------------------------------------------------Fitting Fama-French Factor Model--------------------------------------------------\n",
      "--------------------------------------------------Done!--------------------------------------------------\n"
     ]
    },
    {
     "name": "stderr",
     "output_type": "stream",
     "text": [
      "/Users/souratoshkhan/CQF/BlPortfolioConstruction/blportopt/fama_french_model.py:205: FutureWarning: The default of observed=False is deprecated and will be changed to True in a future version of pandas. Pass observed=False to retain current behavior or observed=True to adopt the future default and silence this warning.\n",
      "  rolling_betas.groupby([\"Group\"])[self.rf_col].hist(bins=100, density=True, legend=True)\n",
      "/Users/souratoshkhan/CQF/BlPortfolioConstruction/blportopt/fama_french_model.py:226: FutureWarning: The default of observed=False is deprecated and will be changed to True in a future version of pandas. Pass observed=False to retain current behavior or observed=True to adopt the future default and silence this warning.\n",
      "  rolling_betas.groupby([\"Group\"])[factor].hist(bins=100, density=True, ax=ax, figsize=(10, 10), legend=True)\n"
     ]
    },
    {
     "name": "stdout",
     "output_type": "stream",
     "text": [
      "--------------------------------------------------Rolling Estimates of Sensitivity Factors for MCD--------------------------------------------------\n",
      "--------------------------------------------------Done!--------------------------------------------------\n",
      "--------------------------------------------------Fitting Fama-French Factor Model--------------------------------------------------\n",
      "--------------------------------------------------Done!--------------------------------------------------\n"
     ]
    },
    {
     "name": "stderr",
     "output_type": "stream",
     "text": [
      "/Users/souratoshkhan/CQF/BlPortfolioConstruction/blportopt/fama_french_model.py:205: FutureWarning: The default of observed=False is deprecated and will be changed to True in a future version of pandas. Pass observed=False to retain current behavior or observed=True to adopt the future default and silence this warning.\n",
      "  rolling_betas.groupby([\"Group\"])[self.rf_col].hist(bins=100, density=True, legend=True)\n",
      "/Users/souratoshkhan/CQF/BlPortfolioConstruction/blportopt/fama_french_model.py:226: FutureWarning: The default of observed=False is deprecated and will be changed to True in a future version of pandas. Pass observed=False to retain current behavior or observed=True to adopt the future default and silence this warning.\n",
      "  rolling_betas.groupby([\"Group\"])[factor].hist(bins=100, density=True, ax=ax, figsize=(10, 10), legend=True)\n"
     ]
    },
    {
     "name": "stdout",
     "output_type": "stream",
     "text": [
      "--------------------------------------------------Rolling Estimates of Sensitivity Factors for KO--------------------------------------------------\n",
      "--------------------------------------------------Done!--------------------------------------------------\n",
      "--------------------------------------------------Fitting Fama-French Factor Model--------------------------------------------------\n",
      "--------------------------------------------------Done!--------------------------------------------------\n"
     ]
    },
    {
     "name": "stderr",
     "output_type": "stream",
     "text": [
      "/Users/souratoshkhan/CQF/BlPortfolioConstruction/blportopt/fama_french_model.py:205: FutureWarning: The default of observed=False is deprecated and will be changed to True in a future version of pandas. Pass observed=False to retain current behavior or observed=True to adopt the future default and silence this warning.\n",
      "  rolling_betas.groupby([\"Group\"])[self.rf_col].hist(bins=100, density=True, legend=True)\n",
      "/Users/souratoshkhan/CQF/BlPortfolioConstruction/blportopt/fama_french_model.py:226: FutureWarning: The default of observed=False is deprecated and will be changed to True in a future version of pandas. Pass observed=False to retain current behavior or observed=True to adopt the future default and silence this warning.\n",
      "  rolling_betas.groupby([\"Group\"])[factor].hist(bins=100, density=True, ax=ax, figsize=(10, 10), legend=True)\n"
     ]
    },
    {
     "name": "stdout",
     "output_type": "stream",
     "text": [
      "--------------------------------------------------Rolling Estimates of Sensitivity Factors for JNJ--------------------------------------------------\n",
      "--------------------------------------------------Done!--------------------------------------------------\n",
      "--------------------------------------------------Fitting Fama-French Factor Model--------------------------------------------------\n",
      "--------------------------------------------------Done!--------------------------------------------------\n"
     ]
    },
    {
     "name": "stderr",
     "output_type": "stream",
     "text": [
      "/Users/souratoshkhan/CQF/BlPortfolioConstruction/blportopt/fama_french_model.py:205: FutureWarning: The default of observed=False is deprecated and will be changed to True in a future version of pandas. Pass observed=False to retain current behavior or observed=True to adopt the future default and silence this warning.\n",
      "  rolling_betas.groupby([\"Group\"])[self.rf_col].hist(bins=100, density=True, legend=True)\n",
      "/Users/souratoshkhan/CQF/BlPortfolioConstruction/blportopt/fama_french_model.py:226: FutureWarning: The default of observed=False is deprecated and will be changed to True in a future version of pandas. Pass observed=False to retain current behavior or observed=True to adopt the future default and silence this warning.\n",
      "  rolling_betas.groupby([\"Group\"])[factor].hist(bins=100, density=True, ax=ax, figsize=(10, 10), legend=True)\n"
     ]
    },
    {
     "name": "stdout",
     "output_type": "stream",
     "text": [
      "--------------------------------------------------Rolling Estimates of Sensitivity Factors for WHR--------------------------------------------------\n",
      "--------------------------------------------------Done!--------------------------------------------------\n",
      "--------------------------------------------------Fitting Fama-French Factor Model--------------------------------------------------\n",
      "--------------------------------------------------Done!--------------------------------------------------\n"
     ]
    },
    {
     "name": "stderr",
     "output_type": "stream",
     "text": [
      "/Users/souratoshkhan/CQF/BlPortfolioConstruction/blportopt/fama_french_model.py:205: FutureWarning: The default of observed=False is deprecated and will be changed to True in a future version of pandas. Pass observed=False to retain current behavior or observed=True to adopt the future default and silence this warning.\n",
      "  rolling_betas.groupby([\"Group\"])[self.rf_col].hist(bins=100, density=True, legend=True)\n",
      "/Users/souratoshkhan/CQF/BlPortfolioConstruction/blportopt/fama_french_model.py:226: FutureWarning: The default of observed=False is deprecated and will be changed to True in a future version of pandas. Pass observed=False to retain current behavior or observed=True to adopt the future default and silence this warning.\n",
      "  rolling_betas.groupby([\"Group\"])[factor].hist(bins=100, density=True, ax=ax, figsize=(10, 10), legend=True)\n"
     ]
    },
    {
     "name": "stdout",
     "output_type": "stream",
     "text": [
      "--------------------------------------------------Rolling Estimates of Sensitivity Factors for MMM--------------------------------------------------\n",
      "--------------------------------------------------Done!--------------------------------------------------\n",
      "--------------------------------------------------Fitting Fama-French Factor Model--------------------------------------------------\n",
      "--------------------------------------------------Done!--------------------------------------------------\n"
     ]
    },
    {
     "name": "stderr",
     "output_type": "stream",
     "text": [
      "/Users/souratoshkhan/CQF/BlPortfolioConstruction/blportopt/fama_french_model.py:205: FutureWarning: The default of observed=False is deprecated and will be changed to True in a future version of pandas. Pass observed=False to retain current behavior or observed=True to adopt the future default and silence this warning.\n",
      "  rolling_betas.groupby([\"Group\"])[self.rf_col].hist(bins=100, density=True, legend=True)\n",
      "/Users/souratoshkhan/CQF/BlPortfolioConstruction/blportopt/fama_french_model.py:226: FutureWarning: The default of observed=False is deprecated and will be changed to True in a future version of pandas. Pass observed=False to retain current behavior or observed=True to adopt the future default and silence this warning.\n",
      "  rolling_betas.groupby([\"Group\"])[factor].hist(bins=100, density=True, ax=ax, figsize=(10, 10), legend=True)\n"
     ]
    },
    {
     "name": "stdout",
     "output_type": "stream",
     "text": [
      "--------------------------------------------------Rolling Estimates of Sensitivity Factors for GIS--------------------------------------------------\n",
      "--------------------------------------------------Done!--------------------------------------------------\n",
      "--------------------------------------------------Fitting Fama-French Factor Model--------------------------------------------------\n",
      "--------------------------------------------------Done!--------------------------------------------------\n"
     ]
    },
    {
     "name": "stderr",
     "output_type": "stream",
     "text": [
      "/Users/souratoshkhan/CQF/BlPortfolioConstruction/blportopt/fama_french_model.py:205: FutureWarning: The default of observed=False is deprecated and will be changed to True in a future version of pandas. Pass observed=False to retain current behavior or observed=True to adopt the future default and silence this warning.\n",
      "  rolling_betas.groupby([\"Group\"])[self.rf_col].hist(bins=100, density=True, legend=True)\n",
      "/Users/souratoshkhan/CQF/BlPortfolioConstruction/blportopt/fama_french_model.py:226: FutureWarning: The default of observed=False is deprecated and will be changed to True in a future version of pandas. Pass observed=False to retain current behavior or observed=True to adopt the future default and silence this warning.\n",
      "  rolling_betas.groupby([\"Group\"])[factor].hist(bins=100, density=True, ax=ax, figsize=(10, 10), legend=True)\n"
     ]
    },
    {
     "name": "stdout",
     "output_type": "stream",
     "text": [
      "--------------------------------------------------Rolling Estimates of Sensitivity Factors for AAPL--------------------------------------------------\n",
      "--------------------------------------------------Done!--------------------------------------------------\n",
      "--------------------------------------------------Fitting Fama-French Factor Model--------------------------------------------------\n",
      "--------------------------------------------------Done!--------------------------------------------------\n"
     ]
    },
    {
     "name": "stderr",
     "output_type": "stream",
     "text": [
      "/Users/souratoshkhan/CQF/BlPortfolioConstruction/blportopt/fama_french_model.py:205: FutureWarning: The default of observed=False is deprecated and will be changed to True in a future version of pandas. Pass observed=False to retain current behavior or observed=True to adopt the future default and silence this warning.\n",
      "  rolling_betas.groupby([\"Group\"])[self.rf_col].hist(bins=100, density=True, legend=True)\n",
      "/Users/souratoshkhan/CQF/BlPortfolioConstruction/blportopt/fama_french_model.py:226: FutureWarning: The default of observed=False is deprecated and will be changed to True in a future version of pandas. Pass observed=False to retain current behavior or observed=True to adopt the future default and silence this warning.\n",
      "  rolling_betas.groupby([\"Group\"])[factor].hist(bins=100, density=True, ax=ax, figsize=(10, 10), legend=True)\n"
     ]
    },
    {
     "name": "stdout",
     "output_type": "stream",
     "text": [
      "--------------------------------------------------Rolling Estimates of Sensitivity Factors for IBM--------------------------------------------------\n",
      "--------------------------------------------------Done!--------------------------------------------------\n",
      "--------------------------------------------------Fitting Fama-French Factor Model--------------------------------------------------\n",
      "--------------------------------------------------Done!--------------------------------------------------\n"
     ]
    },
    {
     "name": "stderr",
     "output_type": "stream",
     "text": [
      "/Users/souratoshkhan/CQF/BlPortfolioConstruction/blportopt/fama_french_model.py:205: FutureWarning: The default of observed=False is deprecated and will be changed to True in a future version of pandas. Pass observed=False to retain current behavior or observed=True to adopt the future default and silence this warning.\n",
      "  rolling_betas.groupby([\"Group\"])[self.rf_col].hist(bins=100, density=True, legend=True)\n",
      "/Users/souratoshkhan/CQF/BlPortfolioConstruction/blportopt/fama_french_model.py:226: FutureWarning: The default of observed=False is deprecated and will be changed to True in a future version of pandas. Pass observed=False to retain current behavior or observed=True to adopt the future default and silence this warning.\n",
      "  rolling_betas.groupby([\"Group\"])[factor].hist(bins=100, density=True, ax=ax, figsize=(10, 10), legend=True)\n"
     ]
    },
    {
     "name": "stdout",
     "output_type": "stream",
     "text": [
      "--------------------------------------------------Rolling Estimates of Sensitivity Factors for PG--------------------------------------------------\n",
      "--------------------------------------------------Done!--------------------------------------------------\n",
      "--------------------------------------------------Fitting Fama-French Factor Model--------------------------------------------------\n",
      "--------------------------------------------------Done!--------------------------------------------------\n"
     ]
    },
    {
     "name": "stderr",
     "output_type": "stream",
     "text": [
      "/Users/souratoshkhan/CQF/BlPortfolioConstruction/blportopt/fama_french_model.py:205: FutureWarning: The default of observed=False is deprecated and will be changed to True in a future version of pandas. Pass observed=False to retain current behavior or observed=True to adopt the future default and silence this warning.\n",
      "  rolling_betas.groupby([\"Group\"])[self.rf_col].hist(bins=100, density=True, legend=True)\n",
      "/Users/souratoshkhan/CQF/BlPortfolioConstruction/blportopt/fama_french_model.py:226: FutureWarning: The default of observed=False is deprecated and will be changed to True in a future version of pandas. Pass observed=False to retain current behavior or observed=True to adopt the future default and silence this warning.\n",
      "  rolling_betas.groupby([\"Group\"])[factor].hist(bins=100, density=True, ax=ax, figsize=(10, 10), legend=True)\n"
     ]
    },
    {
     "name": "stdout",
     "output_type": "stream",
     "text": [
      "--------------------------------------------------Rolling Estimates of Sensitivity Factors for GE--------------------------------------------------\n",
      "--------------------------------------------------Done!--------------------------------------------------\n",
      "--------------------------------------------------Fitting Fama-French Factor Model--------------------------------------------------\n",
      "--------------------------------------------------Done!--------------------------------------------------\n"
     ]
    },
    {
     "name": "stderr",
     "output_type": "stream",
     "text": [
      "/Users/souratoshkhan/CQF/BlPortfolioConstruction/blportopt/fama_french_model.py:205: FutureWarning: The default of observed=False is deprecated and will be changed to True in a future version of pandas. Pass observed=False to retain current behavior or observed=True to adopt the future default and silence this warning.\n",
      "  rolling_betas.groupby([\"Group\"])[self.rf_col].hist(bins=100, density=True, legend=True)\n",
      "/Users/souratoshkhan/CQF/BlPortfolioConstruction/blportopt/fama_french_model.py:226: FutureWarning: The default of observed=False is deprecated and will be changed to True in a future version of pandas. Pass observed=False to retain current behavior or observed=True to adopt the future default and silence this warning.\n",
      "  rolling_betas.groupby([\"Group\"])[factor].hist(bins=100, density=True, ax=ax, figsize=(10, 10), legend=True)\n"
     ]
    },
    {
     "name": "stdout",
     "output_type": "stream",
     "text": [
      "--------------------------------------------------Rolling Estimates of Sensitivity Factors for AMD--------------------------------------------------\n",
      "--------------------------------------------------Done!--------------------------------------------------\n",
      "--------------------------------------------------Fitting Fama-French Factor Model--------------------------------------------------\n",
      "--------------------------------------------------Done!--------------------------------------------------\n"
     ]
    },
    {
     "name": "stderr",
     "output_type": "stream",
     "text": [
      "/Users/souratoshkhan/CQF/BlPortfolioConstruction/blportopt/fama_french_model.py:205: FutureWarning: The default of observed=False is deprecated and will be changed to True in a future version of pandas. Pass observed=False to retain current behavior or observed=True to adopt the future default and silence this warning.\n",
      "  rolling_betas.groupby([\"Group\"])[self.rf_col].hist(bins=100, density=True, legend=True)\n",
      "/Users/souratoshkhan/CQF/BlPortfolioConstruction/blportopt/fama_french_model.py:226: FutureWarning: The default of observed=False is deprecated and will be changed to True in a future version of pandas. Pass observed=False to retain current behavior or observed=True to adopt the future default and silence this warning.\n",
      "  rolling_betas.groupby([\"Group\"])[factor].hist(bins=100, density=True, ax=ax, figsize=(10, 10), legend=True)\n"
     ]
    },
    {
     "name": "stdout",
     "output_type": "stream",
     "text": [
      "--------------------------------------------------Rolling Estimates of Sensitivity Factors for WMT--------------------------------------------------\n",
      "--------------------------------------------------Done!--------------------------------------------------\n",
      "--------------------------------------------------Fitting Fama-French Factor Model--------------------------------------------------\n",
      "--------------------------------------------------Done!--------------------------------------------------\n"
     ]
    },
    {
     "name": "stderr",
     "output_type": "stream",
     "text": [
      "/Users/souratoshkhan/CQF/BlPortfolioConstruction/blportopt/fama_french_model.py:205: FutureWarning: The default of observed=False is deprecated and will be changed to True in a future version of pandas. Pass observed=False to retain current behavior or observed=True to adopt the future default and silence this warning.\n",
      "  rolling_betas.groupby([\"Group\"])[self.rf_col].hist(bins=100, density=True, legend=True)\n",
      "/Users/souratoshkhan/CQF/BlPortfolioConstruction/blportopt/fama_french_model.py:226: FutureWarning: The default of observed=False is deprecated and will be changed to True in a future version of pandas. Pass observed=False to retain current behavior or observed=True to adopt the future default and silence this warning.\n",
      "  rolling_betas.groupby([\"Group\"])[factor].hist(bins=100, density=True, ax=ax, figsize=(10, 10), legend=True)\n"
     ]
    },
    {
     "name": "stdout",
     "output_type": "stream",
     "text": [
      "--------------------------------------------------Rolling Estimates of Sensitivity Factors for BAC--------------------------------------------------\n",
      "--------------------------------------------------Done!--------------------------------------------------\n",
      "--------------------------------------------------Fitting Fama-French Factor Model--------------------------------------------------\n",
      "--------------------------------------------------Done!--------------------------------------------------\n"
     ]
    },
    {
     "name": "stderr",
     "output_type": "stream",
     "text": [
      "/Users/souratoshkhan/CQF/BlPortfolioConstruction/blportopt/fama_french_model.py:205: FutureWarning: The default of observed=False is deprecated and will be changed to True in a future version of pandas. Pass observed=False to retain current behavior or observed=True to adopt the future default and silence this warning.\n",
      "  rolling_betas.groupby([\"Group\"])[self.rf_col].hist(bins=100, density=True, legend=True)\n",
      "/Users/souratoshkhan/CQF/BlPortfolioConstruction/blportopt/fama_french_model.py:226: FutureWarning: The default of observed=False is deprecated and will be changed to True in a future version of pandas. Pass observed=False to retain current behavior or observed=True to adopt the future default and silence this warning.\n",
      "  rolling_betas.groupby([\"Group\"])[factor].hist(bins=100, density=True, ax=ax, figsize=(10, 10), legend=True)\n"
     ]
    },
    {
     "name": "stdout",
     "output_type": "stream",
     "text": [
      "--------------------------------------------------Rolling Estimates of Sensitivity Factors for T--------------------------------------------------\n",
      "--------------------------------------------------Done!--------------------------------------------------\n",
      "--------------------------------------------------Fitting Fama-French Factor Model--------------------------------------------------\n",
      "--------------------------------------------------Done!--------------------------------------------------\n"
     ]
    },
    {
     "name": "stderr",
     "output_type": "stream",
     "text": [
      "/Users/souratoshkhan/CQF/BlPortfolioConstruction/blportopt/fama_french_model.py:205: FutureWarning: The default of observed=False is deprecated and will be changed to True in a future version of pandas. Pass observed=False to retain current behavior or observed=True to adopt the future default and silence this warning.\n",
      "  rolling_betas.groupby([\"Group\"])[self.rf_col].hist(bins=100, density=True, legend=True)\n",
      "/Users/souratoshkhan/CQF/BlPortfolioConstruction/blportopt/fama_french_model.py:226: FutureWarning: The default of observed=False is deprecated and will be changed to True in a future version of pandas. Pass observed=False to retain current behavior or observed=True to adopt the future default and silence this warning.\n",
      "  rolling_betas.groupby([\"Group\"])[factor].hist(bins=100, density=True, ax=ax, figsize=(10, 10), legend=True)\n"
     ]
    },
    {
     "name": "stdout",
     "output_type": "stream",
     "text": [
      "--------------------------------------------------Rolling Estimates of Sensitivity Factors for XOM--------------------------------------------------\n",
      "--------------------------------------------------Done!--------------------------------------------------\n",
      "--------------------------------------------------Fitting Fama-French Factor Model--------------------------------------------------\n",
      "--------------------------------------------------Done!--------------------------------------------------\n"
     ]
    },
    {
     "name": "stderr",
     "output_type": "stream",
     "text": [
      "/Users/souratoshkhan/CQF/BlPortfolioConstruction/blportopt/fama_french_model.py:205: FutureWarning: The default of observed=False is deprecated and will be changed to True in a future version of pandas. Pass observed=False to retain current behavior or observed=True to adopt the future default and silence this warning.\n",
      "  rolling_betas.groupby([\"Group\"])[self.rf_col].hist(bins=100, density=True, legend=True)\n",
      "/Users/souratoshkhan/CQF/BlPortfolioConstruction/blportopt/fama_french_model.py:226: FutureWarning: The default of observed=False is deprecated and will be changed to True in a future version of pandas. Pass observed=False to retain current behavior or observed=True to adopt the future default and silence this warning.\n",
      "  rolling_betas.groupby([\"Group\"])[factor].hist(bins=100, density=True, ax=ax, figsize=(10, 10), legend=True)\n"
     ]
    },
    {
     "name": "stdout",
     "output_type": "stream",
     "text": [
      "--------------------------------------------------Rolling Estimates of Sensitivity Factors for RRC--------------------------------------------------\n",
      "--------------------------------------------------Done!--------------------------------------------------\n",
      "--------------------------------------------------Fitting Fama-French Factor Model--------------------------------------------------\n",
      "--------------------------------------------------Done!--------------------------------------------------\n"
     ]
    },
    {
     "name": "stderr",
     "output_type": "stream",
     "text": [
      "/Users/souratoshkhan/CQF/BlPortfolioConstruction/blportopt/fama_french_model.py:205: FutureWarning: The default of observed=False is deprecated and will be changed to True in a future version of pandas. Pass observed=False to retain current behavior or observed=True to adopt the future default and silence this warning.\n",
      "  rolling_betas.groupby([\"Group\"])[self.rf_col].hist(bins=100, density=True, legend=True)\n",
      "/Users/souratoshkhan/CQF/BlPortfolioConstruction/blportopt/fama_french_model.py:226: FutureWarning: The default of observed=False is deprecated and will be changed to True in a future version of pandas. Pass observed=False to retain current behavior or observed=True to adopt the future default and silence this warning.\n",
      "  rolling_betas.groupby([\"Group\"])[factor].hist(bins=100, density=True, ax=ax, figsize=(10, 10), legend=True)\n"
     ]
    },
    {
     "name": "stdout",
     "output_type": "stream",
     "text": [
      "--------------------------------------------------Rolling Estimates of Sensitivity Factors for BBY--------------------------------------------------\n",
      "--------------------------------------------------Done!--------------------------------------------------\n",
      "--------------------------------------------------Fitting Fama-French Factor Model--------------------------------------------------\n",
      "--------------------------------------------------Done!--------------------------------------------------\n"
     ]
    },
    {
     "name": "stderr",
     "output_type": "stream",
     "text": [
      "/Users/souratoshkhan/CQF/BlPortfolioConstruction/blportopt/fama_french_model.py:205: FutureWarning: The default of observed=False is deprecated and will be changed to True in a future version of pandas. Pass observed=False to retain current behavior or observed=True to adopt the future default and silence this warning.\n",
      "  rolling_betas.groupby([\"Group\"])[self.rf_col].hist(bins=100, density=True, legend=True)\n",
      "/Users/souratoshkhan/CQF/BlPortfolioConstruction/blportopt/fama_french_model.py:226: FutureWarning: The default of observed=False is deprecated and will be changed to True in a future version of pandas. Pass observed=False to retain current behavior or observed=True to adopt the future default and silence this warning.\n",
      "  rolling_betas.groupby([\"Group\"])[factor].hist(bins=100, density=True, ax=ax, figsize=(10, 10), legend=True)\n"
     ]
    },
    {
     "name": "stdout",
     "output_type": "stream",
     "text": [
      "--------------------------------------------------Rolling Estimates of Sensitivity Factors for PFE--------------------------------------------------\n",
      "--------------------------------------------------Done!--------------------------------------------------\n",
      "--------------------------------------------------Fitting Fama-French Factor Model--------------------------------------------------\n",
      "--------------------------------------------------Done!--------------------------------------------------\n"
     ]
    },
    {
     "name": "stderr",
     "output_type": "stream",
     "text": [
      "/Users/souratoshkhan/CQF/BlPortfolioConstruction/blportopt/fama_french_model.py:205: FutureWarning: The default of observed=False is deprecated and will be changed to True in a future version of pandas. Pass observed=False to retain current behavior or observed=True to adopt the future default and silence this warning.\n",
      "  rolling_betas.groupby([\"Group\"])[self.rf_col].hist(bins=100, density=True, legend=True)\n",
      "/Users/souratoshkhan/CQF/BlPortfolioConstruction/blportopt/fama_french_model.py:226: FutureWarning: The default of observed=False is deprecated and will be changed to True in a future version of pandas. Pass observed=False to retain current behavior or observed=True to adopt the future default and silence this warning.\n",
      "  rolling_betas.groupby([\"Group\"])[factor].hist(bins=100, density=True, ax=ax, figsize=(10, 10), legend=True)\n"
     ]
    },
    {
     "name": "stdout",
     "output_type": "stream",
     "text": [
      "--------------------------------------------------Rolling Estimates of Sensitivity Factors for JPM--------------------------------------------------\n",
      "--------------------------------------------------Done!--------------------------------------------------\n",
      "--------------------------------------------------Fitting Fama-French Factor Model--------------------------------------------------\n",
      "--------------------------------------------------Done!--------------------------------------------------\n"
     ]
    },
    {
     "name": "stderr",
     "output_type": "stream",
     "text": [
      "/Users/souratoshkhan/CQF/BlPortfolioConstruction/blportopt/fama_french_model.py:205: FutureWarning: The default of observed=False is deprecated and will be changed to True in a future version of pandas. Pass observed=False to retain current behavior or observed=True to adopt the future default and silence this warning.\n",
      "  rolling_betas.groupby([\"Group\"])[self.rf_col].hist(bins=100, density=True, legend=True)\n",
      "/Users/souratoshkhan/CQF/BlPortfolioConstruction/blportopt/fama_french_model.py:226: FutureWarning: The default of observed=False is deprecated and will be changed to True in a future version of pandas. Pass observed=False to retain current behavior or observed=True to adopt the future default and silence this warning.\n",
      "  rolling_betas.groupby([\"Group\"])[factor].hist(bins=100, density=True, ax=ax, figsize=(10, 10), legend=True)\n"
     ]
    },
    {
     "name": "stdout",
     "output_type": "stream",
     "text": [
      "--------------------------------------------------Rolling Estimates of Sensitivity Factors for C--------------------------------------------------\n",
      "--------------------------------------------------Done!--------------------------------------------------\n",
      "--------------------------------------------------Fitting Fama-French Factor Model--------------------------------------------------\n",
      "--------------------------------------------------Done!--------------------------------------------------\n"
     ]
    },
    {
     "name": "stderr",
     "output_type": "stream",
     "text": [
      "/Users/souratoshkhan/CQF/BlPortfolioConstruction/blportopt/fama_french_model.py:205: FutureWarning: The default of observed=False is deprecated and will be changed to True in a future version of pandas. Pass observed=False to retain current behavior or observed=True to adopt the future default and silence this warning.\n",
      "  rolling_betas.groupby([\"Group\"])[self.rf_col].hist(bins=100, density=True, legend=True)\n",
      "/Users/souratoshkhan/CQF/BlPortfolioConstruction/blportopt/fama_french_model.py:226: FutureWarning: The default of observed=False is deprecated and will be changed to True in a future version of pandas. Pass observed=False to retain current behavior or observed=True to adopt the future default and silence this warning.\n",
      "  rolling_betas.groupby([\"Group\"])[factor].hist(bins=100, density=True, ax=ax, figsize=(10, 10), legend=True)\n"
     ]
    },
    {
     "name": "stdout",
     "output_type": "stream",
     "text": [
      "--------------------------------------------------Rolling Estimates of Sensitivity Factors for MCD--------------------------------------------------\n",
      "--------------------------------------------------Done!--------------------------------------------------\n",
      "--------------------------------------------------Fitting Fama-French Factor Model--------------------------------------------------\n",
      "--------------------------------------------------Done!--------------------------------------------------\n"
     ]
    },
    {
     "name": "stderr",
     "output_type": "stream",
     "text": [
      "/Users/souratoshkhan/CQF/BlPortfolioConstruction/blportopt/fama_french_model.py:205: FutureWarning: The default of observed=False is deprecated and will be changed to True in a future version of pandas. Pass observed=False to retain current behavior or observed=True to adopt the future default and silence this warning.\n",
      "  rolling_betas.groupby([\"Group\"])[self.rf_col].hist(bins=100, density=True, legend=True)\n",
      "/Users/souratoshkhan/CQF/BlPortfolioConstruction/blportopt/fama_french_model.py:226: FutureWarning: The default of observed=False is deprecated and will be changed to True in a future version of pandas. Pass observed=False to retain current behavior or observed=True to adopt the future default and silence this warning.\n",
      "  rolling_betas.groupby([\"Group\"])[factor].hist(bins=100, density=True, ax=ax, figsize=(10, 10), legend=True)\n"
     ]
    },
    {
     "name": "stdout",
     "output_type": "stream",
     "text": [
      "--------------------------------------------------Rolling Estimates of Sensitivity Factors for KO--------------------------------------------------\n",
      "--------------------------------------------------Done!--------------------------------------------------\n",
      "--------------------------------------------------Fitting Fama-French Factor Model--------------------------------------------------\n",
      "--------------------------------------------------Done!--------------------------------------------------\n"
     ]
    },
    {
     "name": "stderr",
     "output_type": "stream",
     "text": [
      "/Users/souratoshkhan/CQF/BlPortfolioConstruction/blportopt/fama_french_model.py:205: FutureWarning: The default of observed=False is deprecated and will be changed to True in a future version of pandas. Pass observed=False to retain current behavior or observed=True to adopt the future default and silence this warning.\n",
      "  rolling_betas.groupby([\"Group\"])[self.rf_col].hist(bins=100, density=True, legend=True)\n",
      "/Users/souratoshkhan/CQF/BlPortfolioConstruction/blportopt/fama_french_model.py:226: FutureWarning: The default of observed=False is deprecated and will be changed to True in a future version of pandas. Pass observed=False to retain current behavior or observed=True to adopt the future default and silence this warning.\n",
      "  rolling_betas.groupby([\"Group\"])[factor].hist(bins=100, density=True, ax=ax, figsize=(10, 10), legend=True)\n"
     ]
    },
    {
     "name": "stdout",
     "output_type": "stream",
     "text": [
      "--------------------------------------------------Rolling Estimates of Sensitivity Factors for JNJ--------------------------------------------------\n",
      "--------------------------------------------------Done!--------------------------------------------------\n",
      "--------------------------------------------------Fitting Fama-French Factor Model--------------------------------------------------\n",
      "--------------------------------------------------Done!--------------------------------------------------\n"
     ]
    },
    {
     "name": "stderr",
     "output_type": "stream",
     "text": [
      "/Users/souratoshkhan/CQF/BlPortfolioConstruction/blportopt/fama_french_model.py:205: FutureWarning: The default of observed=False is deprecated and will be changed to True in a future version of pandas. Pass observed=False to retain current behavior or observed=True to adopt the future default and silence this warning.\n",
      "  rolling_betas.groupby([\"Group\"])[self.rf_col].hist(bins=100, density=True, legend=True)\n",
      "/Users/souratoshkhan/CQF/BlPortfolioConstruction/blportopt/fama_french_model.py:226: FutureWarning: The default of observed=False is deprecated and will be changed to True in a future version of pandas. Pass observed=False to retain current behavior or observed=True to adopt the future default and silence this warning.\n",
      "  rolling_betas.groupby([\"Group\"])[factor].hist(bins=100, density=True, ax=ax, figsize=(10, 10), legend=True)\n"
     ]
    },
    {
     "name": "stdout",
     "output_type": "stream",
     "text": [
      "--------------------------------------------------Rolling Estimates of Sensitivity Factors for WHR--------------------------------------------------\n",
      "--------------------------------------------------Done!--------------------------------------------------\n",
      "--------------------------------------------------Fitting Fama-French Factor Model--------------------------------------------------\n",
      "--------------------------------------------------Done!--------------------------------------------------\n"
     ]
    },
    {
     "name": "stderr",
     "output_type": "stream",
     "text": [
      "/Users/souratoshkhan/CQF/BlPortfolioConstruction/blportopt/fama_french_model.py:205: FutureWarning: The default of observed=False is deprecated and will be changed to True in a future version of pandas. Pass observed=False to retain current behavior or observed=True to adopt the future default and silence this warning.\n",
      "  rolling_betas.groupby([\"Group\"])[self.rf_col].hist(bins=100, density=True, legend=True)\n",
      "/Users/souratoshkhan/CQF/BlPortfolioConstruction/blportopt/fama_french_model.py:226: FutureWarning: The default of observed=False is deprecated and will be changed to True in a future version of pandas. Pass observed=False to retain current behavior or observed=True to adopt the future default and silence this warning.\n",
      "  rolling_betas.groupby([\"Group\"])[factor].hist(bins=100, density=True, ax=ax, figsize=(10, 10), legend=True)\n"
     ]
    },
    {
     "name": "stdout",
     "output_type": "stream",
     "text": [
      "--------------------------------------------------Rolling Estimates of Sensitivity Factors for MMM--------------------------------------------------\n",
      "--------------------------------------------------Done!--------------------------------------------------\n",
      "--------------------------------------------------Fitting Fama-French Factor Model--------------------------------------------------\n",
      "--------------------------------------------------Done!--------------------------------------------------\n"
     ]
    },
    {
     "name": "stderr",
     "output_type": "stream",
     "text": [
      "/Users/souratoshkhan/CQF/BlPortfolioConstruction/blportopt/fama_french_model.py:205: FutureWarning: The default of observed=False is deprecated and will be changed to True in a future version of pandas. Pass observed=False to retain current behavior or observed=True to adopt the future default and silence this warning.\n",
      "  rolling_betas.groupby([\"Group\"])[self.rf_col].hist(bins=100, density=True, legend=True)\n",
      "/Users/souratoshkhan/CQF/BlPortfolioConstruction/blportopt/fama_french_model.py:226: FutureWarning: The default of observed=False is deprecated and will be changed to True in a future version of pandas. Pass observed=False to retain current behavior or observed=True to adopt the future default and silence this warning.\n",
      "  rolling_betas.groupby([\"Group\"])[factor].hist(bins=100, density=True, ax=ax, figsize=(10, 10), legend=True)\n"
     ]
    },
    {
     "name": "stdout",
     "output_type": "stream",
     "text": [
      "--------------------------------------------------Rolling Estimates of Sensitivity Factors for GIS--------------------------------------------------\n",
      "--------------------------------------------------Done!--------------------------------------------------\n",
      "--------------------------------------------------Fitting Fama-French Factor Model--------------------------------------------------\n",
      "--------------------------------------------------Done!--------------------------------------------------\n"
     ]
    },
    {
     "name": "stderr",
     "output_type": "stream",
     "text": [
      "/Users/souratoshkhan/CQF/BlPortfolioConstruction/blportopt/fama_french_model.py:205: FutureWarning: The default of observed=False is deprecated and will be changed to True in a future version of pandas. Pass observed=False to retain current behavior or observed=True to adopt the future default and silence this warning.\n",
      "  rolling_betas.groupby([\"Group\"])[self.rf_col].hist(bins=100, density=True, legend=True)\n",
      "/Users/souratoshkhan/CQF/BlPortfolioConstruction/blportopt/fama_french_model.py:226: FutureWarning: The default of observed=False is deprecated and will be changed to True in a future version of pandas. Pass observed=False to retain current behavior or observed=True to adopt the future default and silence this warning.\n",
      "  rolling_betas.groupby([\"Group\"])[factor].hist(bins=100, density=True, ax=ax, figsize=(10, 10), legend=True)\n"
     ]
    },
    {
     "name": "stdout",
     "output_type": "stream",
     "text": [
      "--------------------------------------------------Rolling Estimates of Sensitivity Factors for AAPL--------------------------------------------------\n",
      "--------------------------------------------------Done!--------------------------------------------------\n",
      "--------------------------------------------------Fitting Fama-French Factor Model--------------------------------------------------\n",
      "--------------------------------------------------Done!--------------------------------------------------\n"
     ]
    },
    {
     "name": "stderr",
     "output_type": "stream",
     "text": [
      "/Users/souratoshkhan/CQF/BlPortfolioConstruction/blportopt/fama_french_model.py:205: FutureWarning: The default of observed=False is deprecated and will be changed to True in a future version of pandas. Pass observed=False to retain current behavior or observed=True to adopt the future default and silence this warning.\n",
      "  rolling_betas.groupby([\"Group\"])[self.rf_col].hist(bins=100, density=True, legend=True)\n",
      "/Users/souratoshkhan/CQF/BlPortfolioConstruction/blportopt/fama_french_model.py:226: FutureWarning: The default of observed=False is deprecated and will be changed to True in a future version of pandas. Pass observed=False to retain current behavior or observed=True to adopt the future default and silence this warning.\n",
      "  rolling_betas.groupby([\"Group\"])[factor].hist(bins=100, density=True, ax=ax, figsize=(10, 10), legend=True)\n"
     ]
    },
    {
     "name": "stdout",
     "output_type": "stream",
     "text": [
      "--------------------------------------------------Rolling Estimates of Sensitivity Factors for IBM--------------------------------------------------\n",
      "--------------------------------------------------Done!--------------------------------------------------\n",
      "--------------------------------------------------Fitting Fama-French Factor Model--------------------------------------------------\n",
      "--------------------------------------------------Done!--------------------------------------------------\n"
     ]
    },
    {
     "name": "stderr",
     "output_type": "stream",
     "text": [
      "/Users/souratoshkhan/CQF/BlPortfolioConstruction/blportopt/fama_french_model.py:205: FutureWarning: The default of observed=False is deprecated and will be changed to True in a future version of pandas. Pass observed=False to retain current behavior or observed=True to adopt the future default and silence this warning.\n",
      "  rolling_betas.groupby([\"Group\"])[self.rf_col].hist(bins=100, density=True, legend=True)\n",
      "/Users/souratoshkhan/CQF/BlPortfolioConstruction/blportopt/fama_french_model.py:226: FutureWarning: The default of observed=False is deprecated and will be changed to True in a future version of pandas. Pass observed=False to retain current behavior or observed=True to adopt the future default and silence this warning.\n",
      "  rolling_betas.groupby([\"Group\"])[factor].hist(bins=100, density=True, ax=ax, figsize=(10, 10), legend=True)\n"
     ]
    },
    {
     "name": "stdout",
     "output_type": "stream",
     "text": [
      "--------------------------------------------------Rolling Estimates of Sensitivity Factors for PG--------------------------------------------------\n",
      "--------------------------------------------------Done!--------------------------------------------------\n",
      "--------------------------------------------------Fitting Fama-French Factor Model--------------------------------------------------\n",
      "--------------------------------------------------Done!--------------------------------------------------\n"
     ]
    },
    {
     "name": "stderr",
     "output_type": "stream",
     "text": [
      "/Users/souratoshkhan/CQF/BlPortfolioConstruction/blportopt/fama_french_model.py:205: FutureWarning: The default of observed=False is deprecated and will be changed to True in a future version of pandas. Pass observed=False to retain current behavior or observed=True to adopt the future default and silence this warning.\n",
      "  rolling_betas.groupby([\"Group\"])[self.rf_col].hist(bins=100, density=True, legend=True)\n",
      "/Users/souratoshkhan/CQF/BlPortfolioConstruction/blportopt/fama_french_model.py:226: FutureWarning: The default of observed=False is deprecated and will be changed to True in a future version of pandas. Pass observed=False to retain current behavior or observed=True to adopt the future default and silence this warning.\n",
      "  rolling_betas.groupby([\"Group\"])[factor].hist(bins=100, density=True, ax=ax, figsize=(10, 10), legend=True)\n"
     ]
    },
    {
     "name": "stdout",
     "output_type": "stream",
     "text": [
      "--------------------------------------------------Rolling Estimates of Sensitivity Factors for GE--------------------------------------------------\n",
      "--------------------------------------------------Done!--------------------------------------------------\n",
      "--------------------------------------------------Fitting Fama-French Factor Model--------------------------------------------------\n",
      "--------------------------------------------------Done!--------------------------------------------------\n"
     ]
    },
    {
     "name": "stderr",
     "output_type": "stream",
     "text": [
      "/Users/souratoshkhan/CQF/BlPortfolioConstruction/blportopt/fama_french_model.py:205: FutureWarning: The default of observed=False is deprecated and will be changed to True in a future version of pandas. Pass observed=False to retain current behavior or observed=True to adopt the future default and silence this warning.\n",
      "  rolling_betas.groupby([\"Group\"])[self.rf_col].hist(bins=100, density=True, legend=True)\n",
      "/Users/souratoshkhan/CQF/BlPortfolioConstruction/blportopt/fama_french_model.py:226: FutureWarning: The default of observed=False is deprecated and will be changed to True in a future version of pandas. Pass observed=False to retain current behavior or observed=True to adopt the future default and silence this warning.\n",
      "  rolling_betas.groupby([\"Group\"])[factor].hist(bins=100, density=True, ax=ax, figsize=(10, 10), legend=True)\n"
     ]
    },
    {
     "name": "stdout",
     "output_type": "stream",
     "text": [
      "--------------------------------------------------Rolling Estimates of Sensitivity Factors for AMD--------------------------------------------------\n",
      "--------------------------------------------------Done!--------------------------------------------------\n",
      "--------------------------------------------------Fitting Fama-French Factor Model--------------------------------------------------\n",
      "--------------------------------------------------Done!--------------------------------------------------\n"
     ]
    },
    {
     "name": "stderr",
     "output_type": "stream",
     "text": [
      "/Users/souratoshkhan/CQF/BlPortfolioConstruction/blportopt/fama_french_model.py:205: FutureWarning: The default of observed=False is deprecated and will be changed to True in a future version of pandas. Pass observed=False to retain current behavior or observed=True to adopt the future default and silence this warning.\n",
      "  rolling_betas.groupby([\"Group\"])[self.rf_col].hist(bins=100, density=True, legend=True)\n",
      "/Users/souratoshkhan/CQF/BlPortfolioConstruction/blportopt/fama_french_model.py:226: FutureWarning: The default of observed=False is deprecated and will be changed to True in a future version of pandas. Pass observed=False to retain current behavior or observed=True to adopt the future default and silence this warning.\n",
      "  rolling_betas.groupby([\"Group\"])[factor].hist(bins=100, density=True, ax=ax, figsize=(10, 10), legend=True)\n"
     ]
    },
    {
     "name": "stdout",
     "output_type": "stream",
     "text": [
      "--------------------------------------------------Rolling Estimates of Sensitivity Factors for WMT--------------------------------------------------\n",
      "--------------------------------------------------Done!--------------------------------------------------\n",
      "--------------------------------------------------Fitting Fama-French Factor Model--------------------------------------------------\n",
      "--------------------------------------------------Done!--------------------------------------------------\n"
     ]
    },
    {
     "name": "stderr",
     "output_type": "stream",
     "text": [
      "/Users/souratoshkhan/CQF/BlPortfolioConstruction/blportopt/fama_french_model.py:205: FutureWarning: The default of observed=False is deprecated and will be changed to True in a future version of pandas. Pass observed=False to retain current behavior or observed=True to adopt the future default and silence this warning.\n",
      "  rolling_betas.groupby([\"Group\"])[self.rf_col].hist(bins=100, density=True, legend=True)\n",
      "/Users/souratoshkhan/CQF/BlPortfolioConstruction/blportopt/fama_french_model.py:226: FutureWarning: The default of observed=False is deprecated and will be changed to True in a future version of pandas. Pass observed=False to retain current behavior or observed=True to adopt the future default and silence this warning.\n",
      "  rolling_betas.groupby([\"Group\"])[factor].hist(bins=100, density=True, ax=ax, figsize=(10, 10), legend=True)\n"
     ]
    },
    {
     "name": "stdout",
     "output_type": "stream",
     "text": [
      "--------------------------------------------------Rolling Estimates of Sensitivity Factors for BAC--------------------------------------------------\n",
      "--------------------------------------------------Done!--------------------------------------------------\n",
      "--------------------------------------------------Fitting Fama-French Factor Model--------------------------------------------------\n",
      "--------------------------------------------------Done!--------------------------------------------------\n"
     ]
    },
    {
     "name": "stderr",
     "output_type": "stream",
     "text": [
      "/Users/souratoshkhan/CQF/BlPortfolioConstruction/blportopt/fama_french_model.py:205: FutureWarning: The default of observed=False is deprecated and will be changed to True in a future version of pandas. Pass observed=False to retain current behavior or observed=True to adopt the future default and silence this warning.\n",
      "  rolling_betas.groupby([\"Group\"])[self.rf_col].hist(bins=100, density=True, legend=True)\n",
      "/Users/souratoshkhan/CQF/BlPortfolioConstruction/blportopt/fama_french_model.py:226: FutureWarning: The default of observed=False is deprecated and will be changed to True in a future version of pandas. Pass observed=False to retain current behavior or observed=True to adopt the future default and silence this warning.\n",
      "  rolling_betas.groupby([\"Group\"])[factor].hist(bins=100, density=True, ax=ax, figsize=(10, 10), legend=True)\n"
     ]
    },
    {
     "name": "stdout",
     "output_type": "stream",
     "text": [
      "--------------------------------------------------Rolling Estimates of Sensitivity Factors for T--------------------------------------------------\n",
      "--------------------------------------------------Done!--------------------------------------------------\n",
      "--------------------------------------------------Fitting Fama-French Factor Model--------------------------------------------------\n",
      "--------------------------------------------------Done!--------------------------------------------------\n"
     ]
    },
    {
     "name": "stderr",
     "output_type": "stream",
     "text": [
      "/Users/souratoshkhan/CQF/BlPortfolioConstruction/blportopt/fama_french_model.py:205: FutureWarning: The default of observed=False is deprecated and will be changed to True in a future version of pandas. Pass observed=False to retain current behavior or observed=True to adopt the future default and silence this warning.\n",
      "  rolling_betas.groupby([\"Group\"])[self.rf_col].hist(bins=100, density=True, legend=True)\n",
      "/Users/souratoshkhan/CQF/BlPortfolioConstruction/blportopt/fama_french_model.py:226: FutureWarning: The default of observed=False is deprecated and will be changed to True in a future version of pandas. Pass observed=False to retain current behavior or observed=True to adopt the future default and silence this warning.\n",
      "  rolling_betas.groupby([\"Group\"])[factor].hist(bins=100, density=True, ax=ax, figsize=(10, 10), legend=True)\n"
     ]
    },
    {
     "name": "stdout",
     "output_type": "stream",
     "text": [
      "--------------------------------------------------Rolling Estimates of Sensitivity Factors for XOM--------------------------------------------------\n",
      "--------------------------------------------------Done!--------------------------------------------------\n",
      "--------------------------------------------------Fitting Fama-French Factor Model--------------------------------------------------\n",
      "--------------------------------------------------Done!--------------------------------------------------\n"
     ]
    },
    {
     "name": "stderr",
     "output_type": "stream",
     "text": [
      "/Users/souratoshkhan/CQF/BlPortfolioConstruction/blportopt/fama_french_model.py:205: FutureWarning: The default of observed=False is deprecated and will be changed to True in a future version of pandas. Pass observed=False to retain current behavior or observed=True to adopt the future default and silence this warning.\n",
      "  rolling_betas.groupby([\"Group\"])[self.rf_col].hist(bins=100, density=True, legend=True)\n",
      "/Users/souratoshkhan/CQF/BlPortfolioConstruction/blportopt/fama_french_model.py:226: FutureWarning: The default of observed=False is deprecated and will be changed to True in a future version of pandas. Pass observed=False to retain current behavior or observed=True to adopt the future default and silence this warning.\n",
      "  rolling_betas.groupby([\"Group\"])[factor].hist(bins=100, density=True, ax=ax, figsize=(10, 10), legend=True)\n"
     ]
    },
    {
     "name": "stdout",
     "output_type": "stream",
     "text": [
      "--------------------------------------------------Rolling Estimates of Sensitivity Factors for RRC--------------------------------------------------\n",
      "--------------------------------------------------Done!--------------------------------------------------\n",
      "--------------------------------------------------Fitting Fama-French Factor Model--------------------------------------------------\n",
      "--------------------------------------------------Done!--------------------------------------------------\n"
     ]
    },
    {
     "name": "stderr",
     "output_type": "stream",
     "text": [
      "/Users/souratoshkhan/CQF/BlPortfolioConstruction/blportopt/fama_french_model.py:205: FutureWarning: The default of observed=False is deprecated and will be changed to True in a future version of pandas. Pass observed=False to retain current behavior or observed=True to adopt the future default and silence this warning.\n",
      "  rolling_betas.groupby([\"Group\"])[self.rf_col].hist(bins=100, density=True, legend=True)\n",
      "/Users/souratoshkhan/CQF/BlPortfolioConstruction/blportopt/fama_french_model.py:226: FutureWarning: The default of observed=False is deprecated and will be changed to True in a future version of pandas. Pass observed=False to retain current behavior or observed=True to adopt the future default and silence this warning.\n",
      "  rolling_betas.groupby([\"Group\"])[factor].hist(bins=100, density=True, ax=ax, figsize=(10, 10), legend=True)\n"
     ]
    },
    {
     "name": "stdout",
     "output_type": "stream",
     "text": [
      "--------------------------------------------------Rolling Estimates of Sensitivity Factors for BBY--------------------------------------------------\n",
      "--------------------------------------------------Done!--------------------------------------------------\n",
      "--------------------------------------------------Fitting Fama-French Factor Model--------------------------------------------------\n",
      "--------------------------------------------------Done!--------------------------------------------------\n"
     ]
    },
    {
     "name": "stderr",
     "output_type": "stream",
     "text": [
      "/Users/souratoshkhan/CQF/BlPortfolioConstruction/blportopt/fama_french_model.py:205: FutureWarning: The default of observed=False is deprecated and will be changed to True in a future version of pandas. Pass observed=False to retain current behavior or observed=True to adopt the future default and silence this warning.\n",
      "  rolling_betas.groupby([\"Group\"])[self.rf_col].hist(bins=100, density=True, legend=True)\n",
      "/Users/souratoshkhan/CQF/BlPortfolioConstruction/blportopt/fama_french_model.py:226: FutureWarning: The default of observed=False is deprecated and will be changed to True in a future version of pandas. Pass observed=False to retain current behavior or observed=True to adopt the future default and silence this warning.\n",
      "  rolling_betas.groupby([\"Group\"])[factor].hist(bins=100, density=True, ax=ax, figsize=(10, 10), legend=True)\n"
     ]
    },
    {
     "name": "stdout",
     "output_type": "stream",
     "text": [
      "--------------------------------------------------Rolling Estimates of Sensitivity Factors for PFE--------------------------------------------------\n",
      "--------------------------------------------------Done!--------------------------------------------------\n",
      "--------------------------------------------------Fitting Fama-French Factor Model--------------------------------------------------\n",
      "--------------------------------------------------Done!--------------------------------------------------\n"
     ]
    },
    {
     "name": "stderr",
     "output_type": "stream",
     "text": [
      "/Users/souratoshkhan/CQF/BlPortfolioConstruction/blportopt/fama_french_model.py:205: FutureWarning: The default of observed=False is deprecated and will be changed to True in a future version of pandas. Pass observed=False to retain current behavior or observed=True to adopt the future default and silence this warning.\n",
      "  rolling_betas.groupby([\"Group\"])[self.rf_col].hist(bins=100, density=True, legend=True)\n",
      "/Users/souratoshkhan/CQF/BlPortfolioConstruction/blportopt/fama_french_model.py:226: FutureWarning: The default of observed=False is deprecated and will be changed to True in a future version of pandas. Pass observed=False to retain current behavior or observed=True to adopt the future default and silence this warning.\n",
      "  rolling_betas.groupby([\"Group\"])[factor].hist(bins=100, density=True, ax=ax, figsize=(10, 10), legend=True)\n"
     ]
    },
    {
     "name": "stdout",
     "output_type": "stream",
     "text": [
      "--------------------------------------------------Rolling Estimates of Sensitivity Factors for JPM--------------------------------------------------\n",
      "--------------------------------------------------Done!--------------------------------------------------\n",
      "--------------------------------------------------Fitting Fama-French Factor Model--------------------------------------------------\n",
      "--------------------------------------------------Done!--------------------------------------------------\n"
     ]
    },
    {
     "name": "stderr",
     "output_type": "stream",
     "text": [
      "/Users/souratoshkhan/CQF/BlPortfolioConstruction/blportopt/fama_french_model.py:205: FutureWarning: The default of observed=False is deprecated and will be changed to True in a future version of pandas. Pass observed=False to retain current behavior or observed=True to adopt the future default and silence this warning.\n",
      "  rolling_betas.groupby([\"Group\"])[self.rf_col].hist(bins=100, density=True, legend=True)\n",
      "/Users/souratoshkhan/CQF/BlPortfolioConstruction/blportopt/fama_french_model.py:226: FutureWarning: The default of observed=False is deprecated and will be changed to True in a future version of pandas. Pass observed=False to retain current behavior or observed=True to adopt the future default and silence this warning.\n",
      "  rolling_betas.groupby([\"Group\"])[factor].hist(bins=100, density=True, ax=ax, figsize=(10, 10), legend=True)\n"
     ]
    },
    {
     "name": "stdout",
     "output_type": "stream",
     "text": [
      "--------------------------------------------------Rolling Estimates of Sensitivity Factors for C--------------------------------------------------\n",
      "--------------------------------------------------Done!--------------------------------------------------\n",
      "--------------------------------------------------Fitting Fama-French Factor Model--------------------------------------------------\n",
      "--------------------------------------------------Done!--------------------------------------------------\n"
     ]
    },
    {
     "name": "stderr",
     "output_type": "stream",
     "text": [
      "/Users/souratoshkhan/CQF/BlPortfolioConstruction/blportopt/fama_french_model.py:205: FutureWarning: The default of observed=False is deprecated and will be changed to True in a future version of pandas. Pass observed=False to retain current behavior or observed=True to adopt the future default and silence this warning.\n",
      "  rolling_betas.groupby([\"Group\"])[self.rf_col].hist(bins=100, density=True, legend=True)\n",
      "/Users/souratoshkhan/CQF/BlPortfolioConstruction/blportopt/fama_french_model.py:226: FutureWarning: The default of observed=False is deprecated and will be changed to True in a future version of pandas. Pass observed=False to retain current behavior or observed=True to adopt the future default and silence this warning.\n",
      "  rolling_betas.groupby([\"Group\"])[factor].hist(bins=100, density=True, ax=ax, figsize=(10, 10), legend=True)\n"
     ]
    },
    {
     "name": "stdout",
     "output_type": "stream",
     "text": [
      "--------------------------------------------------Rolling Estimates of Sensitivity Factors for MCD--------------------------------------------------\n",
      "--------------------------------------------------Done!--------------------------------------------------\n",
      "--------------------------------------------------Fitting Fama-French Factor Model--------------------------------------------------\n",
      "--------------------------------------------------Done!--------------------------------------------------\n"
     ]
    },
    {
     "name": "stderr",
     "output_type": "stream",
     "text": [
      "/Users/souratoshkhan/CQF/BlPortfolioConstruction/blportopt/fama_french_model.py:205: FutureWarning: The default of observed=False is deprecated and will be changed to True in a future version of pandas. Pass observed=False to retain current behavior or observed=True to adopt the future default and silence this warning.\n",
      "  rolling_betas.groupby([\"Group\"])[self.rf_col].hist(bins=100, density=True, legend=True)\n",
      "/Users/souratoshkhan/CQF/BlPortfolioConstruction/blportopt/fama_french_model.py:226: FutureWarning: The default of observed=False is deprecated and will be changed to True in a future version of pandas. Pass observed=False to retain current behavior or observed=True to adopt the future default and silence this warning.\n",
      "  rolling_betas.groupby([\"Group\"])[factor].hist(bins=100, density=True, ax=ax, figsize=(10, 10), legend=True)\n"
     ]
    },
    {
     "name": "stdout",
     "output_type": "stream",
     "text": [
      "--------------------------------------------------Rolling Estimates of Sensitivity Factors for KO--------------------------------------------------\n",
      "--------------------------------------------------Done!--------------------------------------------------\n",
      "--------------------------------------------------Fitting Fama-French Factor Model--------------------------------------------------\n",
      "--------------------------------------------------Done!--------------------------------------------------\n"
     ]
    },
    {
     "name": "stderr",
     "output_type": "stream",
     "text": [
      "/Users/souratoshkhan/CQF/BlPortfolioConstruction/blportopt/fama_french_model.py:205: FutureWarning: The default of observed=False is deprecated and will be changed to True in a future version of pandas. Pass observed=False to retain current behavior or observed=True to adopt the future default and silence this warning.\n",
      "  rolling_betas.groupby([\"Group\"])[self.rf_col].hist(bins=100, density=True, legend=True)\n",
      "/Users/souratoshkhan/CQF/BlPortfolioConstruction/blportopt/fama_french_model.py:226: FutureWarning: The default of observed=False is deprecated and will be changed to True in a future version of pandas. Pass observed=False to retain current behavior or observed=True to adopt the future default and silence this warning.\n",
      "  rolling_betas.groupby([\"Group\"])[factor].hist(bins=100, density=True, ax=ax, figsize=(10, 10), legend=True)\n"
     ]
    },
    {
     "name": "stdout",
     "output_type": "stream",
     "text": [
      "--------------------------------------------------Rolling Estimates of Sensitivity Factors for JNJ--------------------------------------------------\n",
      "--------------------------------------------------Done!--------------------------------------------------\n",
      "--------------------------------------------------Fitting Fama-French Factor Model--------------------------------------------------\n",
      "--------------------------------------------------Done!--------------------------------------------------\n"
     ]
    },
    {
     "name": "stderr",
     "output_type": "stream",
     "text": [
      "/Users/souratoshkhan/CQF/BlPortfolioConstruction/blportopt/fama_french_model.py:205: FutureWarning: The default of observed=False is deprecated and will be changed to True in a future version of pandas. Pass observed=False to retain current behavior or observed=True to adopt the future default and silence this warning.\n",
      "  rolling_betas.groupby([\"Group\"])[self.rf_col].hist(bins=100, density=True, legend=True)\n",
      "/Users/souratoshkhan/CQF/BlPortfolioConstruction/blportopt/fama_french_model.py:226: FutureWarning: The default of observed=False is deprecated and will be changed to True in a future version of pandas. Pass observed=False to retain current behavior or observed=True to adopt the future default and silence this warning.\n",
      "  rolling_betas.groupby([\"Group\"])[factor].hist(bins=100, density=True, ax=ax, figsize=(10, 10), legend=True)\n"
     ]
    },
    {
     "name": "stdout",
     "output_type": "stream",
     "text": [
      "--------------------------------------------------Rolling Estimates of Sensitivity Factors for WHR--------------------------------------------------\n",
      "--------------------------------------------------Done!--------------------------------------------------\n",
      "--------------------------------------------------Fitting Fama-French Factor Model--------------------------------------------------\n",
      "--------------------------------------------------Done!--------------------------------------------------\n"
     ]
    },
    {
     "name": "stderr",
     "output_type": "stream",
     "text": [
      "/Users/souratoshkhan/CQF/BlPortfolioConstruction/blportopt/fama_french_model.py:205: FutureWarning: The default of observed=False is deprecated and will be changed to True in a future version of pandas. Pass observed=False to retain current behavior or observed=True to adopt the future default and silence this warning.\n",
      "  rolling_betas.groupby([\"Group\"])[self.rf_col].hist(bins=100, density=True, legend=True)\n",
      "/Users/souratoshkhan/CQF/BlPortfolioConstruction/blportopt/fama_french_model.py:226: FutureWarning: The default of observed=False is deprecated and will be changed to True in a future version of pandas. Pass observed=False to retain current behavior or observed=True to adopt the future default and silence this warning.\n",
      "  rolling_betas.groupby([\"Group\"])[factor].hist(bins=100, density=True, ax=ax, figsize=(10, 10), legend=True)\n"
     ]
    },
    {
     "name": "stdout",
     "output_type": "stream",
     "text": [
      "--------------------------------------------------Rolling Estimates of Sensitivity Factors for MMM--------------------------------------------------\n",
      "--------------------------------------------------Done!--------------------------------------------------\n",
      "--------------------------------------------------Fitting Fama-French Factor Model--------------------------------------------------\n",
      "--------------------------------------------------Done!--------------------------------------------------\n"
     ]
    },
    {
     "name": "stderr",
     "output_type": "stream",
     "text": [
      "/Users/souratoshkhan/CQF/BlPortfolioConstruction/blportopt/fama_french_model.py:205: FutureWarning: The default of observed=False is deprecated and will be changed to True in a future version of pandas. Pass observed=False to retain current behavior or observed=True to adopt the future default and silence this warning.\n",
      "  rolling_betas.groupby([\"Group\"])[self.rf_col].hist(bins=100, density=True, legend=True)\n",
      "/Users/souratoshkhan/CQF/BlPortfolioConstruction/blportopt/fama_french_model.py:226: FutureWarning: The default of observed=False is deprecated and will be changed to True in a future version of pandas. Pass observed=False to retain current behavior or observed=True to adopt the future default and silence this warning.\n",
      "  rolling_betas.groupby([\"Group\"])[factor].hist(bins=100, density=True, ax=ax, figsize=(10, 10), legend=True)\n"
     ]
    },
    {
     "name": "stdout",
     "output_type": "stream",
     "text": [
      "--------------------------------------------------Rolling Estimates of Sensitivity Factors for GIS--------------------------------------------------\n",
      "--------------------------------------------------Done!--------------------------------------------------\n",
      "--------------------------------------------------Fitting Fama-French Factor Model--------------------------------------------------\n",
      "--------------------------------------------------Done!--------------------------------------------------\n"
     ]
    },
    {
     "name": "stderr",
     "output_type": "stream",
     "text": [
      "/Users/souratoshkhan/CQF/BlPortfolioConstruction/blportopt/fama_french_model.py:205: FutureWarning: The default of observed=False is deprecated and will be changed to True in a future version of pandas. Pass observed=False to retain current behavior or observed=True to adopt the future default and silence this warning.\n",
      "  rolling_betas.groupby([\"Group\"])[self.rf_col].hist(bins=100, density=True, legend=True)\n",
      "/Users/souratoshkhan/CQF/BlPortfolioConstruction/blportopt/fama_french_model.py:226: FutureWarning: The default of observed=False is deprecated and will be changed to True in a future version of pandas. Pass observed=False to retain current behavior or observed=True to adopt the future default and silence this warning.\n",
      "  rolling_betas.groupby([\"Group\"])[factor].hist(bins=100, density=True, ax=ax, figsize=(10, 10), legend=True)\n"
     ]
    },
    {
     "name": "stdout",
     "output_type": "stream",
     "text": [
      "--------------------------------------------------Rolling Estimates of Sensitivity Factors for AAPL--------------------------------------------------\n",
      "--------------------------------------------------Done!--------------------------------------------------\n",
      "--------------------------------------------------Fitting Fama-French Factor Model--------------------------------------------------\n",
      "--------------------------------------------------Done!--------------------------------------------------\n"
     ]
    },
    {
     "name": "stderr",
     "output_type": "stream",
     "text": [
      "/Users/souratoshkhan/CQF/BlPortfolioConstruction/blportopt/fama_french_model.py:205: FutureWarning: The default of observed=False is deprecated and will be changed to True in a future version of pandas. Pass observed=False to retain current behavior or observed=True to adopt the future default and silence this warning.\n",
      "  rolling_betas.groupby([\"Group\"])[self.rf_col].hist(bins=100, density=True, legend=True)\n",
      "/Users/souratoshkhan/CQF/BlPortfolioConstruction/blportopt/fama_french_model.py:226: FutureWarning: The default of observed=False is deprecated and will be changed to True in a future version of pandas. Pass observed=False to retain current behavior or observed=True to adopt the future default and silence this warning.\n",
      "  rolling_betas.groupby([\"Group\"])[factor].hist(bins=100, density=True, ax=ax, figsize=(10, 10), legend=True)\n"
     ]
    },
    {
     "name": "stdout",
     "output_type": "stream",
     "text": [
      "--------------------------------------------------Rolling Estimates of Sensitivity Factors for IBM--------------------------------------------------\n",
      "--------------------------------------------------Done!--------------------------------------------------\n",
      "--------------------------------------------------Fitting Fama-French Factor Model--------------------------------------------------\n",
      "--------------------------------------------------Done!--------------------------------------------------\n"
     ]
    },
    {
     "name": "stderr",
     "output_type": "stream",
     "text": [
      "/Users/souratoshkhan/CQF/BlPortfolioConstruction/blportopt/fama_french_model.py:205: FutureWarning: The default of observed=False is deprecated and will be changed to True in a future version of pandas. Pass observed=False to retain current behavior or observed=True to adopt the future default and silence this warning.\n",
      "  rolling_betas.groupby([\"Group\"])[self.rf_col].hist(bins=100, density=True, legend=True)\n",
      "/Users/souratoshkhan/CQF/BlPortfolioConstruction/blportopt/fama_french_model.py:226: FutureWarning: The default of observed=False is deprecated and will be changed to True in a future version of pandas. Pass observed=False to retain current behavior or observed=True to adopt the future default and silence this warning.\n",
      "  rolling_betas.groupby([\"Group\"])[factor].hist(bins=100, density=True, ax=ax, figsize=(10, 10), legend=True)\n"
     ]
    },
    {
     "name": "stdout",
     "output_type": "stream",
     "text": [
      "--------------------------------------------------Rolling Estimates of Sensitivity Factors for PG--------------------------------------------------\n",
      "--------------------------------------------------Done!--------------------------------------------------\n",
      "--------------------------------------------------Fitting Fama-French Factor Model--------------------------------------------------\n",
      "--------------------------------------------------Done!--------------------------------------------------\n"
     ]
    },
    {
     "name": "stderr",
     "output_type": "stream",
     "text": [
      "/Users/souratoshkhan/CQF/BlPortfolioConstruction/blportopt/fama_french_model.py:205: FutureWarning: The default of observed=False is deprecated and will be changed to True in a future version of pandas. Pass observed=False to retain current behavior or observed=True to adopt the future default and silence this warning.\n",
      "  rolling_betas.groupby([\"Group\"])[self.rf_col].hist(bins=100, density=True, legend=True)\n",
      "/Users/souratoshkhan/CQF/BlPortfolioConstruction/blportopt/fama_french_model.py:226: FutureWarning: The default of observed=False is deprecated and will be changed to True in a future version of pandas. Pass observed=False to retain current behavior or observed=True to adopt the future default and silence this warning.\n",
      "  rolling_betas.groupby([\"Group\"])[factor].hist(bins=100, density=True, ax=ax, figsize=(10, 10), legend=True)\n"
     ]
    },
    {
     "name": "stdout",
     "output_type": "stream",
     "text": [
      "--------------------------------------------------Rolling Estimates of Sensitivity Factors for GE--------------------------------------------------\n",
      "--------------------------------------------------Done!--------------------------------------------------\n",
      "--------------------------------------------------Fitting Fama-French Factor Model--------------------------------------------------\n",
      "--------------------------------------------------Done!--------------------------------------------------\n"
     ]
    },
    {
     "name": "stderr",
     "output_type": "stream",
     "text": [
      "/Users/souratoshkhan/CQF/BlPortfolioConstruction/blportopt/fama_french_model.py:205: FutureWarning: The default of observed=False is deprecated and will be changed to True in a future version of pandas. Pass observed=False to retain current behavior or observed=True to adopt the future default and silence this warning.\n",
      "  rolling_betas.groupby([\"Group\"])[self.rf_col].hist(bins=100, density=True, legend=True)\n",
      "/Users/souratoshkhan/CQF/BlPortfolioConstruction/blportopt/fama_french_model.py:226: FutureWarning: The default of observed=False is deprecated and will be changed to True in a future version of pandas. Pass observed=False to retain current behavior or observed=True to adopt the future default and silence this warning.\n",
      "  rolling_betas.groupby([\"Group\"])[factor].hist(bins=100, density=True, ax=ax, figsize=(10, 10), legend=True)\n"
     ]
    },
    {
     "name": "stdout",
     "output_type": "stream",
     "text": [
      "--------------------------------------------------Rolling Estimates of Sensitivity Factors for AMD--------------------------------------------------\n",
      "--------------------------------------------------Done!--------------------------------------------------\n",
      "--------------------------------------------------Fitting Fama-French Factor Model--------------------------------------------------\n",
      "--------------------------------------------------Done!--------------------------------------------------\n"
     ]
    },
    {
     "name": "stderr",
     "output_type": "stream",
     "text": [
      "/Users/souratoshkhan/CQF/BlPortfolioConstruction/blportopt/fama_french_model.py:205: FutureWarning: The default of observed=False is deprecated and will be changed to True in a future version of pandas. Pass observed=False to retain current behavior or observed=True to adopt the future default and silence this warning.\n",
      "  rolling_betas.groupby([\"Group\"])[self.rf_col].hist(bins=100, density=True, legend=True)\n",
      "/Users/souratoshkhan/CQF/BlPortfolioConstruction/blportopt/fama_french_model.py:226: FutureWarning: The default of observed=False is deprecated and will be changed to True in a future version of pandas. Pass observed=False to retain current behavior or observed=True to adopt the future default and silence this warning.\n",
      "  rolling_betas.groupby([\"Group\"])[factor].hist(bins=100, density=True, ax=ax, figsize=(10, 10), legend=True)\n"
     ]
    },
    {
     "name": "stdout",
     "output_type": "stream",
     "text": [
      "--------------------------------------------------Rolling Estimates of Sensitivity Factors for WMT--------------------------------------------------\n",
      "--------------------------------------------------Done!--------------------------------------------------\n",
      "--------------------------------------------------Fitting Fama-French Factor Model--------------------------------------------------\n",
      "--------------------------------------------------Done!--------------------------------------------------\n"
     ]
    },
    {
     "name": "stderr",
     "output_type": "stream",
     "text": [
      "/Users/souratoshkhan/CQF/BlPortfolioConstruction/blportopt/fama_french_model.py:205: FutureWarning: The default of observed=False is deprecated and will be changed to True in a future version of pandas. Pass observed=False to retain current behavior or observed=True to adopt the future default and silence this warning.\n",
      "  rolling_betas.groupby([\"Group\"])[self.rf_col].hist(bins=100, density=True, legend=True)\n",
      "/Users/souratoshkhan/CQF/BlPortfolioConstruction/blportopt/fama_french_model.py:226: FutureWarning: The default of observed=False is deprecated and will be changed to True in a future version of pandas. Pass observed=False to retain current behavior or observed=True to adopt the future default and silence this warning.\n",
      "  rolling_betas.groupby([\"Group\"])[factor].hist(bins=100, density=True, ax=ax, figsize=(10, 10), legend=True)\n"
     ]
    },
    {
     "name": "stdout",
     "output_type": "stream",
     "text": [
      "--------------------------------------------------Rolling Estimates of Sensitivity Factors for BAC--------------------------------------------------\n",
      "--------------------------------------------------Done!--------------------------------------------------\n",
      "--------------------------------------------------Fitting Fama-French Factor Model--------------------------------------------------\n",
      "--------------------------------------------------Done!--------------------------------------------------\n"
     ]
    },
    {
     "name": "stderr",
     "output_type": "stream",
     "text": [
      "/Users/souratoshkhan/CQF/BlPortfolioConstruction/blportopt/fama_french_model.py:205: FutureWarning: The default of observed=False is deprecated and will be changed to True in a future version of pandas. Pass observed=False to retain current behavior or observed=True to adopt the future default and silence this warning.\n",
      "  rolling_betas.groupby([\"Group\"])[self.rf_col].hist(bins=100, density=True, legend=True)\n",
      "/Users/souratoshkhan/CQF/BlPortfolioConstruction/blportopt/fama_french_model.py:226: FutureWarning: The default of observed=False is deprecated and will be changed to True in a future version of pandas. Pass observed=False to retain current behavior or observed=True to adopt the future default and silence this warning.\n",
      "  rolling_betas.groupby([\"Group\"])[factor].hist(bins=100, density=True, ax=ax, figsize=(10, 10), legend=True)\n"
     ]
    },
    {
     "name": "stdout",
     "output_type": "stream",
     "text": [
      "--------------------------------------------------Rolling Estimates of Sensitivity Factors for T--------------------------------------------------\n",
      "--------------------------------------------------Done!--------------------------------------------------\n",
      "--------------------------------------------------Fitting Fama-French Factor Model--------------------------------------------------\n",
      "--------------------------------------------------Done!--------------------------------------------------\n"
     ]
    },
    {
     "name": "stderr",
     "output_type": "stream",
     "text": [
      "/Users/souratoshkhan/CQF/BlPortfolioConstruction/blportopt/fama_french_model.py:205: FutureWarning: The default of observed=False is deprecated and will be changed to True in a future version of pandas. Pass observed=False to retain current behavior or observed=True to adopt the future default and silence this warning.\n",
      "  rolling_betas.groupby([\"Group\"])[self.rf_col].hist(bins=100, density=True, legend=True)\n",
      "/Users/souratoshkhan/CQF/BlPortfolioConstruction/blportopt/fama_french_model.py:226: FutureWarning: The default of observed=False is deprecated and will be changed to True in a future version of pandas. Pass observed=False to retain current behavior or observed=True to adopt the future default and silence this warning.\n",
      "  rolling_betas.groupby([\"Group\"])[factor].hist(bins=100, density=True, ax=ax, figsize=(10, 10), legend=True)\n"
     ]
    },
    {
     "name": "stdout",
     "output_type": "stream",
     "text": [
      "--------------------------------------------------Rolling Estimates of Sensitivity Factors for XOM--------------------------------------------------\n",
      "--------------------------------------------------Done!--------------------------------------------------\n",
      "--------------------------------------------------Fitting Fama-French Factor Model--------------------------------------------------\n",
      "--------------------------------------------------Done!--------------------------------------------------\n"
     ]
    },
    {
     "name": "stderr",
     "output_type": "stream",
     "text": [
      "/Users/souratoshkhan/CQF/BlPortfolioConstruction/blportopt/fama_french_model.py:205: FutureWarning: The default of observed=False is deprecated and will be changed to True in a future version of pandas. Pass observed=False to retain current behavior or observed=True to adopt the future default and silence this warning.\n",
      "  rolling_betas.groupby([\"Group\"])[self.rf_col].hist(bins=100, density=True, legend=True)\n",
      "/Users/souratoshkhan/CQF/BlPortfolioConstruction/blportopt/fama_french_model.py:226: FutureWarning: The default of observed=False is deprecated and will be changed to True in a future version of pandas. Pass observed=False to retain current behavior or observed=True to adopt the future default and silence this warning.\n",
      "  rolling_betas.groupby([\"Group\"])[factor].hist(bins=100, density=True, ax=ax, figsize=(10, 10), legend=True)\n"
     ]
    },
    {
     "name": "stdout",
     "output_type": "stream",
     "text": [
      "--------------------------------------------------Rolling Estimates of Sensitivity Factors for RRC--------------------------------------------------\n",
      "--------------------------------------------------Done!--------------------------------------------------\n",
      "--------------------------------------------------Fitting Fama-French Factor Model--------------------------------------------------\n",
      "--------------------------------------------------Done!--------------------------------------------------\n"
     ]
    },
    {
     "name": "stderr",
     "output_type": "stream",
     "text": [
      "/Users/souratoshkhan/CQF/BlPortfolioConstruction/blportopt/fama_french_model.py:205: FutureWarning: The default of observed=False is deprecated and will be changed to True in a future version of pandas. Pass observed=False to retain current behavior or observed=True to adopt the future default and silence this warning.\n",
      "  rolling_betas.groupby([\"Group\"])[self.rf_col].hist(bins=100, density=True, legend=True)\n",
      "/Users/souratoshkhan/CQF/BlPortfolioConstruction/blportopt/fama_french_model.py:226: FutureWarning: The default of observed=False is deprecated and will be changed to True in a future version of pandas. Pass observed=False to retain current behavior or observed=True to adopt the future default and silence this warning.\n",
      "  rolling_betas.groupby([\"Group\"])[factor].hist(bins=100, density=True, ax=ax, figsize=(10, 10), legend=True)\n"
     ]
    },
    {
     "name": "stdout",
     "output_type": "stream",
     "text": [
      "--------------------------------------------------Rolling Estimates of Sensitivity Factors for BBY--------------------------------------------------\n",
      "--------------------------------------------------Done!--------------------------------------------------\n",
      "--------------------------------------------------Fitting Fama-French Factor Model--------------------------------------------------\n",
      "--------------------------------------------------Done!--------------------------------------------------\n"
     ]
    },
    {
     "name": "stderr",
     "output_type": "stream",
     "text": [
      "/Users/souratoshkhan/CQF/BlPortfolioConstruction/blportopt/fama_french_model.py:205: FutureWarning: The default of observed=False is deprecated and will be changed to True in a future version of pandas. Pass observed=False to retain current behavior or observed=True to adopt the future default and silence this warning.\n",
      "  rolling_betas.groupby([\"Group\"])[self.rf_col].hist(bins=100, density=True, legend=True)\n",
      "/Users/souratoshkhan/CQF/BlPortfolioConstruction/blportopt/fama_french_model.py:226: FutureWarning: The default of observed=False is deprecated and will be changed to True in a future version of pandas. Pass observed=False to retain current behavior or observed=True to adopt the future default and silence this warning.\n",
      "  rolling_betas.groupby([\"Group\"])[factor].hist(bins=100, density=True, ax=ax, figsize=(10, 10), legend=True)\n"
     ]
    },
    {
     "name": "stdout",
     "output_type": "stream",
     "text": [
      "--------------------------------------------------Rolling Estimates of Sensitivity Factors for PFE--------------------------------------------------\n",
      "--------------------------------------------------Done!--------------------------------------------------\n",
      "--------------------------------------------------Fitting Fama-French Factor Model--------------------------------------------------\n",
      "--------------------------------------------------Done!--------------------------------------------------\n"
     ]
    },
    {
     "name": "stderr",
     "output_type": "stream",
     "text": [
      "/Users/souratoshkhan/CQF/BlPortfolioConstruction/blportopt/fama_french_model.py:205: FutureWarning: The default of observed=False is deprecated and will be changed to True in a future version of pandas. Pass observed=False to retain current behavior or observed=True to adopt the future default and silence this warning.\n",
      "  rolling_betas.groupby([\"Group\"])[self.rf_col].hist(bins=100, density=True, legend=True)\n",
      "/Users/souratoshkhan/CQF/BlPortfolioConstruction/blportopt/fama_french_model.py:226: FutureWarning: The default of observed=False is deprecated and will be changed to True in a future version of pandas. Pass observed=False to retain current behavior or observed=True to adopt the future default and silence this warning.\n",
      "  rolling_betas.groupby([\"Group\"])[factor].hist(bins=100, density=True, ax=ax, figsize=(10, 10), legend=True)\n"
     ]
    },
    {
     "name": "stdout",
     "output_type": "stream",
     "text": [
      "--------------------------------------------------Rolling Estimates of Sensitivity Factors for JPM--------------------------------------------------\n",
      "--------------------------------------------------Done!--------------------------------------------------\n",
      "--------------------------------------------------Fitting Fama-French Factor Model--------------------------------------------------\n",
      "--------------------------------------------------Done!--------------------------------------------------\n"
     ]
    },
    {
     "name": "stderr",
     "output_type": "stream",
     "text": [
      "/Users/souratoshkhan/CQF/BlPortfolioConstruction/blportopt/fama_french_model.py:205: FutureWarning: The default of observed=False is deprecated and will be changed to True in a future version of pandas. Pass observed=False to retain current behavior or observed=True to adopt the future default and silence this warning.\n",
      "  rolling_betas.groupby([\"Group\"])[self.rf_col].hist(bins=100, density=True, legend=True)\n",
      "/Users/souratoshkhan/CQF/BlPortfolioConstruction/blportopt/fama_french_model.py:226: FutureWarning: The default of observed=False is deprecated and will be changed to True in a future version of pandas. Pass observed=False to retain current behavior or observed=True to adopt the future default and silence this warning.\n",
      "  rolling_betas.groupby([\"Group\"])[factor].hist(bins=100, density=True, ax=ax, figsize=(10, 10), legend=True)\n"
     ]
    },
    {
     "name": "stdout",
     "output_type": "stream",
     "text": [
      "--------------------------------------------------Rolling Estimates of Sensitivity Factors for C--------------------------------------------------\n",
      "--------------------------------------------------Done!--------------------------------------------------\n",
      "--------------------------------------------------Fitting Fama-French Factor Model--------------------------------------------------\n",
      "--------------------------------------------------Done!--------------------------------------------------\n"
     ]
    },
    {
     "name": "stderr",
     "output_type": "stream",
     "text": [
      "/Users/souratoshkhan/CQF/BlPortfolioConstruction/blportopt/fama_french_model.py:205: FutureWarning: The default of observed=False is deprecated and will be changed to True in a future version of pandas. Pass observed=False to retain current behavior or observed=True to adopt the future default and silence this warning.\n",
      "  rolling_betas.groupby([\"Group\"])[self.rf_col].hist(bins=100, density=True, legend=True)\n",
      "/Users/souratoshkhan/CQF/BlPortfolioConstruction/blportopt/fama_french_model.py:226: FutureWarning: The default of observed=False is deprecated and will be changed to True in a future version of pandas. Pass observed=False to retain current behavior or observed=True to adopt the future default and silence this warning.\n",
      "  rolling_betas.groupby([\"Group\"])[factor].hist(bins=100, density=True, ax=ax, figsize=(10, 10), legend=True)\n"
     ]
    },
    {
     "name": "stdout",
     "output_type": "stream",
     "text": [
      "--------------------------------------------------Rolling Estimates of Sensitivity Factors for MCD--------------------------------------------------\n",
      "--------------------------------------------------Done!--------------------------------------------------\n",
      "--------------------------------------------------Fitting Fama-French Factor Model--------------------------------------------------\n",
      "--------------------------------------------------Done!--------------------------------------------------\n"
     ]
    },
    {
     "name": "stderr",
     "output_type": "stream",
     "text": [
      "/Users/souratoshkhan/CQF/BlPortfolioConstruction/blportopt/fama_french_model.py:205: FutureWarning: The default of observed=False is deprecated and will be changed to True in a future version of pandas. Pass observed=False to retain current behavior or observed=True to adopt the future default and silence this warning.\n",
      "  rolling_betas.groupby([\"Group\"])[self.rf_col].hist(bins=100, density=True, legend=True)\n",
      "/Users/souratoshkhan/CQF/BlPortfolioConstruction/blportopt/fama_french_model.py:226: FutureWarning: The default of observed=False is deprecated and will be changed to True in a future version of pandas. Pass observed=False to retain current behavior or observed=True to adopt the future default and silence this warning.\n",
      "  rolling_betas.groupby([\"Group\"])[factor].hist(bins=100, density=True, ax=ax, figsize=(10, 10), legend=True)\n"
     ]
    },
    {
     "name": "stdout",
     "output_type": "stream",
     "text": [
      "--------------------------------------------------Rolling Estimates of Sensitivity Factors for KO--------------------------------------------------\n",
      "--------------------------------------------------Done!--------------------------------------------------\n",
      "--------------------------------------------------Fitting Fama-French Factor Model--------------------------------------------------\n",
      "--------------------------------------------------Done!--------------------------------------------------\n"
     ]
    },
    {
     "name": "stderr",
     "output_type": "stream",
     "text": [
      "/Users/souratoshkhan/CQF/BlPortfolioConstruction/blportopt/fama_french_model.py:205: FutureWarning: The default of observed=False is deprecated and will be changed to True in a future version of pandas. Pass observed=False to retain current behavior or observed=True to adopt the future default and silence this warning.\n",
      "  rolling_betas.groupby([\"Group\"])[self.rf_col].hist(bins=100, density=True, legend=True)\n",
      "/Users/souratoshkhan/CQF/BlPortfolioConstruction/blportopt/fama_french_model.py:226: FutureWarning: The default of observed=False is deprecated and will be changed to True in a future version of pandas. Pass observed=False to retain current behavior or observed=True to adopt the future default and silence this warning.\n",
      "  rolling_betas.groupby([\"Group\"])[factor].hist(bins=100, density=True, ax=ax, figsize=(10, 10), legend=True)\n"
     ]
    },
    {
     "name": "stdout",
     "output_type": "stream",
     "text": [
      "--------------------------------------------------Rolling Estimates of Sensitivity Factors for JNJ--------------------------------------------------\n",
      "--------------------------------------------------Done!--------------------------------------------------\n",
      "--------------------------------------------------Fitting Fama-French Factor Model--------------------------------------------------\n",
      "--------------------------------------------------Done!--------------------------------------------------\n"
     ]
    },
    {
     "name": "stderr",
     "output_type": "stream",
     "text": [
      "/Users/souratoshkhan/CQF/BlPortfolioConstruction/blportopt/fama_french_model.py:205: FutureWarning: The default of observed=False is deprecated and will be changed to True in a future version of pandas. Pass observed=False to retain current behavior or observed=True to adopt the future default and silence this warning.\n",
      "  rolling_betas.groupby([\"Group\"])[self.rf_col].hist(bins=100, density=True, legend=True)\n",
      "/Users/souratoshkhan/CQF/BlPortfolioConstruction/blportopt/fama_french_model.py:226: FutureWarning: The default of observed=False is deprecated and will be changed to True in a future version of pandas. Pass observed=False to retain current behavior or observed=True to adopt the future default and silence this warning.\n",
      "  rolling_betas.groupby([\"Group\"])[factor].hist(bins=100, density=True, ax=ax, figsize=(10, 10), legend=True)\n"
     ]
    },
    {
     "name": "stdout",
     "output_type": "stream",
     "text": [
      "--------------------------------------------------Rolling Estimates of Sensitivity Factors for WHR--------------------------------------------------\n",
      "--------------------------------------------------Done!--------------------------------------------------\n",
      "--------------------------------------------------Fitting Fama-French Factor Model--------------------------------------------------\n",
      "--------------------------------------------------Done!--------------------------------------------------\n"
     ]
    },
    {
     "name": "stderr",
     "output_type": "stream",
     "text": [
      "/Users/souratoshkhan/CQF/BlPortfolioConstruction/blportopt/fama_french_model.py:205: FutureWarning: The default of observed=False is deprecated and will be changed to True in a future version of pandas. Pass observed=False to retain current behavior or observed=True to adopt the future default and silence this warning.\n",
      "  rolling_betas.groupby([\"Group\"])[self.rf_col].hist(bins=100, density=True, legend=True)\n",
      "/Users/souratoshkhan/CQF/BlPortfolioConstruction/blportopt/fama_french_model.py:226: FutureWarning: The default of observed=False is deprecated and will be changed to True in a future version of pandas. Pass observed=False to retain current behavior or observed=True to adopt the future default and silence this warning.\n",
      "  rolling_betas.groupby([\"Group\"])[factor].hist(bins=100, density=True, ax=ax, figsize=(10, 10), legend=True)\n"
     ]
    },
    {
     "name": "stdout",
     "output_type": "stream",
     "text": [
      "--------------------------------------------------Rolling Estimates of Sensitivity Factors for MMM--------------------------------------------------\n",
      "--------------------------------------------------Done!--------------------------------------------------\n",
      "--------------------------------------------------Fitting Fama-French Factor Model--------------------------------------------------\n",
      "--------------------------------------------------Done!--------------------------------------------------\n"
     ]
    },
    {
     "name": "stderr",
     "output_type": "stream",
     "text": [
      "/Users/souratoshkhan/CQF/BlPortfolioConstruction/blportopt/fama_french_model.py:205: FutureWarning: The default of observed=False is deprecated and will be changed to True in a future version of pandas. Pass observed=False to retain current behavior or observed=True to adopt the future default and silence this warning.\n",
      "  rolling_betas.groupby([\"Group\"])[self.rf_col].hist(bins=100, density=True, legend=True)\n",
      "/Users/souratoshkhan/CQF/BlPortfolioConstruction/blportopt/fama_french_model.py:226: FutureWarning: The default of observed=False is deprecated and will be changed to True in a future version of pandas. Pass observed=False to retain current behavior or observed=True to adopt the future default and silence this warning.\n",
      "  rolling_betas.groupby([\"Group\"])[factor].hist(bins=100, density=True, ax=ax, figsize=(10, 10), legend=True)\n"
     ]
    },
    {
     "name": "stdout",
     "output_type": "stream",
     "text": [
      "--------------------------------------------------Rolling Estimates of Sensitivity Factors for GIS--------------------------------------------------\n",
      "--------------------------------------------------Done!--------------------------------------------------\n",
      "--------------------------------------------------Fitting Fama-French Factor Model--------------------------------------------------\n",
      "--------------------------------------------------Done!--------------------------------------------------\n"
     ]
    },
    {
     "name": "stderr",
     "output_type": "stream",
     "text": [
      "/Users/souratoshkhan/CQF/BlPortfolioConstruction/blportopt/fama_french_model.py:205: FutureWarning: The default of observed=False is deprecated and will be changed to True in a future version of pandas. Pass observed=False to retain current behavior or observed=True to adopt the future default and silence this warning.\n",
      "  rolling_betas.groupby([\"Group\"])[self.rf_col].hist(bins=100, density=True, legend=True)\n",
      "/Users/souratoshkhan/CQF/BlPortfolioConstruction/blportopt/fama_french_model.py:226: FutureWarning: The default of observed=False is deprecated and will be changed to True in a future version of pandas. Pass observed=False to retain current behavior or observed=True to adopt the future default and silence this warning.\n",
      "  rolling_betas.groupby([\"Group\"])[factor].hist(bins=100, density=True, ax=ax, figsize=(10, 10), legend=True)\n"
     ]
    },
    {
     "name": "stdout",
     "output_type": "stream",
     "text": [
      "--------------------------------------------------Rolling Estimates of Sensitivity Factors for AAPL--------------------------------------------------\n",
      "--------------------------------------------------Done!--------------------------------------------------\n",
      "--------------------------------------------------Fitting Fama-French Factor Model--------------------------------------------------\n",
      "--------------------------------------------------Done!--------------------------------------------------\n"
     ]
    },
    {
     "name": "stderr",
     "output_type": "stream",
     "text": [
      "/Users/souratoshkhan/CQF/BlPortfolioConstruction/blportopt/fama_french_model.py:205: FutureWarning: The default of observed=False is deprecated and will be changed to True in a future version of pandas. Pass observed=False to retain current behavior or observed=True to adopt the future default and silence this warning.\n",
      "  rolling_betas.groupby([\"Group\"])[self.rf_col].hist(bins=100, density=True, legend=True)\n",
      "/Users/souratoshkhan/CQF/BlPortfolioConstruction/blportopt/fama_french_model.py:226: FutureWarning: The default of observed=False is deprecated and will be changed to True in a future version of pandas. Pass observed=False to retain current behavior or observed=True to adopt the future default and silence this warning.\n",
      "  rolling_betas.groupby([\"Group\"])[factor].hist(bins=100, density=True, ax=ax, figsize=(10, 10), legend=True)\n"
     ]
    },
    {
     "name": "stdout",
     "output_type": "stream",
     "text": [
      "--------------------------------------------------Rolling Estimates of Sensitivity Factors for IBM--------------------------------------------------\n",
      "--------------------------------------------------Done!--------------------------------------------------\n",
      "--------------------------------------------------Fitting Fama-French Factor Model--------------------------------------------------\n",
      "--------------------------------------------------Done!--------------------------------------------------\n"
     ]
    },
    {
     "name": "stderr",
     "output_type": "stream",
     "text": [
      "/Users/souratoshkhan/CQF/BlPortfolioConstruction/blportopt/fama_french_model.py:205: FutureWarning: The default of observed=False is deprecated and will be changed to True in a future version of pandas. Pass observed=False to retain current behavior or observed=True to adopt the future default and silence this warning.\n",
      "  rolling_betas.groupby([\"Group\"])[self.rf_col].hist(bins=100, density=True, legend=True)\n",
      "/Users/souratoshkhan/CQF/BlPortfolioConstruction/blportopt/fama_french_model.py:226: FutureWarning: The default of observed=False is deprecated and will be changed to True in a future version of pandas. Pass observed=False to retain current behavior or observed=True to adopt the future default and silence this warning.\n",
      "  rolling_betas.groupby([\"Group\"])[factor].hist(bins=100, density=True, ax=ax, figsize=(10, 10), legend=True)\n"
     ]
    },
    {
     "name": "stdout",
     "output_type": "stream",
     "text": [
      "--------------------------------------------------Rolling Estimates of Sensitivity Factors for PG--------------------------------------------------\n",
      "--------------------------------------------------Done!--------------------------------------------------\n",
      "--------------------------------------------------Fitting Fama-French Factor Model--------------------------------------------------\n",
      "--------------------------------------------------Done!--------------------------------------------------\n"
     ]
    },
    {
     "name": "stderr",
     "output_type": "stream",
     "text": [
      "/Users/souratoshkhan/CQF/BlPortfolioConstruction/blportopt/fama_french_model.py:205: FutureWarning: The default of observed=False is deprecated and will be changed to True in a future version of pandas. Pass observed=False to retain current behavior or observed=True to adopt the future default and silence this warning.\n",
      "  rolling_betas.groupby([\"Group\"])[self.rf_col].hist(bins=100, density=True, legend=True)\n",
      "/Users/souratoshkhan/CQF/BlPortfolioConstruction/blportopt/fama_french_model.py:226: FutureWarning: The default of observed=False is deprecated and will be changed to True in a future version of pandas. Pass observed=False to retain current behavior or observed=True to adopt the future default and silence this warning.\n",
      "  rolling_betas.groupby([\"Group\"])[factor].hist(bins=100, density=True, ax=ax, figsize=(10, 10), legend=True)\n"
     ]
    },
    {
     "name": "stdout",
     "output_type": "stream",
     "text": [
      "--------------------------------------------------Rolling Estimates of Sensitivity Factors for GE--------------------------------------------------\n",
      "--------------------------------------------------Done!--------------------------------------------------\n",
      "--------------------------------------------------Fitting Fama-French Factor Model--------------------------------------------------\n",
      "--------------------------------------------------Done!--------------------------------------------------\n"
     ]
    },
    {
     "name": "stderr",
     "output_type": "stream",
     "text": [
      "/Users/souratoshkhan/CQF/BlPortfolioConstruction/blportopt/fama_french_model.py:205: FutureWarning: The default of observed=False is deprecated and will be changed to True in a future version of pandas. Pass observed=False to retain current behavior or observed=True to adopt the future default and silence this warning.\n",
      "  rolling_betas.groupby([\"Group\"])[self.rf_col].hist(bins=100, density=True, legend=True)\n",
      "/Users/souratoshkhan/CQF/BlPortfolioConstruction/blportopt/fama_french_model.py:226: FutureWarning: The default of observed=False is deprecated and will be changed to True in a future version of pandas. Pass observed=False to retain current behavior or observed=True to adopt the future default and silence this warning.\n",
      "  rolling_betas.groupby([\"Group\"])[factor].hist(bins=100, density=True, ax=ax, figsize=(10, 10), legend=True)\n"
     ]
    },
    {
     "name": "stdout",
     "output_type": "stream",
     "text": [
      "--------------------------------------------------Rolling Estimates of Sensitivity Factors for AMD--------------------------------------------------\n",
      "--------------------------------------------------Done!--------------------------------------------------\n",
      "--------------------------------------------------Fitting Fama-French Factor Model--------------------------------------------------\n",
      "--------------------------------------------------Done!--------------------------------------------------\n"
     ]
    },
    {
     "name": "stderr",
     "output_type": "stream",
     "text": [
      "/Users/souratoshkhan/CQF/BlPortfolioConstruction/blportopt/fama_french_model.py:205: FutureWarning: The default of observed=False is deprecated and will be changed to True in a future version of pandas. Pass observed=False to retain current behavior or observed=True to adopt the future default and silence this warning.\n",
      "  rolling_betas.groupby([\"Group\"])[self.rf_col].hist(bins=100, density=True, legend=True)\n",
      "/Users/souratoshkhan/CQF/BlPortfolioConstruction/blportopt/fama_french_model.py:226: FutureWarning: The default of observed=False is deprecated and will be changed to True in a future version of pandas. Pass observed=False to retain current behavior or observed=True to adopt the future default and silence this warning.\n",
      "  rolling_betas.groupby([\"Group\"])[factor].hist(bins=100, density=True, ax=ax, figsize=(10, 10), legend=True)\n"
     ]
    },
    {
     "name": "stdout",
     "output_type": "stream",
     "text": [
      "--------------------------------------------------Rolling Estimates of Sensitivity Factors for WMT--------------------------------------------------\n",
      "--------------------------------------------------Done!--------------------------------------------------\n",
      "--------------------------------------------------Fitting Fama-French Factor Model--------------------------------------------------\n",
      "--------------------------------------------------Done!--------------------------------------------------\n"
     ]
    },
    {
     "name": "stderr",
     "output_type": "stream",
     "text": [
      "/Users/souratoshkhan/CQF/BlPortfolioConstruction/blportopt/fama_french_model.py:205: FutureWarning: The default of observed=False is deprecated and will be changed to True in a future version of pandas. Pass observed=False to retain current behavior or observed=True to adopt the future default and silence this warning.\n",
      "  rolling_betas.groupby([\"Group\"])[self.rf_col].hist(bins=100, density=True, legend=True)\n",
      "/Users/souratoshkhan/CQF/BlPortfolioConstruction/blportopt/fama_french_model.py:226: FutureWarning: The default of observed=False is deprecated and will be changed to True in a future version of pandas. Pass observed=False to retain current behavior or observed=True to adopt the future default and silence this warning.\n",
      "  rolling_betas.groupby([\"Group\"])[factor].hist(bins=100, density=True, ax=ax, figsize=(10, 10), legend=True)\n"
     ]
    },
    {
     "name": "stdout",
     "output_type": "stream",
     "text": [
      "--------------------------------------------------Rolling Estimates of Sensitivity Factors for BAC--------------------------------------------------\n",
      "--------------------------------------------------Done!--------------------------------------------------\n",
      "--------------------------------------------------Fitting Fama-French Factor Model--------------------------------------------------\n",
      "--------------------------------------------------Done!--------------------------------------------------\n"
     ]
    },
    {
     "name": "stderr",
     "output_type": "stream",
     "text": [
      "/Users/souratoshkhan/CQF/BlPortfolioConstruction/blportopt/fama_french_model.py:205: FutureWarning: The default of observed=False is deprecated and will be changed to True in a future version of pandas. Pass observed=False to retain current behavior or observed=True to adopt the future default and silence this warning.\n",
      "  rolling_betas.groupby([\"Group\"])[self.rf_col].hist(bins=100, density=True, legend=True)\n",
      "/Users/souratoshkhan/CQF/BlPortfolioConstruction/blportopt/fama_french_model.py:226: FutureWarning: The default of observed=False is deprecated and will be changed to True in a future version of pandas. Pass observed=False to retain current behavior or observed=True to adopt the future default and silence this warning.\n",
      "  rolling_betas.groupby([\"Group\"])[factor].hist(bins=100, density=True, ax=ax, figsize=(10, 10), legend=True)\n"
     ]
    },
    {
     "name": "stdout",
     "output_type": "stream",
     "text": [
      "--------------------------------------------------Rolling Estimates of Sensitivity Factors for T--------------------------------------------------\n",
      "--------------------------------------------------Done!--------------------------------------------------\n",
      "--------------------------------------------------Fitting Fama-French Factor Model--------------------------------------------------\n",
      "--------------------------------------------------Done!--------------------------------------------------\n"
     ]
    },
    {
     "name": "stderr",
     "output_type": "stream",
     "text": [
      "/Users/souratoshkhan/CQF/BlPortfolioConstruction/blportopt/fama_french_model.py:205: FutureWarning: The default of observed=False is deprecated and will be changed to True in a future version of pandas. Pass observed=False to retain current behavior or observed=True to adopt the future default and silence this warning.\n",
      "  rolling_betas.groupby([\"Group\"])[self.rf_col].hist(bins=100, density=True, legend=True)\n",
      "/Users/souratoshkhan/CQF/BlPortfolioConstruction/blportopt/fama_french_model.py:226: FutureWarning: The default of observed=False is deprecated and will be changed to True in a future version of pandas. Pass observed=False to retain current behavior or observed=True to adopt the future default and silence this warning.\n",
      "  rolling_betas.groupby([\"Group\"])[factor].hist(bins=100, density=True, ax=ax, figsize=(10, 10), legend=True)\n"
     ]
    },
    {
     "name": "stdout",
     "output_type": "stream",
     "text": [
      "--------------------------------------------------Rolling Estimates of Sensitivity Factors for XOM--------------------------------------------------\n",
      "--------------------------------------------------Done!--------------------------------------------------\n",
      "--------------------------------------------------Fitting Fama-French Factor Model--------------------------------------------------\n",
      "--------------------------------------------------Done!--------------------------------------------------\n"
     ]
    },
    {
     "name": "stderr",
     "output_type": "stream",
     "text": [
      "/Users/souratoshkhan/CQF/BlPortfolioConstruction/blportopt/fama_french_model.py:205: FutureWarning: The default of observed=False is deprecated and will be changed to True in a future version of pandas. Pass observed=False to retain current behavior or observed=True to adopt the future default and silence this warning.\n",
      "  rolling_betas.groupby([\"Group\"])[self.rf_col].hist(bins=100, density=True, legend=True)\n",
      "/Users/souratoshkhan/CQF/BlPortfolioConstruction/blportopt/fama_french_model.py:226: FutureWarning: The default of observed=False is deprecated and will be changed to True in a future version of pandas. Pass observed=False to retain current behavior or observed=True to adopt the future default and silence this warning.\n",
      "  rolling_betas.groupby([\"Group\"])[factor].hist(bins=100, density=True, ax=ax, figsize=(10, 10), legend=True)\n"
     ]
    },
    {
     "name": "stdout",
     "output_type": "stream",
     "text": [
      "--------------------------------------------------Rolling Estimates of Sensitivity Factors for RRC--------------------------------------------------\n",
      "--------------------------------------------------Done!--------------------------------------------------\n",
      "--------------------------------------------------Fitting Fama-French Factor Model--------------------------------------------------\n",
      "--------------------------------------------------Done!--------------------------------------------------\n"
     ]
    },
    {
     "name": "stderr",
     "output_type": "stream",
     "text": [
      "/Users/souratoshkhan/CQF/BlPortfolioConstruction/blportopt/fama_french_model.py:205: FutureWarning: The default of observed=False is deprecated and will be changed to True in a future version of pandas. Pass observed=False to retain current behavior or observed=True to adopt the future default and silence this warning.\n",
      "  rolling_betas.groupby([\"Group\"])[self.rf_col].hist(bins=100, density=True, legend=True)\n",
      "/Users/souratoshkhan/CQF/BlPortfolioConstruction/blportopt/fama_french_model.py:226: FutureWarning: The default of observed=False is deprecated and will be changed to True in a future version of pandas. Pass observed=False to retain current behavior or observed=True to adopt the future default and silence this warning.\n",
      "  rolling_betas.groupby([\"Group\"])[factor].hist(bins=100, density=True, ax=ax, figsize=(10, 10), legend=True)\n"
     ]
    },
    {
     "name": "stdout",
     "output_type": "stream",
     "text": [
      "--------------------------------------------------Rolling Estimates of Sensitivity Factors for BBY--------------------------------------------------\n",
      "--------------------------------------------------Done!--------------------------------------------------\n",
      "--------------------------------------------------Fitting Fama-French Factor Model--------------------------------------------------\n",
      "--------------------------------------------------Done!--------------------------------------------------\n"
     ]
    },
    {
     "name": "stderr",
     "output_type": "stream",
     "text": [
      "/Users/souratoshkhan/CQF/BlPortfolioConstruction/blportopt/fama_french_model.py:205: FutureWarning: The default of observed=False is deprecated and will be changed to True in a future version of pandas. Pass observed=False to retain current behavior or observed=True to adopt the future default and silence this warning.\n",
      "  rolling_betas.groupby([\"Group\"])[self.rf_col].hist(bins=100, density=True, legend=True)\n",
      "/Users/souratoshkhan/CQF/BlPortfolioConstruction/blportopt/fama_french_model.py:226: FutureWarning: The default of observed=False is deprecated and will be changed to True in a future version of pandas. Pass observed=False to retain current behavior or observed=True to adopt the future default and silence this warning.\n",
      "  rolling_betas.groupby([\"Group\"])[factor].hist(bins=100, density=True, ax=ax, figsize=(10, 10), legend=True)\n"
     ]
    },
    {
     "name": "stdout",
     "output_type": "stream",
     "text": [
      "--------------------------------------------------Rolling Estimates of Sensitivity Factors for PFE--------------------------------------------------\n",
      "--------------------------------------------------Done!--------------------------------------------------\n",
      "--------------------------------------------------Fitting Fama-French Factor Model--------------------------------------------------\n",
      "--------------------------------------------------Done!--------------------------------------------------\n"
     ]
    },
    {
     "name": "stderr",
     "output_type": "stream",
     "text": [
      "/Users/souratoshkhan/CQF/BlPortfolioConstruction/blportopt/fama_french_model.py:205: FutureWarning: The default of observed=False is deprecated and will be changed to True in a future version of pandas. Pass observed=False to retain current behavior or observed=True to adopt the future default and silence this warning.\n",
      "  rolling_betas.groupby([\"Group\"])[self.rf_col].hist(bins=100, density=True, legend=True)\n",
      "/Users/souratoshkhan/CQF/BlPortfolioConstruction/blportopt/fama_french_model.py:226: FutureWarning: The default of observed=False is deprecated and will be changed to True in a future version of pandas. Pass observed=False to retain current behavior or observed=True to adopt the future default and silence this warning.\n",
      "  rolling_betas.groupby([\"Group\"])[factor].hist(bins=100, density=True, ax=ax, figsize=(10, 10), legend=True)\n"
     ]
    },
    {
     "name": "stdout",
     "output_type": "stream",
     "text": [
      "--------------------------------------------------Rolling Estimates of Sensitivity Factors for JPM--------------------------------------------------\n",
      "--------------------------------------------------Done!--------------------------------------------------\n",
      "--------------------------------------------------Fitting Fama-French Factor Model--------------------------------------------------\n",
      "--------------------------------------------------Done!--------------------------------------------------\n"
     ]
    },
    {
     "name": "stderr",
     "output_type": "stream",
     "text": [
      "/Users/souratoshkhan/CQF/BlPortfolioConstruction/blportopt/fama_french_model.py:205: FutureWarning: The default of observed=False is deprecated and will be changed to True in a future version of pandas. Pass observed=False to retain current behavior or observed=True to adopt the future default and silence this warning.\n",
      "  rolling_betas.groupby([\"Group\"])[self.rf_col].hist(bins=100, density=True, legend=True)\n",
      "/Users/souratoshkhan/CQF/BlPortfolioConstruction/blportopt/fama_french_model.py:226: FutureWarning: The default of observed=False is deprecated and will be changed to True in a future version of pandas. Pass observed=False to retain current behavior or observed=True to adopt the future default and silence this warning.\n",
      "  rolling_betas.groupby([\"Group\"])[factor].hist(bins=100, density=True, ax=ax, figsize=(10, 10), legend=True)\n"
     ]
    },
    {
     "name": "stdout",
     "output_type": "stream",
     "text": [
      "--------------------------------------------------Rolling Estimates of Sensitivity Factors for C--------------------------------------------------\n",
      "--------------------------------------------------Done!--------------------------------------------------\n",
      "--------------------------------------------------Fitting Fama-French Factor Model--------------------------------------------------\n",
      "--------------------------------------------------Done!--------------------------------------------------\n"
     ]
    },
    {
     "name": "stderr",
     "output_type": "stream",
     "text": [
      "/Users/souratoshkhan/CQF/BlPortfolioConstruction/blportopt/fama_french_model.py:205: FutureWarning: The default of observed=False is deprecated and will be changed to True in a future version of pandas. Pass observed=False to retain current behavior or observed=True to adopt the future default and silence this warning.\n",
      "  rolling_betas.groupby([\"Group\"])[self.rf_col].hist(bins=100, density=True, legend=True)\n",
      "/Users/souratoshkhan/CQF/BlPortfolioConstruction/blportopt/fama_french_model.py:226: FutureWarning: The default of observed=False is deprecated and will be changed to True in a future version of pandas. Pass observed=False to retain current behavior or observed=True to adopt the future default and silence this warning.\n",
      "  rolling_betas.groupby([\"Group\"])[factor].hist(bins=100, density=True, ax=ax, figsize=(10, 10), legend=True)\n"
     ]
    },
    {
     "name": "stdout",
     "output_type": "stream",
     "text": [
      "--------------------------------------------------Rolling Estimates of Sensitivity Factors for MCD--------------------------------------------------\n",
      "--------------------------------------------------Done!--------------------------------------------------\n",
      "--------------------------------------------------Fitting Fama-French Factor Model--------------------------------------------------\n",
      "--------------------------------------------------Done!--------------------------------------------------\n"
     ]
    },
    {
     "name": "stderr",
     "output_type": "stream",
     "text": [
      "/Users/souratoshkhan/CQF/BlPortfolioConstruction/blportopt/fama_french_model.py:205: FutureWarning: The default of observed=False is deprecated and will be changed to True in a future version of pandas. Pass observed=False to retain current behavior or observed=True to adopt the future default and silence this warning.\n",
      "  rolling_betas.groupby([\"Group\"])[self.rf_col].hist(bins=100, density=True, legend=True)\n",
      "/Users/souratoshkhan/CQF/BlPortfolioConstruction/blportopt/fama_french_model.py:226: FutureWarning: The default of observed=False is deprecated and will be changed to True in a future version of pandas. Pass observed=False to retain current behavior or observed=True to adopt the future default and silence this warning.\n",
      "  rolling_betas.groupby([\"Group\"])[factor].hist(bins=100, density=True, ax=ax, figsize=(10, 10), legend=True)\n"
     ]
    },
    {
     "name": "stdout",
     "output_type": "stream",
     "text": [
      "--------------------------------------------------Rolling Estimates of Sensitivity Factors for KO--------------------------------------------------\n",
      "--------------------------------------------------Done!--------------------------------------------------\n",
      "--------------------------------------------------Fitting Fama-French Factor Model--------------------------------------------------\n",
      "--------------------------------------------------Done!--------------------------------------------------\n"
     ]
    },
    {
     "name": "stderr",
     "output_type": "stream",
     "text": [
      "/Users/souratoshkhan/CQF/BlPortfolioConstruction/blportopt/fama_french_model.py:205: FutureWarning: The default of observed=False is deprecated and will be changed to True in a future version of pandas. Pass observed=False to retain current behavior or observed=True to adopt the future default and silence this warning.\n",
      "  rolling_betas.groupby([\"Group\"])[self.rf_col].hist(bins=100, density=True, legend=True)\n",
      "/Users/souratoshkhan/CQF/BlPortfolioConstruction/blportopt/fama_french_model.py:226: FutureWarning: The default of observed=False is deprecated and will be changed to True in a future version of pandas. Pass observed=False to retain current behavior or observed=True to adopt the future default and silence this warning.\n",
      "  rolling_betas.groupby([\"Group\"])[factor].hist(bins=100, density=True, ax=ax, figsize=(10, 10), legend=True)\n"
     ]
    },
    {
     "name": "stdout",
     "output_type": "stream",
     "text": [
      "--------------------------------------------------Rolling Estimates of Sensitivity Factors for JNJ--------------------------------------------------\n",
      "--------------------------------------------------Done!--------------------------------------------------\n",
      "--------------------------------------------------Fitting Fama-French Factor Model--------------------------------------------------\n",
      "--------------------------------------------------Done!--------------------------------------------------\n"
     ]
    },
    {
     "name": "stderr",
     "output_type": "stream",
     "text": [
      "/Users/souratoshkhan/CQF/BlPortfolioConstruction/blportopt/fama_french_model.py:205: FutureWarning: The default of observed=False is deprecated and will be changed to True in a future version of pandas. Pass observed=False to retain current behavior or observed=True to adopt the future default and silence this warning.\n",
      "  rolling_betas.groupby([\"Group\"])[self.rf_col].hist(bins=100, density=True, legend=True)\n",
      "/Users/souratoshkhan/CQF/BlPortfolioConstruction/blportopt/fama_french_model.py:226: FutureWarning: The default of observed=False is deprecated and will be changed to True in a future version of pandas. Pass observed=False to retain current behavior or observed=True to adopt the future default and silence this warning.\n",
      "  rolling_betas.groupby([\"Group\"])[factor].hist(bins=100, density=True, ax=ax, figsize=(10, 10), legend=True)\n"
     ]
    },
    {
     "name": "stdout",
     "output_type": "stream",
     "text": [
      "--------------------------------------------------Rolling Estimates of Sensitivity Factors for WHR--------------------------------------------------\n",
      "--------------------------------------------------Done!--------------------------------------------------\n",
      "--------------------------------------------------Fitting Fama-French Factor Model--------------------------------------------------\n",
      "--------------------------------------------------Done!--------------------------------------------------\n"
     ]
    },
    {
     "name": "stderr",
     "output_type": "stream",
     "text": [
      "/Users/souratoshkhan/CQF/BlPortfolioConstruction/blportopt/fama_french_model.py:205: FutureWarning: The default of observed=False is deprecated and will be changed to True in a future version of pandas. Pass observed=False to retain current behavior or observed=True to adopt the future default and silence this warning.\n",
      "  rolling_betas.groupby([\"Group\"])[self.rf_col].hist(bins=100, density=True, legend=True)\n",
      "/Users/souratoshkhan/CQF/BlPortfolioConstruction/blportopt/fama_french_model.py:226: FutureWarning: The default of observed=False is deprecated and will be changed to True in a future version of pandas. Pass observed=False to retain current behavior or observed=True to adopt the future default and silence this warning.\n",
      "  rolling_betas.groupby([\"Group\"])[factor].hist(bins=100, density=True, ax=ax, figsize=(10, 10), legend=True)\n"
     ]
    },
    {
     "name": "stdout",
     "output_type": "stream",
     "text": [
      "--------------------------------------------------Rolling Estimates of Sensitivity Factors for MMM--------------------------------------------------\n",
      "--------------------------------------------------Done!--------------------------------------------------\n",
      "--------------------------------------------------Fitting Fama-French Factor Model--------------------------------------------------\n",
      "--------------------------------------------------Done!--------------------------------------------------\n"
     ]
    },
    {
     "name": "stderr",
     "output_type": "stream",
     "text": [
      "/Users/souratoshkhan/CQF/BlPortfolioConstruction/blportopt/fama_french_model.py:205: FutureWarning: The default of observed=False is deprecated and will be changed to True in a future version of pandas. Pass observed=False to retain current behavior or observed=True to adopt the future default and silence this warning.\n",
      "  rolling_betas.groupby([\"Group\"])[self.rf_col].hist(bins=100, density=True, legend=True)\n",
      "/Users/souratoshkhan/CQF/BlPortfolioConstruction/blportopt/fama_french_model.py:226: FutureWarning: The default of observed=False is deprecated and will be changed to True in a future version of pandas. Pass observed=False to retain current behavior or observed=True to adopt the future default and silence this warning.\n",
      "  rolling_betas.groupby([\"Group\"])[factor].hist(bins=100, density=True, ax=ax, figsize=(10, 10), legend=True)\n"
     ]
    },
    {
     "name": "stdout",
     "output_type": "stream",
     "text": [
      "--------------------------------------------------Rolling Estimates of Sensitivity Factors for GIS--------------------------------------------------\n",
      "--------------------------------------------------Done!--------------------------------------------------\n",
      "--------------------------------------------------Fitting Fama-French Factor Model--------------------------------------------------\n",
      "--------------------------------------------------Done!--------------------------------------------------\n"
     ]
    },
    {
     "name": "stderr",
     "output_type": "stream",
     "text": [
      "/Users/souratoshkhan/CQF/BlPortfolioConstruction/blportopt/fama_french_model.py:205: FutureWarning: The default of observed=False is deprecated and will be changed to True in a future version of pandas. Pass observed=False to retain current behavior or observed=True to adopt the future default and silence this warning.\n",
      "  rolling_betas.groupby([\"Group\"])[self.rf_col].hist(bins=100, density=True, legend=True)\n",
      "/Users/souratoshkhan/CQF/BlPortfolioConstruction/blportopt/fama_french_model.py:226: FutureWarning: The default of observed=False is deprecated and will be changed to True in a future version of pandas. Pass observed=False to retain current behavior or observed=True to adopt the future default and silence this warning.\n",
      "  rolling_betas.groupby([\"Group\"])[factor].hist(bins=100, density=True, ax=ax, figsize=(10, 10), legend=True)\n"
     ]
    },
    {
     "name": "stdout",
     "output_type": "stream",
     "text": [
      "--------------------------------------------------Rolling Estimates of Sensitivity Factors for AAPL--------------------------------------------------\n",
      "--------------------------------------------------Done!--------------------------------------------------\n",
      "--------------------------------------------------Fitting Fama-French Factor Model--------------------------------------------------\n",
      "--------------------------------------------------Done!--------------------------------------------------\n"
     ]
    },
    {
     "name": "stderr",
     "output_type": "stream",
     "text": [
      "/Users/souratoshkhan/CQF/BlPortfolioConstruction/blportopt/fama_french_model.py:205: FutureWarning: The default of observed=False is deprecated and will be changed to True in a future version of pandas. Pass observed=False to retain current behavior or observed=True to adopt the future default and silence this warning.\n",
      "  rolling_betas.groupby([\"Group\"])[self.rf_col].hist(bins=100, density=True, legend=True)\n",
      "/Users/souratoshkhan/CQF/BlPortfolioConstruction/blportopt/fama_french_model.py:226: FutureWarning: The default of observed=False is deprecated and will be changed to True in a future version of pandas. Pass observed=False to retain current behavior or observed=True to adopt the future default and silence this warning.\n",
      "  rolling_betas.groupby([\"Group\"])[factor].hist(bins=100, density=True, ax=ax, figsize=(10, 10), legend=True)\n"
     ]
    },
    {
     "name": "stdout",
     "output_type": "stream",
     "text": [
      "--------------------------------------------------Rolling Estimates of Sensitivity Factors for IBM--------------------------------------------------\n",
      "--------------------------------------------------Done!--------------------------------------------------\n",
      "--------------------------------------------------Fitting Fama-French Factor Model--------------------------------------------------\n",
      "--------------------------------------------------Done!--------------------------------------------------\n"
     ]
    },
    {
     "name": "stderr",
     "output_type": "stream",
     "text": [
      "/Users/souratoshkhan/CQF/BlPortfolioConstruction/blportopt/fama_french_model.py:205: FutureWarning: The default of observed=False is deprecated and will be changed to True in a future version of pandas. Pass observed=False to retain current behavior or observed=True to adopt the future default and silence this warning.\n",
      "  rolling_betas.groupby([\"Group\"])[self.rf_col].hist(bins=100, density=True, legend=True)\n",
      "/Users/souratoshkhan/CQF/BlPortfolioConstruction/blportopt/fama_french_model.py:226: FutureWarning: The default of observed=False is deprecated and will be changed to True in a future version of pandas. Pass observed=False to retain current behavior or observed=True to adopt the future default and silence this warning.\n",
      "  rolling_betas.groupby([\"Group\"])[factor].hist(bins=100, density=True, ax=ax, figsize=(10, 10), legend=True)\n"
     ]
    },
    {
     "name": "stdout",
     "output_type": "stream",
     "text": [
      "--------------------------------------------------Rolling Estimates of Sensitivity Factors for PG--------------------------------------------------\n",
      "--------------------------------------------------Done!--------------------------------------------------\n",
      "--------------------------------------------------Fitting Fama-French Factor Model--------------------------------------------------\n",
      "--------------------------------------------------Done!--------------------------------------------------\n"
     ]
    },
    {
     "name": "stderr",
     "output_type": "stream",
     "text": [
      "/Users/souratoshkhan/CQF/BlPortfolioConstruction/blportopt/fama_french_model.py:205: FutureWarning: The default of observed=False is deprecated and will be changed to True in a future version of pandas. Pass observed=False to retain current behavior or observed=True to adopt the future default and silence this warning.\n",
      "  rolling_betas.groupby([\"Group\"])[self.rf_col].hist(bins=100, density=True, legend=True)\n",
      "/Users/souratoshkhan/CQF/BlPortfolioConstruction/blportopt/fama_french_model.py:226: FutureWarning: The default of observed=False is deprecated and will be changed to True in a future version of pandas. Pass observed=False to retain current behavior or observed=True to adopt the future default and silence this warning.\n",
      "  rolling_betas.groupby([\"Group\"])[factor].hist(bins=100, density=True, ax=ax, figsize=(10, 10), legend=True)\n"
     ]
    },
    {
     "name": "stdout",
     "output_type": "stream",
     "text": [
      "--------------------------------------------------Rolling Estimates of Sensitivity Factors for GE--------------------------------------------------\n",
      "--------------------------------------------------Done!--------------------------------------------------\n",
      "--------------------------------------------------Fitting Fama-French Factor Model--------------------------------------------------\n",
      "--------------------------------------------------Done!--------------------------------------------------\n"
     ]
    },
    {
     "name": "stderr",
     "output_type": "stream",
     "text": [
      "/Users/souratoshkhan/CQF/BlPortfolioConstruction/blportopt/fama_french_model.py:205: FutureWarning: The default of observed=False is deprecated and will be changed to True in a future version of pandas. Pass observed=False to retain current behavior or observed=True to adopt the future default and silence this warning.\n",
      "  rolling_betas.groupby([\"Group\"])[self.rf_col].hist(bins=100, density=True, legend=True)\n",
      "/Users/souratoshkhan/CQF/BlPortfolioConstruction/blportopt/fama_french_model.py:226: FutureWarning: The default of observed=False is deprecated and will be changed to True in a future version of pandas. Pass observed=False to retain current behavior or observed=True to adopt the future default and silence this warning.\n",
      "  rolling_betas.groupby([\"Group\"])[factor].hist(bins=100, density=True, ax=ax, figsize=(10, 10), legend=True)\n"
     ]
    },
    {
     "name": "stdout",
     "output_type": "stream",
     "text": [
      "--------------------------------------------------Rolling Estimates of Sensitivity Factors for AMD--------------------------------------------------\n",
      "--------------------------------------------------Done!--------------------------------------------------\n",
      "--------------------------------------------------Fitting Fama-French Factor Model--------------------------------------------------\n",
      "--------------------------------------------------Done!--------------------------------------------------\n"
     ]
    },
    {
     "name": "stderr",
     "output_type": "stream",
     "text": [
      "/Users/souratoshkhan/CQF/BlPortfolioConstruction/blportopt/fama_french_model.py:205: FutureWarning: The default of observed=False is deprecated and will be changed to True in a future version of pandas. Pass observed=False to retain current behavior or observed=True to adopt the future default and silence this warning.\n",
      "  rolling_betas.groupby([\"Group\"])[self.rf_col].hist(bins=100, density=True, legend=True)\n",
      "/Users/souratoshkhan/CQF/BlPortfolioConstruction/blportopt/fama_french_model.py:226: FutureWarning: The default of observed=False is deprecated and will be changed to True in a future version of pandas. Pass observed=False to retain current behavior or observed=True to adopt the future default and silence this warning.\n",
      "  rolling_betas.groupby([\"Group\"])[factor].hist(bins=100, density=True, ax=ax, figsize=(10, 10), legend=True)\n"
     ]
    },
    {
     "name": "stdout",
     "output_type": "stream",
     "text": [
      "--------------------------------------------------Rolling Estimates of Sensitivity Factors for WMT--------------------------------------------------\n",
      "--------------------------------------------------Done!--------------------------------------------------\n",
      "--------------------------------------------------Fitting Fama-French Factor Model--------------------------------------------------\n",
      "--------------------------------------------------Done!--------------------------------------------------\n"
     ]
    },
    {
     "name": "stderr",
     "output_type": "stream",
     "text": [
      "/Users/souratoshkhan/CQF/BlPortfolioConstruction/blportopt/fama_french_model.py:205: FutureWarning: The default of observed=False is deprecated and will be changed to True in a future version of pandas. Pass observed=False to retain current behavior or observed=True to adopt the future default and silence this warning.\n",
      "  rolling_betas.groupby([\"Group\"])[self.rf_col].hist(bins=100, density=True, legend=True)\n",
      "/Users/souratoshkhan/CQF/BlPortfolioConstruction/blportopt/fama_french_model.py:226: FutureWarning: The default of observed=False is deprecated and will be changed to True in a future version of pandas. Pass observed=False to retain current behavior or observed=True to adopt the future default and silence this warning.\n",
      "  rolling_betas.groupby([\"Group\"])[factor].hist(bins=100, density=True, ax=ax, figsize=(10, 10), legend=True)\n"
     ]
    },
    {
     "name": "stdout",
     "output_type": "stream",
     "text": [
      "--------------------------------------------------Rolling Estimates of Sensitivity Factors for BAC--------------------------------------------------\n",
      "--------------------------------------------------Done!--------------------------------------------------\n",
      "--------------------------------------------------Fitting Fama-French Factor Model--------------------------------------------------\n",
      "--------------------------------------------------Done!--------------------------------------------------\n"
     ]
    },
    {
     "name": "stderr",
     "output_type": "stream",
     "text": [
      "/Users/souratoshkhan/CQF/BlPortfolioConstruction/blportopt/fama_french_model.py:205: FutureWarning: The default of observed=False is deprecated and will be changed to True in a future version of pandas. Pass observed=False to retain current behavior or observed=True to adopt the future default and silence this warning.\n",
      "  rolling_betas.groupby([\"Group\"])[self.rf_col].hist(bins=100, density=True, legend=True)\n",
      "/Users/souratoshkhan/CQF/BlPortfolioConstruction/blportopt/fama_french_model.py:226: FutureWarning: The default of observed=False is deprecated and will be changed to True in a future version of pandas. Pass observed=False to retain current behavior or observed=True to adopt the future default and silence this warning.\n",
      "  rolling_betas.groupby([\"Group\"])[factor].hist(bins=100, density=True, ax=ax, figsize=(10, 10), legend=True)\n"
     ]
    },
    {
     "name": "stdout",
     "output_type": "stream",
     "text": [
      "--------------------------------------------------Rolling Estimates of Sensitivity Factors for T--------------------------------------------------\n",
      "--------------------------------------------------Done!--------------------------------------------------\n",
      "--------------------------------------------------Fitting Fama-French Factor Model--------------------------------------------------\n",
      "--------------------------------------------------Done!--------------------------------------------------\n"
     ]
    },
    {
     "name": "stderr",
     "output_type": "stream",
     "text": [
      "/Users/souratoshkhan/CQF/BlPortfolioConstruction/blportopt/fama_french_model.py:205: FutureWarning: The default of observed=False is deprecated and will be changed to True in a future version of pandas. Pass observed=False to retain current behavior or observed=True to adopt the future default and silence this warning.\n",
      "  rolling_betas.groupby([\"Group\"])[self.rf_col].hist(bins=100, density=True, legend=True)\n",
      "/Users/souratoshkhan/CQF/BlPortfolioConstruction/blportopt/fama_french_model.py:226: FutureWarning: The default of observed=False is deprecated and will be changed to True in a future version of pandas. Pass observed=False to retain current behavior or observed=True to adopt the future default and silence this warning.\n",
      "  rolling_betas.groupby([\"Group\"])[factor].hist(bins=100, density=True, ax=ax, figsize=(10, 10), legend=True)\n"
     ]
    },
    {
     "name": "stdout",
     "output_type": "stream",
     "text": [
      "--------------------------------------------------Rolling Estimates of Sensitivity Factors for XOM--------------------------------------------------\n",
      "--------------------------------------------------Done!--------------------------------------------------\n",
      "--------------------------------------------------Fitting Fama-French Factor Model--------------------------------------------------\n",
      "--------------------------------------------------Done!--------------------------------------------------\n"
     ]
    },
    {
     "name": "stderr",
     "output_type": "stream",
     "text": [
      "/Users/souratoshkhan/CQF/BlPortfolioConstruction/blportopt/fama_french_model.py:205: FutureWarning: The default of observed=False is deprecated and will be changed to True in a future version of pandas. Pass observed=False to retain current behavior or observed=True to adopt the future default and silence this warning.\n",
      "  rolling_betas.groupby([\"Group\"])[self.rf_col].hist(bins=100, density=True, legend=True)\n",
      "/Users/souratoshkhan/CQF/BlPortfolioConstruction/blportopt/fama_french_model.py:226: FutureWarning: The default of observed=False is deprecated and will be changed to True in a future version of pandas. Pass observed=False to retain current behavior or observed=True to adopt the future default and silence this warning.\n",
      "  rolling_betas.groupby([\"Group\"])[factor].hist(bins=100, density=True, ax=ax, figsize=(10, 10), legend=True)\n"
     ]
    },
    {
     "name": "stdout",
     "output_type": "stream",
     "text": [
      "--------------------------------------------------Rolling Estimates of Sensitivity Factors for RRC--------------------------------------------------\n",
      "--------------------------------------------------Done!--------------------------------------------------\n",
      "--------------------------------------------------Fitting Fama-French Factor Model--------------------------------------------------\n",
      "--------------------------------------------------Done!--------------------------------------------------\n"
     ]
    },
    {
     "name": "stderr",
     "output_type": "stream",
     "text": [
      "/Users/souratoshkhan/CQF/BlPortfolioConstruction/blportopt/fama_french_model.py:205: FutureWarning: The default of observed=False is deprecated and will be changed to True in a future version of pandas. Pass observed=False to retain current behavior or observed=True to adopt the future default and silence this warning.\n",
      "  rolling_betas.groupby([\"Group\"])[self.rf_col].hist(bins=100, density=True, legend=True)\n",
      "/Users/souratoshkhan/CQF/BlPortfolioConstruction/blportopt/fama_french_model.py:226: FutureWarning: The default of observed=False is deprecated and will be changed to True in a future version of pandas. Pass observed=False to retain current behavior or observed=True to adopt the future default and silence this warning.\n",
      "  rolling_betas.groupby([\"Group\"])[factor].hist(bins=100, density=True, ax=ax, figsize=(10, 10), legend=True)\n"
     ]
    },
    {
     "name": "stdout",
     "output_type": "stream",
     "text": [
      "--------------------------------------------------Rolling Estimates of Sensitivity Factors for BBY--------------------------------------------------\n",
      "--------------------------------------------------Done!--------------------------------------------------\n",
      "--------------------------------------------------Fitting Fama-French Factor Model--------------------------------------------------\n",
      "--------------------------------------------------Done!--------------------------------------------------\n"
     ]
    },
    {
     "name": "stderr",
     "output_type": "stream",
     "text": [
      "/Users/souratoshkhan/CQF/BlPortfolioConstruction/blportopt/fama_french_model.py:205: FutureWarning: The default of observed=False is deprecated and will be changed to True in a future version of pandas. Pass observed=False to retain current behavior or observed=True to adopt the future default and silence this warning.\n",
      "  rolling_betas.groupby([\"Group\"])[self.rf_col].hist(bins=100, density=True, legend=True)\n",
      "/Users/souratoshkhan/CQF/BlPortfolioConstruction/blportopt/fama_french_model.py:226: FutureWarning: The default of observed=False is deprecated and will be changed to True in a future version of pandas. Pass observed=False to retain current behavior or observed=True to adopt the future default and silence this warning.\n",
      "  rolling_betas.groupby([\"Group\"])[factor].hist(bins=100, density=True, ax=ax, figsize=(10, 10), legend=True)\n"
     ]
    },
    {
     "name": "stdout",
     "output_type": "stream",
     "text": [
      "--------------------------------------------------Rolling Estimates of Sensitivity Factors for PFE--------------------------------------------------\n",
      "--------------------------------------------------Done!--------------------------------------------------\n",
      "--------------------------------------------------Fitting Fama-French Factor Model--------------------------------------------------\n",
      "--------------------------------------------------Done!--------------------------------------------------\n"
     ]
    },
    {
     "name": "stderr",
     "output_type": "stream",
     "text": [
      "/Users/souratoshkhan/CQF/BlPortfolioConstruction/blportopt/fama_french_model.py:205: FutureWarning: The default of observed=False is deprecated and will be changed to True in a future version of pandas. Pass observed=False to retain current behavior or observed=True to adopt the future default and silence this warning.\n",
      "  rolling_betas.groupby([\"Group\"])[self.rf_col].hist(bins=100, density=True, legend=True)\n",
      "/Users/souratoshkhan/CQF/BlPortfolioConstruction/blportopt/fama_french_model.py:226: FutureWarning: The default of observed=False is deprecated and will be changed to True in a future version of pandas. Pass observed=False to retain current behavior or observed=True to adopt the future default and silence this warning.\n",
      "  rolling_betas.groupby([\"Group\"])[factor].hist(bins=100, density=True, ax=ax, figsize=(10, 10), legend=True)\n"
     ]
    },
    {
     "name": "stdout",
     "output_type": "stream",
     "text": [
      "--------------------------------------------------Rolling Estimates of Sensitivity Factors for JPM--------------------------------------------------\n",
      "--------------------------------------------------Done!--------------------------------------------------\n",
      "--------------------------------------------------Fitting Fama-French Factor Model--------------------------------------------------\n",
      "--------------------------------------------------Done!--------------------------------------------------\n"
     ]
    },
    {
     "name": "stderr",
     "output_type": "stream",
     "text": [
      "/Users/souratoshkhan/CQF/BlPortfolioConstruction/blportopt/fama_french_model.py:205: FutureWarning: The default of observed=False is deprecated and will be changed to True in a future version of pandas. Pass observed=False to retain current behavior or observed=True to adopt the future default and silence this warning.\n",
      "  rolling_betas.groupby([\"Group\"])[self.rf_col].hist(bins=100, density=True, legend=True)\n",
      "/Users/souratoshkhan/CQF/BlPortfolioConstruction/blportopt/fama_french_model.py:226: FutureWarning: The default of observed=False is deprecated and will be changed to True in a future version of pandas. Pass observed=False to retain current behavior or observed=True to adopt the future default and silence this warning.\n",
      "  rolling_betas.groupby([\"Group\"])[factor].hist(bins=100, density=True, ax=ax, figsize=(10, 10), legend=True)\n"
     ]
    },
    {
     "name": "stdout",
     "output_type": "stream",
     "text": [
      "--------------------------------------------------Rolling Estimates of Sensitivity Factors for C--------------------------------------------------\n",
      "--------------------------------------------------Done!--------------------------------------------------\n",
      "--------------------------------------------------Fitting Fama-French Factor Model--------------------------------------------------\n",
      "--------------------------------------------------Done!--------------------------------------------------\n"
     ]
    },
    {
     "name": "stderr",
     "output_type": "stream",
     "text": [
      "/Users/souratoshkhan/CQF/BlPortfolioConstruction/blportopt/fama_french_model.py:205: FutureWarning: The default of observed=False is deprecated and will be changed to True in a future version of pandas. Pass observed=False to retain current behavior or observed=True to adopt the future default and silence this warning.\n",
      "  rolling_betas.groupby([\"Group\"])[self.rf_col].hist(bins=100, density=True, legend=True)\n",
      "/Users/souratoshkhan/CQF/BlPortfolioConstruction/blportopt/fama_french_model.py:226: FutureWarning: The default of observed=False is deprecated and will be changed to True in a future version of pandas. Pass observed=False to retain current behavior or observed=True to adopt the future default and silence this warning.\n",
      "  rolling_betas.groupby([\"Group\"])[factor].hist(bins=100, density=True, ax=ax, figsize=(10, 10), legend=True)\n"
     ]
    },
    {
     "name": "stdout",
     "output_type": "stream",
     "text": [
      "--------------------------------------------------Rolling Estimates of Sensitivity Factors for MCD--------------------------------------------------\n",
      "--------------------------------------------------Done!--------------------------------------------------\n",
      "--------------------------------------------------Fitting Fama-French Factor Model--------------------------------------------------\n",
      "--------------------------------------------------Done!--------------------------------------------------\n"
     ]
    },
    {
     "name": "stderr",
     "output_type": "stream",
     "text": [
      "/Users/souratoshkhan/CQF/BlPortfolioConstruction/blportopt/fama_french_model.py:205: FutureWarning: The default of observed=False is deprecated and will be changed to True in a future version of pandas. Pass observed=False to retain current behavior or observed=True to adopt the future default and silence this warning.\n",
      "  rolling_betas.groupby([\"Group\"])[self.rf_col].hist(bins=100, density=True, legend=True)\n",
      "/Users/souratoshkhan/CQF/BlPortfolioConstruction/blportopt/fama_french_model.py:226: FutureWarning: The default of observed=False is deprecated and will be changed to True in a future version of pandas. Pass observed=False to retain current behavior or observed=True to adopt the future default and silence this warning.\n",
      "  rolling_betas.groupby([\"Group\"])[factor].hist(bins=100, density=True, ax=ax, figsize=(10, 10), legend=True)\n"
     ]
    },
    {
     "name": "stdout",
     "output_type": "stream",
     "text": [
      "--------------------------------------------------Rolling Estimates of Sensitivity Factors for KO--------------------------------------------------\n",
      "--------------------------------------------------Done!--------------------------------------------------\n",
      "--------------------------------------------------Fitting Fama-French Factor Model--------------------------------------------------\n",
      "--------------------------------------------------Done!--------------------------------------------------\n"
     ]
    },
    {
     "name": "stderr",
     "output_type": "stream",
     "text": [
      "/Users/souratoshkhan/CQF/BlPortfolioConstruction/blportopt/fama_french_model.py:205: FutureWarning: The default of observed=False is deprecated and will be changed to True in a future version of pandas. Pass observed=False to retain current behavior or observed=True to adopt the future default and silence this warning.\n",
      "  rolling_betas.groupby([\"Group\"])[self.rf_col].hist(bins=100, density=True, legend=True)\n",
      "/Users/souratoshkhan/CQF/BlPortfolioConstruction/blportopt/fama_french_model.py:226: FutureWarning: The default of observed=False is deprecated and will be changed to True in a future version of pandas. Pass observed=False to retain current behavior or observed=True to adopt the future default and silence this warning.\n",
      "  rolling_betas.groupby([\"Group\"])[factor].hist(bins=100, density=True, ax=ax, figsize=(10, 10), legend=True)\n"
     ]
    },
    {
     "name": "stdout",
     "output_type": "stream",
     "text": [
      "--------------------------------------------------Rolling Estimates of Sensitivity Factors for JNJ--------------------------------------------------\n",
      "--------------------------------------------------Done!--------------------------------------------------\n",
      "--------------------------------------------------Fitting Fama-French Factor Model--------------------------------------------------\n",
      "--------------------------------------------------Done!--------------------------------------------------\n"
     ]
    },
    {
     "name": "stderr",
     "output_type": "stream",
     "text": [
      "/Users/souratoshkhan/CQF/BlPortfolioConstruction/blportopt/fama_french_model.py:205: FutureWarning: The default of observed=False is deprecated and will be changed to True in a future version of pandas. Pass observed=False to retain current behavior or observed=True to adopt the future default and silence this warning.\n",
      "  rolling_betas.groupby([\"Group\"])[self.rf_col].hist(bins=100, density=True, legend=True)\n",
      "/Users/souratoshkhan/CQF/BlPortfolioConstruction/blportopt/fama_french_model.py:226: FutureWarning: The default of observed=False is deprecated and will be changed to True in a future version of pandas. Pass observed=False to retain current behavior or observed=True to adopt the future default and silence this warning.\n",
      "  rolling_betas.groupby([\"Group\"])[factor].hist(bins=100, density=True, ax=ax, figsize=(10, 10), legend=True)\n"
     ]
    },
    {
     "name": "stdout",
     "output_type": "stream",
     "text": [
      "--------------------------------------------------Rolling Estimates of Sensitivity Factors for WHR--------------------------------------------------\n",
      "--------------------------------------------------Done!--------------------------------------------------\n",
      "--------------------------------------------------Fitting Fama-French Factor Model--------------------------------------------------\n",
      "--------------------------------------------------Done!--------------------------------------------------\n"
     ]
    },
    {
     "name": "stderr",
     "output_type": "stream",
     "text": [
      "/Users/souratoshkhan/CQF/BlPortfolioConstruction/blportopt/fama_french_model.py:205: FutureWarning: The default of observed=False is deprecated and will be changed to True in a future version of pandas. Pass observed=False to retain current behavior or observed=True to adopt the future default and silence this warning.\n",
      "  rolling_betas.groupby([\"Group\"])[self.rf_col].hist(bins=100, density=True, legend=True)\n",
      "/Users/souratoshkhan/CQF/BlPortfolioConstruction/blportopt/fama_french_model.py:226: FutureWarning: The default of observed=False is deprecated and will be changed to True in a future version of pandas. Pass observed=False to retain current behavior or observed=True to adopt the future default and silence this warning.\n",
      "  rolling_betas.groupby([\"Group\"])[factor].hist(bins=100, density=True, ax=ax, figsize=(10, 10), legend=True)\n"
     ]
    },
    {
     "name": "stdout",
     "output_type": "stream",
     "text": [
      "--------------------------------------------------Rolling Estimates of Sensitivity Factors for MMM--------------------------------------------------\n",
      "--------------------------------------------------Done!--------------------------------------------------\n",
      "--------------------------------------------------Fitting Fama-French Factor Model--------------------------------------------------\n",
      "--------------------------------------------------Done!--------------------------------------------------\n"
     ]
    },
    {
     "name": "stderr",
     "output_type": "stream",
     "text": [
      "/Users/souratoshkhan/CQF/BlPortfolioConstruction/blportopt/fama_french_model.py:205: FutureWarning: The default of observed=False is deprecated and will be changed to True in a future version of pandas. Pass observed=False to retain current behavior or observed=True to adopt the future default and silence this warning.\n",
      "  rolling_betas.groupby([\"Group\"])[self.rf_col].hist(bins=100, density=True, legend=True)\n",
      "/Users/souratoshkhan/CQF/BlPortfolioConstruction/blportopt/fama_french_model.py:226: FutureWarning: The default of observed=False is deprecated and will be changed to True in a future version of pandas. Pass observed=False to retain current behavior or observed=True to adopt the future default and silence this warning.\n",
      "  rolling_betas.groupby([\"Group\"])[factor].hist(bins=100, density=True, ax=ax, figsize=(10, 10), legend=True)\n"
     ]
    },
    {
     "name": "stdout",
     "output_type": "stream",
     "text": [
      "--------------------------------------------------Rolling Estimates of Sensitivity Factors for GIS--------------------------------------------------\n",
      "--------------------------------------------------Done!--------------------------------------------------\n"
     ]
    },
    {
     "data": {
      "text/html": [
       "<div>\n",
       "<style scoped>\n",
       "    .dataframe tbody tr th:only-of-type {\n",
       "        vertical-align: middle;\n",
       "    }\n",
       "\n",
       "    .dataframe tbody tr th {\n",
       "        vertical-align: top;\n",
       "    }\n",
       "\n",
       "    .dataframe thead th {\n",
       "        text-align: right;\n",
       "    }\n",
       "</style>\n",
       "<table border=\"1\" class=\"dataframe\">\n",
       "  <thead>\n",
       "    <tr style=\"text-align: right;\">\n",
       "      <th></th>\n",
       "      <th>Mkt-RF</th>\n",
       "      <th>SMB</th>\n",
       "      <th>HML</th>\n",
       "      <th>RMW</th>\n",
       "      <th>CMA</th>\n",
       "      <th>Mom</th>\n",
       "      <th>Mkt-RF_SMB_HML_RMW_CMA_Mom</th>\n",
       "    </tr>\n",
       "  </thead>\n",
       "  <tbody>\n",
       "    <tr>\n",
       "      <th>AAPL</th>\n",
       "      <td>0.242882</td>\n",
       "      <td>0.012389</td>\n",
       "      <td>0.057512</td>\n",
       "      <td>0.061058</td>\n",
       "      <td>0.113025</td>\n",
       "      <td>0.013134</td>\n",
       "      <td>0.338762</td>\n",
       "    </tr>\n",
       "    <tr>\n",
       "      <th>IBM</th>\n",
       "      <td>0.329485</td>\n",
       "      <td>0.024627</td>\n",
       "      <td>0.047650</td>\n",
       "      <td>0.081005</td>\n",
       "      <td>0.050155</td>\n",
       "      <td>0.111384</td>\n",
       "      <td>0.380232</td>\n",
       "    </tr>\n",
       "    <tr>\n",
       "      <th>PG</th>\n",
       "      <td>0.140482</td>\n",
       "      <td>0.009882</td>\n",
       "      <td>0.021219</td>\n",
       "      <td>0.041611</td>\n",
       "      <td>0.011548</td>\n",
       "      <td>0.001614</td>\n",
       "      <td>0.251061</td>\n",
       "    </tr>\n",
       "    <tr>\n",
       "      <th>GE</th>\n",
       "      <td>0.415207</td>\n",
       "      <td>0.074700</td>\n",
       "      <td>0.114823</td>\n",
       "      <td>0.061976</td>\n",
       "      <td>0.060821</td>\n",
       "      <td>0.131869</td>\n",
       "      <td>0.521211</td>\n",
       "    </tr>\n",
       "    <tr>\n",
       "      <th>AMD</th>\n",
       "      <td>0.264342</td>\n",
       "      <td>0.060534</td>\n",
       "      <td>0.020214</td>\n",
       "      <td>0.079652</td>\n",
       "      <td>0.025452</td>\n",
       "      <td>0.077993</td>\n",
       "      <td>0.298679</td>\n",
       "    </tr>\n",
       "    <tr>\n",
       "      <th>WMT</th>\n",
       "      <td>0.115817</td>\n",
       "      <td>0.013190</td>\n",
       "      <td>0.016321</td>\n",
       "      <td>0.018098</td>\n",
       "      <td>0.049839</td>\n",
       "      <td>0.005939</td>\n",
       "      <td>0.214525</td>\n",
       "    </tr>\n",
       "    <tr>\n",
       "      <th>BAC</th>\n",
       "      <td>0.338240</td>\n",
       "      <td>0.088061</td>\n",
       "      <td>0.169829</td>\n",
       "      <td>0.116251</td>\n",
       "      <td>0.004696</td>\n",
       "      <td>0.154673</td>\n",
       "      <td>0.573674</td>\n",
       "    </tr>\n",
       "    <tr>\n",
       "      <th>T</th>\n",
       "      <td>0.159562</td>\n",
       "      <td>0.040823</td>\n",
       "      <td>0.008646</td>\n",
       "      <td>0.034988</td>\n",
       "      <td>0.022428</td>\n",
       "      <td>0.045180</td>\n",
       "      <td>0.285791</td>\n",
       "    </tr>\n",
       "    <tr>\n",
       "      <th>XOM</th>\n",
       "      <td>0.246483</td>\n",
       "      <td>0.046327</td>\n",
       "      <td>0.049974</td>\n",
       "      <td>-0.001023</td>\n",
       "      <td>0.030513</td>\n",
       "      <td>0.076195</td>\n",
       "      <td>0.390515</td>\n",
       "    </tr>\n",
       "    <tr>\n",
       "      <th>RRC</th>\n",
       "      <td>0.074004</td>\n",
       "      <td>0.041323</td>\n",
       "      <td>0.010511</td>\n",
       "      <td>0.005714</td>\n",
       "      <td>0.010745</td>\n",
       "      <td>0.050343</td>\n",
       "      <td>0.149217</td>\n",
       "    </tr>\n",
       "    <tr>\n",
       "      <th>BBY</th>\n",
       "      <td>0.228618</td>\n",
       "      <td>0.082160</td>\n",
       "      <td>0.026762</td>\n",
       "      <td>0.063439</td>\n",
       "      <td>0.058708</td>\n",
       "      <td>0.068799</td>\n",
       "      <td>0.307195</td>\n",
       "    </tr>\n",
       "    <tr>\n",
       "      <th>PFE</th>\n",
       "      <td>0.213419</td>\n",
       "      <td>0.031967</td>\n",
       "      <td>0.057465</td>\n",
       "      <td>0.041070</td>\n",
       "      <td>0.023614</td>\n",
       "      <td>0.018162</td>\n",
       "      <td>0.311937</td>\n",
       "    </tr>\n",
       "    <tr>\n",
       "      <th>JPM</th>\n",
       "      <td>0.425322</td>\n",
       "      <td>0.067573</td>\n",
       "      <td>0.188708</td>\n",
       "      <td>0.139410</td>\n",
       "      <td>0.032777</td>\n",
       "      <td>0.170312</td>\n",
       "      <td>0.617111</td>\n",
       "    </tr>\n",
       "    <tr>\n",
       "      <th>C</th>\n",
       "      <td>0.477255</td>\n",
       "      <td>0.062936</td>\n",
       "      <td>0.164820</td>\n",
       "      <td>0.126983</td>\n",
       "      <td>0.028926</td>\n",
       "      <td>0.206339</td>\n",
       "      <td>0.653142</td>\n",
       "    </tr>\n",
       "    <tr>\n",
       "      <th>MCD</th>\n",
       "      <td>0.221902</td>\n",
       "      <td>0.034733</td>\n",
       "      <td>0.006819</td>\n",
       "      <td>0.042953</td>\n",
       "      <td>0.005037</td>\n",
       "      <td>0.007557</td>\n",
       "      <td>0.345153</td>\n",
       "    </tr>\n",
       "    <tr>\n",
       "      <th>KO</th>\n",
       "      <td>0.191940</td>\n",
       "      <td>0.019675</td>\n",
       "      <td>0.013089</td>\n",
       "      <td>0.047718</td>\n",
       "      <td>0.012101</td>\n",
       "      <td>0.026263</td>\n",
       "      <td>0.363650</td>\n",
       "    </tr>\n",
       "    <tr>\n",
       "      <th>JNJ</th>\n",
       "      <td>0.219776</td>\n",
       "      <td>0.048149</td>\n",
       "      <td>0.038856</td>\n",
       "      <td>0.037030</td>\n",
       "      <td>0.016033</td>\n",
       "      <td>0.010434</td>\n",
       "      <td>0.345933</td>\n",
       "    </tr>\n",
       "    <tr>\n",
       "      <th>WHR</th>\n",
       "      <td>0.346509</td>\n",
       "      <td>0.100199</td>\n",
       "      <td>0.085276</td>\n",
       "      <td>0.072899</td>\n",
       "      <td>0.022487</td>\n",
       "      <td>0.142375</td>\n",
       "      <td>0.451156</td>\n",
       "    </tr>\n",
       "    <tr>\n",
       "      <th>MMM</th>\n",
       "      <td>0.339386</td>\n",
       "      <td>0.055701</td>\n",
       "      <td>0.024945</td>\n",
       "      <td>0.027685</td>\n",
       "      <td>-0.001671</td>\n",
       "      <td>0.049929</td>\n",
       "      <td>0.407385</td>\n",
       "    </tr>\n",
       "    <tr>\n",
       "      <th>GIS</th>\n",
       "      <td>0.069582</td>\n",
       "      <td>-0.005991</td>\n",
       "      <td>0.018970</td>\n",
       "      <td>0.026405</td>\n",
       "      <td>0.006524</td>\n",
       "      <td>0.002963</td>\n",
       "      <td>0.122922</td>\n",
       "    </tr>\n",
       "  </tbody>\n",
       "</table>\n",
       "</div>"
      ],
      "text/plain": [
       "        Mkt-RF       SMB       HML       RMW       CMA       Mom  \\\n",
       "AAPL  0.242882  0.012389  0.057512  0.061058  0.113025  0.013134   \n",
       "IBM   0.329485  0.024627  0.047650  0.081005  0.050155  0.111384   \n",
       "PG    0.140482  0.009882  0.021219  0.041611  0.011548  0.001614   \n",
       "GE    0.415207  0.074700  0.114823  0.061976  0.060821  0.131869   \n",
       "AMD   0.264342  0.060534  0.020214  0.079652  0.025452  0.077993   \n",
       "WMT   0.115817  0.013190  0.016321  0.018098  0.049839  0.005939   \n",
       "BAC   0.338240  0.088061  0.169829  0.116251  0.004696  0.154673   \n",
       "T     0.159562  0.040823  0.008646  0.034988  0.022428  0.045180   \n",
       "XOM   0.246483  0.046327  0.049974 -0.001023  0.030513  0.076195   \n",
       "RRC   0.074004  0.041323  0.010511  0.005714  0.010745  0.050343   \n",
       "BBY   0.228618  0.082160  0.026762  0.063439  0.058708  0.068799   \n",
       "PFE   0.213419  0.031967  0.057465  0.041070  0.023614  0.018162   \n",
       "JPM   0.425322  0.067573  0.188708  0.139410  0.032777  0.170312   \n",
       "C     0.477255  0.062936  0.164820  0.126983  0.028926  0.206339   \n",
       "MCD   0.221902  0.034733  0.006819  0.042953  0.005037  0.007557   \n",
       "KO    0.191940  0.019675  0.013089  0.047718  0.012101  0.026263   \n",
       "JNJ   0.219776  0.048149  0.038856  0.037030  0.016033  0.010434   \n",
       "WHR   0.346509  0.100199  0.085276  0.072899  0.022487  0.142375   \n",
       "MMM   0.339386  0.055701  0.024945  0.027685 -0.001671  0.049929   \n",
       "GIS   0.069582 -0.005991  0.018970  0.026405  0.006524  0.002963   \n",
       "\n",
       "      Mkt-RF_SMB_HML_RMW_CMA_Mom  \n",
       "AAPL                    0.338762  \n",
       "IBM                     0.380232  \n",
       "PG                      0.251061  \n",
       "GE                      0.521211  \n",
       "AMD                     0.298679  \n",
       "WMT                     0.214525  \n",
       "BAC                     0.573674  \n",
       "T                       0.285791  \n",
       "XOM                     0.390515  \n",
       "RRC                     0.149217  \n",
       "BBY                     0.307195  \n",
       "PFE                     0.311937  \n",
       "JPM                     0.617111  \n",
       "C                       0.653142  \n",
       "MCD                     0.345153  \n",
       "KO                      0.363650  \n",
       "JNJ                     0.345933  \n",
       "WHR                     0.451156  \n",
       "MMM                     0.407385  \n",
       "GIS                     0.122922  "
      ]
     },
     "execution_count": 4,
     "metadata": {},
     "output_type": "execute_result"
    }
   ],
   "source": [
    "adj_rsq = famafrench_regression_analysis(asset_type=asset_type)\n",
    "adj_rsq"
   ]
  },
  {
   "cell_type": "markdown",
   "metadata": {},
   "source": [
    "## 2b. Estimate Average Parameters"
   ]
  },
  {
   "cell_type": "code",
   "execution_count": 5,
   "metadata": {},
   "outputs": [
    {
     "name": "stdout",
     "output_type": "stream",
     "text": [
      "--------------------------------------------------Loading Time Series of Factors--------------------------------------------------\n"
     ]
    },
    {
     "name": "stderr",
     "output_type": "stream",
     "text": [
      "/Users/souratoshkhan/CQF/BlPortfolioConstruction/blportopt/data_utils.py:168: FutureWarning: The argument 'date_parser' is deprecated and will be removed in a future version. Please use 'date_format' instead, or read your data in as 'object' dtype and then call 'to_datetime'.\n",
      "  data = pdr.get_data_famafrench(filename, start=self.start)[0]\n",
      "/Users/souratoshkhan/CQF/BlPortfolioConstruction/blportopt/data_utils.py:168: FutureWarning: The argument 'date_parser' is deprecated and will be removed in a future version. Please use 'date_format' instead, or read your data in as 'object' dtype and then call 'to_datetime'.\n",
      "  data = pdr.get_data_famafrench(filename, start=self.start)[0]\n",
      "/Users/souratoshkhan/CQF/BlPortfolioConstruction/blportopt/data_utils.py:168: FutureWarning: The argument 'date_parser' is deprecated and will be removed in a future version. Please use 'date_format' instead, or read your data in as 'object' dtype and then call 'to_datetime'.\n",
      "  data = pdr.get_data_famafrench(filename, start=self.start)[0]\n",
      "/Users/souratoshkhan/CQF/BlPortfolioConstruction/blportopt/data_utils.py:168: FutureWarning: The argument 'date_parser' is deprecated and will be removed in a future version. Please use 'date_format' instead, or read your data in as 'object' dtype and then call 'to_datetime'.\n",
      "  data = pdr.get_data_famafrench(filename, start=self.start)[0]\n"
     ]
    },
    {
     "name": "stdout",
     "output_type": "stream",
     "text": [
      "--------------------------------------------------Done!--------------------------------------------------\n",
      "--------------------------------------------------Loading Historical Prices of 20 Equities (Stocks/Funds)--------------------------------------------------\n",
      "--------------------------------------------------Done!--------------------------------------------------\n",
      "--------------------------------------------------Calculating Historical Returns of 20 Equities (Stocks/Funds)--------------------------------------------------\n",
      "--------------------------------------------------Done!--------------------------------------------------\n",
      "--------------------------------------------------Loading Historical Prices of SPY--------------------------------------------------\n",
      "--------------------------------------------------Done!--------------------------------------------------\n",
      "--------------------------------------------------Fitting Fama-French Factor Model--------------------------------------------------\n",
      "--------------------------------------------------Done!--------------------------------------------------\n",
      "--------------------------------------------------Fitting Fama-French Factor Model--------------------------------------------------\n",
      "--------------------------------------------------Done!--------------------------------------------------\n",
      "--------------------------------------------------Fitting Fama-French Factor Model--------------------------------------------------\n",
      "--------------------------------------------------Done!--------------------------------------------------\n",
      "--------------------------------------------------Fitting Fama-French Factor Model--------------------------------------------------\n",
      "--------------------------------------------------Done!--------------------------------------------------\n",
      "--------------------------------------------------Fitting Fama-French Factor Model--------------------------------------------------\n",
      "--------------------------------------------------Done!--------------------------------------------------\n",
      "--------------------------------------------------Fitting Fama-French Factor Model--------------------------------------------------\n",
      "--------------------------------------------------Done!--------------------------------------------------\n",
      "--------------------------------------------------Fitting Fama-French Factor Model--------------------------------------------------\n",
      "--------------------------------------------------Done!--------------------------------------------------\n",
      "--------------------------------------------------Fitting Fama-French Factor Model--------------------------------------------------\n",
      "--------------------------------------------------Done!--------------------------------------------------\n",
      "--------------------------------------------------Fitting Fama-French Factor Model--------------------------------------------------\n",
      "--------------------------------------------------Done!--------------------------------------------------\n",
      "--------------------------------------------------Fitting Fama-French Factor Model--------------------------------------------------\n",
      "--------------------------------------------------Done!--------------------------------------------------\n",
      "--------------------------------------------------Fitting Fama-French Factor Model--------------------------------------------------\n",
      "--------------------------------------------------Done!--------------------------------------------------\n",
      "--------------------------------------------------Fitting Fama-French Factor Model--------------------------------------------------\n",
      "--------------------------------------------------Done!--------------------------------------------------\n",
      "--------------------------------------------------Fitting Fama-French Factor Model--------------------------------------------------\n",
      "--------------------------------------------------Done!--------------------------------------------------\n",
      "--------------------------------------------------Fitting Fama-French Factor Model--------------------------------------------------\n",
      "--------------------------------------------------Done!--------------------------------------------------\n",
      "--------------------------------------------------Fitting Fama-French Factor Model--------------------------------------------------\n",
      "--------------------------------------------------Done!--------------------------------------------------\n",
      "--------------------------------------------------Fitting Fama-French Factor Model--------------------------------------------------\n",
      "--------------------------------------------------Done!--------------------------------------------------\n",
      "--------------------------------------------------Fitting Fama-French Factor Model--------------------------------------------------\n",
      "--------------------------------------------------Done!--------------------------------------------------\n",
      "--------------------------------------------------Fitting Fama-French Factor Model--------------------------------------------------\n",
      "--------------------------------------------------Done!--------------------------------------------------\n",
      "--------------------------------------------------Fitting Fama-French Factor Model--------------------------------------------------\n",
      "--------------------------------------------------Done!--------------------------------------------------\n",
      "--------------------------------------------------Fitting Fama-French Factor Model--------------------------------------------------\n",
      "--------------------------------------------------Done!--------------------------------------------------\n",
      "--------------------------------------------------Fitting Fama-French Factor Model--------------------------------------------------\n",
      "--------------------------------------------------Done!--------------------------------------------------\n",
      "--------------------------------------------------Fitting Fama-French Factor Model--------------------------------------------------\n",
      "--------------------------------------------------Done!--------------------------------------------------\n",
      "--------------------------------------------------Fitting Fama-French Factor Model--------------------------------------------------\n",
      "--------------------------------------------------Done!--------------------------------------------------\n",
      "--------------------------------------------------Fitting Fama-French Factor Model--------------------------------------------------\n",
      "--------------------------------------------------Done!--------------------------------------------------\n",
      "--------------------------------------------------Fitting Fama-French Factor Model--------------------------------------------------\n",
      "--------------------------------------------------Done!--------------------------------------------------\n",
      "--------------------------------------------------Fitting Fama-French Factor Model--------------------------------------------------\n",
      "--------------------------------------------------Done!--------------------------------------------------\n",
      "--------------------------------------------------Fitting Fama-French Factor Model--------------------------------------------------\n",
      "--------------------------------------------------Done!--------------------------------------------------\n",
      "--------------------------------------------------Fitting Fama-French Factor Model--------------------------------------------------\n",
      "--------------------------------------------------Done!--------------------------------------------------\n",
      "--------------------------------------------------Fitting Fama-French Factor Model--------------------------------------------------\n",
      "--------------------------------------------------Done!--------------------------------------------------\n",
      "--------------------------------------------------Fitting Fama-French Factor Model--------------------------------------------------\n",
      "--------------------------------------------------Done!--------------------------------------------------\n",
      "--------------------------------------------------Fitting Fama-French Factor Model--------------------------------------------------\n",
      "--------------------------------------------------Done!--------------------------------------------------\n",
      "--------------------------------------------------Fitting Fama-French Factor Model--------------------------------------------------\n",
      "--------------------------------------------------Done!--------------------------------------------------\n",
      "--------------------------------------------------Fitting Fama-French Factor Model--------------------------------------------------\n",
      "--------------------------------------------------Done!--------------------------------------------------\n",
      "--------------------------------------------------Fitting Fama-French Factor Model--------------------------------------------------\n",
      "--------------------------------------------------Done!--------------------------------------------------\n",
      "--------------------------------------------------Fitting Fama-French Factor Model--------------------------------------------------\n",
      "--------------------------------------------------Done!--------------------------------------------------\n",
      "--------------------------------------------------Fitting Fama-French Factor Model--------------------------------------------------\n",
      "--------------------------------------------------Done!--------------------------------------------------\n",
      "--------------------------------------------------Fitting Fama-French Factor Model--------------------------------------------------\n",
      "--------------------------------------------------Done!--------------------------------------------------\n",
      "--------------------------------------------------Fitting Fama-French Factor Model--------------------------------------------------\n",
      "--------------------------------------------------Done!--------------------------------------------------\n",
      "--------------------------------------------------Fitting Fama-French Factor Model--------------------------------------------------\n",
      "--------------------------------------------------Done!--------------------------------------------------\n",
      "--------------------------------------------------Fitting Fama-French Factor Model--------------------------------------------------\n",
      "--------------------------------------------------Done!--------------------------------------------------\n",
      "--------------------------------------------------Fitting Fama-French Factor Model--------------------------------------------------\n",
      "--------------------------------------------------Done!--------------------------------------------------\n",
      "--------------------------------------------------Fitting Fama-French Factor Model--------------------------------------------------\n",
      "--------------------------------------------------Done!--------------------------------------------------\n",
      "--------------------------------------------------Fitting Fama-French Factor Model--------------------------------------------------\n",
      "--------------------------------------------------Done!--------------------------------------------------\n",
      "--------------------------------------------------Fitting Fama-French Factor Model--------------------------------------------------\n",
      "--------------------------------------------------Done!--------------------------------------------------\n",
      "--------------------------------------------------Fitting Fama-French Factor Model--------------------------------------------------\n",
      "--------------------------------------------------Done!--------------------------------------------------\n",
      "--------------------------------------------------Fitting Fama-French Factor Model--------------------------------------------------\n",
      "--------------------------------------------------Done!--------------------------------------------------\n",
      "--------------------------------------------------Fitting Fama-French Factor Model--------------------------------------------------\n",
      "--------------------------------------------------Done!--------------------------------------------------\n",
      "--------------------------------------------------Fitting Fama-French Factor Model--------------------------------------------------\n",
      "--------------------------------------------------Done!--------------------------------------------------\n",
      "--------------------------------------------------Fitting Fama-French Factor Model--------------------------------------------------\n",
      "--------------------------------------------------Done!--------------------------------------------------\n",
      "--------------------------------------------------Fitting Fama-French Factor Model--------------------------------------------------\n",
      "--------------------------------------------------Done!--------------------------------------------------\n",
      "--------------------------------------------------Fitting Fama-French Factor Model--------------------------------------------------\n",
      "--------------------------------------------------Done!--------------------------------------------------\n",
      "--------------------------------------------------Fitting Fama-French Factor Model--------------------------------------------------\n",
      "--------------------------------------------------Done!--------------------------------------------------\n",
      "--------------------------------------------------Fitting Fama-French Factor Model--------------------------------------------------\n",
      "--------------------------------------------------Done!--------------------------------------------------\n",
      "--------------------------------------------------Fitting Fama-French Factor Model--------------------------------------------------\n",
      "--------------------------------------------------Done!--------------------------------------------------\n",
      "--------------------------------------------------Fitting Fama-French Factor Model--------------------------------------------------\n",
      "--------------------------------------------------Done!--------------------------------------------------\n",
      "--------------------------------------------------Fitting Fama-French Factor Model--------------------------------------------------\n",
      "--------------------------------------------------Done!--------------------------------------------------\n",
      "--------------------------------------------------Fitting Fama-French Factor Model--------------------------------------------------\n",
      "--------------------------------------------------Done!--------------------------------------------------\n",
      "--------------------------------------------------Fitting Fama-French Factor Model--------------------------------------------------\n",
      "--------------------------------------------------Done!--------------------------------------------------\n",
      "--------------------------------------------------Fitting Fama-French Factor Model--------------------------------------------------\n",
      "--------------------------------------------------Done!--------------------------------------------------\n",
      "--------------------------------------------------Fitting Fama-French Factor Model--------------------------------------------------\n",
      "--------------------------------------------------Done!--------------------------------------------------\n",
      "--------------------------------------------------Fitting Fama-French Factor Model--------------------------------------------------\n",
      "--------------------------------------------------Done!--------------------------------------------------\n",
      "--------------------------------------------------Fitting Fama-French Factor Model--------------------------------------------------\n",
      "--------------------------------------------------Done!--------------------------------------------------\n",
      "--------------------------------------------------Fitting Fama-French Factor Model--------------------------------------------------\n",
      "--------------------------------------------------Done!--------------------------------------------------\n",
      "--------------------------------------------------Fitting Fama-French Factor Model--------------------------------------------------\n",
      "--------------------------------------------------Done!--------------------------------------------------\n",
      "--------------------------------------------------Fitting Fama-French Factor Model--------------------------------------------------\n",
      "--------------------------------------------------Done!--------------------------------------------------\n",
      "--------------------------------------------------Fitting Fama-French Factor Model--------------------------------------------------\n",
      "--------------------------------------------------Done!--------------------------------------------------\n",
      "--------------------------------------------------Fitting Fama-French Factor Model--------------------------------------------------\n",
      "--------------------------------------------------Done!--------------------------------------------------\n",
      "--------------------------------------------------Fitting Fama-French Factor Model--------------------------------------------------\n",
      "--------------------------------------------------Done!--------------------------------------------------\n",
      "--------------------------------------------------Fitting Fama-French Factor Model--------------------------------------------------\n",
      "--------------------------------------------------Done!--------------------------------------------------\n",
      "--------------------------------------------------Fitting Fama-French Factor Model--------------------------------------------------\n",
      "--------------------------------------------------Done!--------------------------------------------------\n",
      "--------------------------------------------------Fitting Fama-French Factor Model--------------------------------------------------\n",
      "--------------------------------------------------Done!--------------------------------------------------\n",
      "--------------------------------------------------Fitting Fama-French Factor Model--------------------------------------------------\n",
      "--------------------------------------------------Done!--------------------------------------------------\n",
      "--------------------------------------------------Fitting Fama-French Factor Model--------------------------------------------------\n",
      "--------------------------------------------------Done!--------------------------------------------------\n",
      "--------------------------------------------------Fitting Fama-French Factor Model--------------------------------------------------\n",
      "--------------------------------------------------Done!--------------------------------------------------\n",
      "--------------------------------------------------Fitting Fama-French Factor Model--------------------------------------------------\n",
      "--------------------------------------------------Done!--------------------------------------------------\n",
      "--------------------------------------------------Fitting Fama-French Factor Model--------------------------------------------------\n",
      "--------------------------------------------------Done!--------------------------------------------------\n",
      "--------------------------------------------------Fitting Fama-French Factor Model--------------------------------------------------\n",
      "--------------------------------------------------Done!--------------------------------------------------\n",
      "--------------------------------------------------Fitting Fama-French Factor Model--------------------------------------------------\n",
      "--------------------------------------------------Done!--------------------------------------------------\n",
      "--------------------------------------------------Fitting Fama-French Factor Model--------------------------------------------------\n",
      "--------------------------------------------------Done!--------------------------------------------------\n",
      "--------------------------------------------------Fitting Fama-French Factor Model--------------------------------------------------\n",
      "--------------------------------------------------Done!--------------------------------------------------\n",
      "--------------------------------------------------Fitting Fama-French Factor Model--------------------------------------------------\n",
      "--------------------------------------------------Done!--------------------------------------------------\n",
      "--------------------------------------------------Fitting Fama-French Factor Model--------------------------------------------------\n",
      "--------------------------------------------------Done!--------------------------------------------------\n",
      "--------------------------------------------------Fitting Fama-French Factor Model--------------------------------------------------\n",
      "--------------------------------------------------Done!--------------------------------------------------\n",
      "--------------------------------------------------Fitting Fama-French Factor Model--------------------------------------------------\n",
      "--------------------------------------------------Done!--------------------------------------------------\n",
      "--------------------------------------------------Fitting Fama-French Factor Model--------------------------------------------------\n",
      "--------------------------------------------------Done!--------------------------------------------------\n",
      "--------------------------------------------------Fitting Fama-French Factor Model--------------------------------------------------\n",
      "--------------------------------------------------Done!--------------------------------------------------\n",
      "--------------------------------------------------Fitting Fama-French Factor Model--------------------------------------------------\n",
      "--------------------------------------------------Done!--------------------------------------------------\n",
      "--------------------------------------------------Fitting Fama-French Factor Model--------------------------------------------------\n",
      "--------------------------------------------------Done!--------------------------------------------------\n",
      "--------------------------------------------------Fitting Fama-French Factor Model--------------------------------------------------\n",
      "--------------------------------------------------Done!--------------------------------------------------\n",
      "--------------------------------------------------Fitting Fama-French Factor Model--------------------------------------------------\n",
      "--------------------------------------------------Done!--------------------------------------------------\n",
      "--------------------------------------------------Fitting Fama-French Factor Model--------------------------------------------------\n",
      "--------------------------------------------------Done!--------------------------------------------------\n",
      "--------------------------------------------------Fitting Fama-French Factor Model--------------------------------------------------\n",
      "--------------------------------------------------Done!--------------------------------------------------\n",
      "--------------------------------------------------Fitting Fama-French Factor Model--------------------------------------------------\n",
      "--------------------------------------------------Done!--------------------------------------------------\n",
      "--------------------------------------------------Fitting Fama-French Factor Model--------------------------------------------------\n",
      "--------------------------------------------------Done!--------------------------------------------------\n",
      "--------------------------------------------------Fitting Fama-French Factor Model--------------------------------------------------\n",
      "--------------------------------------------------Done!--------------------------------------------------\n",
      "--------------------------------------------------Fitting Fama-French Factor Model--------------------------------------------------\n",
      "--------------------------------------------------Done!--------------------------------------------------\n",
      "--------------------------------------------------Fitting Fama-French Factor Model--------------------------------------------------\n",
      "--------------------------------------------------Done!--------------------------------------------------\n",
      "--------------------------------------------------Fitting Fama-French Factor Model--------------------------------------------------\n",
      "--------------------------------------------------Done!--------------------------------------------------\n",
      "--------------------------------------------------Fitting Fama-French Factor Model--------------------------------------------------\n",
      "--------------------------------------------------Done!--------------------------------------------------\n",
      "--------------------------------------------------Fitting Fama-French Factor Model--------------------------------------------------\n",
      "--------------------------------------------------Done!--------------------------------------------------\n",
      "--------------------------------------------------Fitting Fama-French Factor Model--------------------------------------------------\n",
      "--------------------------------------------------Done!--------------------------------------------------\n",
      "--------------------------------------------------Fitting Fama-French Factor Model--------------------------------------------------\n",
      "--------------------------------------------------Done!--------------------------------------------------\n",
      "--------------------------------------------------Fitting Fama-French Factor Model--------------------------------------------------\n",
      "--------------------------------------------------Done!--------------------------------------------------\n",
      "--------------------------------------------------Fitting Fama-French Factor Model--------------------------------------------------\n",
      "--------------------------------------------------Done!--------------------------------------------------\n",
      "--------------------------------------------------Fitting Fama-French Factor Model--------------------------------------------------\n",
      "--------------------------------------------------Done!--------------------------------------------------\n",
      "--------------------------------------------------Fitting Fama-French Factor Model--------------------------------------------------\n",
      "--------------------------------------------------Done!--------------------------------------------------\n",
      "--------------------------------------------------Fitting Fama-French Factor Model--------------------------------------------------\n",
      "--------------------------------------------------Done!--------------------------------------------------\n",
      "--------------------------------------------------Fitting Fama-French Factor Model--------------------------------------------------\n",
      "--------------------------------------------------Done!--------------------------------------------------\n",
      "--------------------------------------------------Fitting Fama-French Factor Model--------------------------------------------------\n",
      "--------------------------------------------------Done!--------------------------------------------------\n",
      "--------------------------------------------------Fitting Fama-French Factor Model--------------------------------------------------\n",
      "--------------------------------------------------Done!--------------------------------------------------\n",
      "--------------------------------------------------Fitting Fama-French Factor Model--------------------------------------------------\n",
      "--------------------------------------------------Done!--------------------------------------------------\n",
      "--------------------------------------------------Fitting Fama-French Factor Model--------------------------------------------------\n",
      "--------------------------------------------------Done!--------------------------------------------------\n",
      "--------------------------------------------------Fitting Fama-French Factor Model--------------------------------------------------\n",
      "--------------------------------------------------Done!--------------------------------------------------\n",
      "--------------------------------------------------Fitting Fama-French Factor Model--------------------------------------------------\n",
      "--------------------------------------------------Done!--------------------------------------------------\n",
      "--------------------------------------------------Fitting Fama-French Factor Model--------------------------------------------------\n",
      "--------------------------------------------------Done!--------------------------------------------------\n",
      "--------------------------------------------------Fitting Fama-French Factor Model--------------------------------------------------\n",
      "--------------------------------------------------Done!--------------------------------------------------\n",
      "--------------------------------------------------Fitting Fama-French Factor Model--------------------------------------------------\n",
      "--------------------------------------------------Done!--------------------------------------------------\n",
      "--------------------------------------------------Fitting Fama-French Factor Model--------------------------------------------------\n",
      "--------------------------------------------------Done!--------------------------------------------------\n",
      "--------------------------------------------------Fitting Fama-French Factor Model--------------------------------------------------\n",
      "--------------------------------------------------Done!--------------------------------------------------\n",
      "--------------------------------------------------Fitting Fama-French Factor Model--------------------------------------------------\n",
      "--------------------------------------------------Done!--------------------------------------------------\n",
      "--------------------------------------------------Fitting Fama-French Factor Model--------------------------------------------------\n",
      "--------------------------------------------------Done!--------------------------------------------------\n",
      "--------------------------------------------------Fitting Fama-French Factor Model--------------------------------------------------\n",
      "--------------------------------------------------Done!--------------------------------------------------\n",
      "--------------------------------------------------Fitting Fama-French Factor Model--------------------------------------------------\n",
      "--------------------------------------------------Done!--------------------------------------------------\n",
      "--------------------------------------------------Fitting Fama-French Factor Model--------------------------------------------------\n",
      "--------------------------------------------------Done!--------------------------------------------------\n",
      "--------------------------------------------------Fitting Fama-French Factor Model--------------------------------------------------\n",
      "--------------------------------------------------Done!--------------------------------------------------\n",
      "--------------------------------------------------Fitting Fama-French Factor Model--------------------------------------------------\n",
      "--------------------------------------------------Done!--------------------------------------------------\n",
      "--------------------------------------------------Fitting Fama-French Factor Model--------------------------------------------------\n",
      "--------------------------------------------------Done!--------------------------------------------------\n",
      "--------------------------------------------------Fitting Fama-French Factor Model--------------------------------------------------\n",
      "--------------------------------------------------Done!--------------------------------------------------\n",
      "--------------------------------------------------Fitting Fama-French Factor Model--------------------------------------------------\n",
      "--------------------------------------------------Done!--------------------------------------------------\n",
      "--------------------------------------------------Fitting Fama-French Factor Model--------------------------------------------------\n",
      "--------------------------------------------------Done!--------------------------------------------------\n",
      "--------------------------------------------------Fitting Fama-French Factor Model--------------------------------------------------\n",
      "--------------------------------------------------Done!--------------------------------------------------\n",
      "--------------------------------------------------Fitting Fama-French Factor Model--------------------------------------------------\n",
      "--------------------------------------------------Done!--------------------------------------------------\n",
      "--------------------------------------------------Fitting Fama-French Factor Model--------------------------------------------------\n",
      "--------------------------------------------------Done!--------------------------------------------------\n",
      "--------------------------------------------------Fitting Fama-French Factor Model--------------------------------------------------\n",
      "--------------------------------------------------Done!--------------------------------------------------\n",
      "--------------------------------------------------Fitting Fama-French Factor Model--------------------------------------------------\n",
      "--------------------------------------------------Done!--------------------------------------------------\n",
      "--------------------------------------------------Fitting Fama-French Factor Model--------------------------------------------------\n",
      "--------------------------------------------------Done!--------------------------------------------------\n",
      "--------------------------------------------------Fitting Fama-French Factor Model--------------------------------------------------\n",
      "--------------------------------------------------Done!--------------------------------------------------\n",
      "--------------------------------------------------Fitting Fama-French Factor Model--------------------------------------------------\n",
      "--------------------------------------------------Done!--------------------------------------------------\n",
      "--------------------------------------------------Fitting Fama-French Factor Model--------------------------------------------------\n",
      "--------------------------------------------------Done!--------------------------------------------------\n",
      "--------------------------------------------------Fitting Fama-French Factor Model--------------------------------------------------\n",
      "--------------------------------------------------Done!--------------------------------------------------\n"
     ]
    }
   ],
   "source": [
    "params_dict = famafrench_regression_analysis(asset_type=asset_type, rolling=False)"
   ]
  },
  {
   "cell_type": "code",
   "execution_count": 6,
   "metadata": {},
   "outputs": [
    {
     "data": {
      "text/html": [
       "<div>\n",
       "<style scoped>\n",
       "    .dataframe tbody tr th:only-of-type {\n",
       "        vertical-align: middle;\n",
       "    }\n",
       "\n",
       "    .dataframe tbody tr th {\n",
       "        vertical-align: top;\n",
       "    }\n",
       "\n",
       "    .dataframe thead th {\n",
       "        text-align: right;\n",
       "    }\n",
       "</style>\n",
       "<table border=\"1\" class=\"dataframe\">\n",
       "  <thead>\n",
       "    <tr style=\"text-align: right;\">\n",
       "      <th></th>\n",
       "      <th>Alpha</th>\n",
       "      <th>Mkt-RF</th>\n",
       "    </tr>\n",
       "  </thead>\n",
       "  <tbody>\n",
       "    <tr>\n",
       "      <th>AAPL</th>\n",
       "      <td>0.012672</td>\n",
       "      <td>1.301195</td>\n",
       "    </tr>\n",
       "    <tr>\n",
       "      <th>IBM</th>\n",
       "      <td>0.000778</td>\n",
       "      <td>0.901222</td>\n",
       "    </tr>\n",
       "    <tr>\n",
       "      <th>PG</th>\n",
       "      <td>0.005464</td>\n",
       "      <td>0.395995</td>\n",
       "    </tr>\n",
       "    <tr>\n",
       "      <th>GE</th>\n",
       "      <td>-0.001904</td>\n",
       "      <td>1.204848</td>\n",
       "    </tr>\n",
       "    <tr>\n",
       "      <th>AMD</th>\n",
       "      <td>0.007523</td>\n",
       "      <td>2.147909</td>\n",
       "    </tr>\n",
       "    <tr>\n",
       "      <th>WMT</th>\n",
       "      <td>0.005044</td>\n",
       "      <td>0.531462</td>\n",
       "    </tr>\n",
       "    <tr>\n",
       "      <th>BAC</th>\n",
       "      <td>-0.000988</td>\n",
       "      <td>1.432551</td>\n",
       "    </tr>\n",
       "    <tr>\n",
       "      <th>T</th>\n",
       "      <td>0.002253</td>\n",
       "      <td>0.556926</td>\n",
       "    </tr>\n",
       "    <tr>\n",
       "      <th>XOM</th>\n",
       "      <td>0.003494</td>\n",
       "      <td>0.610235</td>\n",
       "    </tr>\n",
       "    <tr>\n",
       "      <th>RRC</th>\n",
       "      <td>0.007958</td>\n",
       "      <td>0.995224</td>\n",
       "    </tr>\n",
       "    <tr>\n",
       "      <th>BBY</th>\n",
       "      <td>0.014256</td>\n",
       "      <td>1.388707</td>\n",
       "    </tr>\n",
       "    <tr>\n",
       "      <th>PFE</th>\n",
       "      <td>0.004186</td>\n",
       "      <td>0.654589</td>\n",
       "    </tr>\n",
       "    <tr>\n",
       "      <th>JPM</th>\n",
       "      <td>0.002707</td>\n",
       "      <td>1.320348</td>\n",
       "    </tr>\n",
       "    <tr>\n",
       "      <th>C</th>\n",
       "      <td>-0.004319</td>\n",
       "      <td>1.725669</td>\n",
       "    </tr>\n",
       "    <tr>\n",
       "      <th>MCD</th>\n",
       "      <td>0.005493</td>\n",
       "      <td>0.643887</td>\n",
       "    </tr>\n",
       "    <tr>\n",
       "      <th>KO</th>\n",
       "      <td>0.003568</td>\n",
       "      <td>0.543678</td>\n",
       "    </tr>\n",
       "    <tr>\n",
       "      <th>JNJ</th>\n",
       "      <td>0.005068</td>\n",
       "      <td>0.524176</td>\n",
       "    </tr>\n",
       "    <tr>\n",
       "      <th>WHR</th>\n",
       "      <td>-0.001154</td>\n",
       "      <td>1.403358</td>\n",
       "    </tr>\n",
       "    <tr>\n",
       "      <th>MMM</th>\n",
       "      <td>0.000693</td>\n",
       "      <td>0.761378</td>\n",
       "    </tr>\n",
       "    <tr>\n",
       "      <th>GIS</th>\n",
       "      <td>0.005008</td>\n",
       "      <td>0.253350</td>\n",
       "    </tr>\n",
       "  </tbody>\n",
       "</table>\n",
       "</div>"
      ],
      "text/plain": [
       "         Alpha    Mkt-RF\n",
       "AAPL  0.012672  1.301195\n",
       "IBM   0.000778  0.901222\n",
       "PG    0.005464  0.395995\n",
       "GE   -0.001904  1.204848\n",
       "AMD   0.007523  2.147909\n",
       "WMT   0.005044  0.531462\n",
       "BAC  -0.000988  1.432551\n",
       "T     0.002253  0.556926\n",
       "XOM   0.003494  0.610235\n",
       "RRC   0.007958  0.995224\n",
       "BBY   0.014256  1.388707\n",
       "PFE   0.004186  0.654589\n",
       "JPM   0.002707  1.320348\n",
       "C    -0.004319  1.725669\n",
       "MCD   0.005493  0.643887\n",
       "KO    0.003568  0.543678\n",
       "JNJ   0.005068  0.524176\n",
       "WHR  -0.001154  1.403358\n",
       "MMM   0.000693  0.761378\n",
       "GIS   0.005008  0.253350"
      ]
     },
     "execution_count": 6,
     "metadata": {},
     "output_type": "execute_result"
    }
   ],
   "source": [
    "# CAPM Model Parameters\n",
    "params_dict['Mkt-RF']"
   ]
  },
  {
   "cell_type": "code",
   "execution_count": 7,
   "metadata": {},
   "outputs": [
    {
     "data": {
      "text/html": [
       "<div>\n",
       "<style scoped>\n",
       "    .dataframe tbody tr th:only-of-type {\n",
       "        vertical-align: middle;\n",
       "    }\n",
       "\n",
       "    .dataframe tbody tr th {\n",
       "        vertical-align: top;\n",
       "    }\n",
       "\n",
       "    .dataframe thead th {\n",
       "        text-align: right;\n",
       "    }\n",
       "</style>\n",
       "<table border=\"1\" class=\"dataframe\">\n",
       "  <thead>\n",
       "    <tr style=\"text-align: right;\">\n",
       "      <th></th>\n",
       "      <th>Alpha</th>\n",
       "      <th>Mkt-RF</th>\n",
       "      <th>SMB</th>\n",
       "      <th>HML</th>\n",
       "      <th>RMW</th>\n",
       "      <th>CMA</th>\n",
       "      <th>Mom</th>\n",
       "    </tr>\n",
       "  </thead>\n",
       "  <tbody>\n",
       "    <tr>\n",
       "      <th>AAPL</th>\n",
       "      <td>0.016024</td>\n",
       "      <td>1.086197</td>\n",
       "      <td>0.307541</td>\n",
       "      <td>-0.632190</td>\n",
       "      <td>0.186291</td>\n",
       "      <td>-0.685202</td>\n",
       "      <td>-0.111838</td>\n",
       "    </tr>\n",
       "    <tr>\n",
       "      <th>IBM</th>\n",
       "      <td>0.003609</td>\n",
       "      <td>0.833804</td>\n",
       "      <td>-0.327427</td>\n",
       "      <td>-0.238200</td>\n",
       "      <td>-0.139786</td>\n",
       "      <td>0.226433</td>\n",
       "      <td>-0.356484</td>\n",
       "    </tr>\n",
       "    <tr>\n",
       "      <th>PG</th>\n",
       "      <td>0.000594</td>\n",
       "      <td>0.639342</td>\n",
       "      <td>-0.159208</td>\n",
       "      <td>-0.316355</td>\n",
       "      <td>0.527820</td>\n",
       "      <td>0.798154</td>\n",
       "      <td>0.030377</td>\n",
       "    </tr>\n",
       "    <tr>\n",
       "      <th>GE</th>\n",
       "      <td>-0.000912</td>\n",
       "      <td>1.190082</td>\n",
       "      <td>-0.217498</td>\n",
       "      <td>0.521444</td>\n",
       "      <td>-0.148621</td>\n",
       "      <td>-0.103045</td>\n",
       "      <td>-0.149437</td>\n",
       "    </tr>\n",
       "    <tr>\n",
       "      <th>AMD</th>\n",
       "      <td>0.014141</td>\n",
       "      <td>1.814560</td>\n",
       "      <td>0.274628</td>\n",
       "      <td>-0.710401</td>\n",
       "      <td>-0.172659</td>\n",
       "      <td>0.299282</td>\n",
       "      <td>-0.780723</td>\n",
       "    </tr>\n",
       "    <tr>\n",
       "      <th>WMT</th>\n",
       "      <td>0.002871</td>\n",
       "      <td>0.660591</td>\n",
       "      <td>-0.319896</td>\n",
       "      <td>-0.162709</td>\n",
       "      <td>0.509247</td>\n",
       "      <td>-0.115191</td>\n",
       "      <td>0.035440</td>\n",
       "    </tr>\n",
       "    <tr>\n",
       "      <th>BAC</th>\n",
       "      <td>0.003904</td>\n",
       "      <td>1.215155</td>\n",
       "      <td>-0.206094</td>\n",
       "      <td>1.925897</td>\n",
       "      <td>-0.582383</td>\n",
       "      <td>-1.293029</td>\n",
       "      <td>-0.258174</td>\n",
       "    </tr>\n",
       "    <tr>\n",
       "      <th>T</th>\n",
       "      <td>-0.001478</td>\n",
       "      <td>0.790991</td>\n",
       "      <td>-0.387018</td>\n",
       "      <td>-0.037645</td>\n",
       "      <td>0.279230</td>\n",
       "      <td>0.782262</td>\n",
       "      <td>-0.030216</td>\n",
       "    </tr>\n",
       "    <tr>\n",
       "      <th>XOM</th>\n",
       "      <td>0.000200</td>\n",
       "      <td>0.755628</td>\n",
       "      <td>0.003936</td>\n",
       "      <td>0.315761</td>\n",
       "      <td>0.180298</td>\n",
       "      <td>0.442071</td>\n",
       "      <td>0.040538</td>\n",
       "    </tr>\n",
       "    <tr>\n",
       "      <th>RRC</th>\n",
       "      <td>0.002437</td>\n",
       "      <td>1.112823</td>\n",
       "      <td>0.730808</td>\n",
       "      <td>0.499769</td>\n",
       "      <td>0.461229</td>\n",
       "      <td>0.624594</td>\n",
       "      <td>0.018874</td>\n",
       "    </tr>\n",
       "    <tr>\n",
       "      <th>BBY</th>\n",
       "      <td>0.019726</td>\n",
       "      <td>0.971633</td>\n",
       "      <td>0.855213</td>\n",
       "      <td>-0.005216</td>\n",
       "      <td>0.167690</td>\n",
       "      <td>-0.924180</td>\n",
       "      <td>-0.489149</td>\n",
       "    </tr>\n",
       "    <tr>\n",
       "      <th>PFE</th>\n",
       "      <td>0.000501</td>\n",
       "      <td>0.889038</td>\n",
       "      <td>-0.445612</td>\n",
       "      <td>-0.217860</td>\n",
       "      <td>0.411000</td>\n",
       "      <td>0.501925</td>\n",
       "      <td>0.053499</td>\n",
       "    </tr>\n",
       "    <tr>\n",
       "      <th>JPM</th>\n",
       "      <td>0.007913</td>\n",
       "      <td>1.103616</td>\n",
       "      <td>-0.099283</td>\n",
       "      <td>1.142246</td>\n",
       "      <td>-0.774122</td>\n",
       "      <td>-0.554109</td>\n",
       "      <td>-0.270692</td>\n",
       "    </tr>\n",
       "    <tr>\n",
       "      <th>C</th>\n",
       "      <td>0.000741</td>\n",
       "      <td>1.553835</td>\n",
       "      <td>-0.430324</td>\n",
       "      <td>1.686738</td>\n",
       "      <td>-0.752689</td>\n",
       "      <td>-0.941773</td>\n",
       "      <td>-0.250591</td>\n",
       "    </tr>\n",
       "    <tr>\n",
       "      <th>MCD</th>\n",
       "      <td>0.002040</td>\n",
       "      <td>0.844755</td>\n",
       "      <td>-0.340946</td>\n",
       "      <td>0.016258</td>\n",
       "      <td>0.397843</td>\n",
       "      <td>0.312786</td>\n",
       "      <td>0.048918</td>\n",
       "    </tr>\n",
       "    <tr>\n",
       "      <th>KO</th>\n",
       "      <td>-0.000745</td>\n",
       "      <td>0.767874</td>\n",
       "      <td>-0.245728</td>\n",
       "      <td>-0.205264</td>\n",
       "      <td>0.567687</td>\n",
       "      <td>0.576060</td>\n",
       "      <td>-0.011520</td>\n",
       "    </tr>\n",
       "    <tr>\n",
       "      <th>JNJ</th>\n",
       "      <td>0.001055</td>\n",
       "      <td>0.750903</td>\n",
       "      <td>-0.337433</td>\n",
       "      <td>-0.226807</td>\n",
       "      <td>0.508159</td>\n",
       "      <td>0.428279</td>\n",
       "      <td>0.067496</td>\n",
       "    </tr>\n",
       "    <tr>\n",
       "      <th>WHR</th>\n",
       "      <td>-0.003647</td>\n",
       "      <td>1.388909</td>\n",
       "      <td>0.613725</td>\n",
       "      <td>0.397613</td>\n",
       "      <td>0.585351</td>\n",
       "      <td>0.428178</td>\n",
       "      <td>-0.405446</td>\n",
       "    </tr>\n",
       "    <tr>\n",
       "      <th>MMM</th>\n",
       "      <td>-0.003452</td>\n",
       "      <td>0.914099</td>\n",
       "      <td>0.159407</td>\n",
       "      <td>-0.101165</td>\n",
       "      <td>0.512553</td>\n",
       "      <td>0.639698</td>\n",
       "      <td>-0.052970</td>\n",
       "    </tr>\n",
       "    <tr>\n",
       "      <th>GIS</th>\n",
       "      <td>0.001595</td>\n",
       "      <td>0.401877</td>\n",
       "      <td>-0.034214</td>\n",
       "      <td>-0.165290</td>\n",
       "      <td>0.489362</td>\n",
       "      <td>0.370014</td>\n",
       "      <td>0.004406</td>\n",
       "    </tr>\n",
       "  </tbody>\n",
       "</table>\n",
       "</div>"
      ],
      "text/plain": [
       "         Alpha    Mkt-RF       SMB       HML       RMW       CMA       Mom\n",
       "AAPL  0.016024  1.086197  0.307541 -0.632190  0.186291 -0.685202 -0.111838\n",
       "IBM   0.003609  0.833804 -0.327427 -0.238200 -0.139786  0.226433 -0.356484\n",
       "PG    0.000594  0.639342 -0.159208 -0.316355  0.527820  0.798154  0.030377\n",
       "GE   -0.000912  1.190082 -0.217498  0.521444 -0.148621 -0.103045 -0.149437\n",
       "AMD   0.014141  1.814560  0.274628 -0.710401 -0.172659  0.299282 -0.780723\n",
       "WMT   0.002871  0.660591 -0.319896 -0.162709  0.509247 -0.115191  0.035440\n",
       "BAC   0.003904  1.215155 -0.206094  1.925897 -0.582383 -1.293029 -0.258174\n",
       "T    -0.001478  0.790991 -0.387018 -0.037645  0.279230  0.782262 -0.030216\n",
       "XOM   0.000200  0.755628  0.003936  0.315761  0.180298  0.442071  0.040538\n",
       "RRC   0.002437  1.112823  0.730808  0.499769  0.461229  0.624594  0.018874\n",
       "BBY   0.019726  0.971633  0.855213 -0.005216  0.167690 -0.924180 -0.489149\n",
       "PFE   0.000501  0.889038 -0.445612 -0.217860  0.411000  0.501925  0.053499\n",
       "JPM   0.007913  1.103616 -0.099283  1.142246 -0.774122 -0.554109 -0.270692\n",
       "C     0.000741  1.553835 -0.430324  1.686738 -0.752689 -0.941773 -0.250591\n",
       "MCD   0.002040  0.844755 -0.340946  0.016258  0.397843  0.312786  0.048918\n",
       "KO   -0.000745  0.767874 -0.245728 -0.205264  0.567687  0.576060 -0.011520\n",
       "JNJ   0.001055  0.750903 -0.337433 -0.226807  0.508159  0.428279  0.067496\n",
       "WHR  -0.003647  1.388909  0.613725  0.397613  0.585351  0.428178 -0.405446\n",
       "MMM  -0.003452  0.914099  0.159407 -0.101165  0.512553  0.639698 -0.052970\n",
       "GIS   0.001595  0.401877 -0.034214 -0.165290  0.489362  0.370014  0.004406"
      ]
     },
     "execution_count": 7,
     "metadata": {},
     "output_type": "execute_result"
    }
   ],
   "source": [
    "# Fama-French 6 Factor Model Factor Loadings\n",
    "params_dict['Mkt-RF_SMB_HML_RMW_CMA_Mom']"
   ]
  },
  {
   "cell_type": "markdown",
   "metadata": {},
   "source": [
    "# 3. Covariance Estimation"
   ]
  },
  {
   "cell_type": "markdown",
   "metadata": {},
   "source": [
    "## 3 a. Risk-Free Rate"
   ]
  },
  {
   "cell_type": "code",
   "execution_count": 8,
   "metadata": {},
   "outputs": [
    {
     "name": "stdout",
     "output_type": "stream",
     "text": [
      "--------------------------------------------------Loading Time Series of Factors--------------------------------------------------\n"
     ]
    },
    {
     "name": "stderr",
     "output_type": "stream",
     "text": [
      "/Users/souratoshkhan/CQF/BlPortfolioConstruction/blportopt/data_utils.py:168: FutureWarning: The argument 'date_parser' is deprecated and will be removed in a future version. Please use 'date_format' instead, or read your data in as 'object' dtype and then call 'to_datetime'.\n",
      "  data = pdr.get_data_famafrench(filename, start=self.start)[0]\n",
      "/Users/souratoshkhan/CQF/BlPortfolioConstruction/blportopt/data_utils.py:168: FutureWarning: The argument 'date_parser' is deprecated and will be removed in a future version. Please use 'date_format' instead, or read your data in as 'object' dtype and then call 'to_datetime'.\n",
      "  data = pdr.get_data_famafrench(filename, start=self.start)[0]\n",
      "/Users/souratoshkhan/CQF/BlPortfolioConstruction/blportopt/data_utils.py:168: FutureWarning: The argument 'date_parser' is deprecated and will be removed in a future version. Please use 'date_format' instead, or read your data in as 'object' dtype and then call 'to_datetime'.\n",
      "  data = pdr.get_data_famafrench(filename, start=self.start)[0]\n",
      "/Users/souratoshkhan/CQF/BlPortfolioConstruction/blportopt/data_utils.py:168: FutureWarning: The argument 'date_parser' is deprecated and will be removed in a future version. Please use 'date_format' instead, or read your data in as 'object' dtype and then call 'to_datetime'.\n",
      "  data = pdr.get_data_famafrench(filename, start=self.start)[0]\n"
     ]
    },
    {
     "name": "stdout",
     "output_type": "stream",
     "text": [
      "--------------------------------------------------Computing Average Risk-Free Returns of Assets--------------------------------------------------\n"
     ]
    },
    {
     "data": {
      "text/plain": [
       "0.025116625310173703"
      ]
     },
     "execution_count": 8,
     "metadata": {},
     "output_type": "execute_result"
    }
   ],
   "source": [
    "rf = empirical_rf_calculate(asset_type=asset_type)\n",
    "rf"
   ]
  },
  {
   "cell_type": "markdown",
   "metadata": {},
   "source": [
    "## 3 b. Empirical Returns & Covariance Matrix"
   ]
  },
  {
   "cell_type": "code",
   "execution_count": 9,
   "metadata": {},
   "outputs": [
    {
     "name": "stdout",
     "output_type": "stream",
     "text": [
      "--------------------------------------------------Loading Time Series of Factors--------------------------------------------------\n"
     ]
    },
    {
     "name": "stderr",
     "output_type": "stream",
     "text": [
      "/Users/souratoshkhan/CQF/BlPortfolioConstruction/blportopt/data_utils.py:168: FutureWarning: The argument 'date_parser' is deprecated and will be removed in a future version. Please use 'date_format' instead, or read your data in as 'object' dtype and then call 'to_datetime'.\n",
      "  data = pdr.get_data_famafrench(filename, start=self.start)[0]\n",
      "/Users/souratoshkhan/CQF/BlPortfolioConstruction/blportopt/data_utils.py:168: FutureWarning: The argument 'date_parser' is deprecated and will be removed in a future version. Please use 'date_format' instead, or read your data in as 'object' dtype and then call 'to_datetime'.\n",
      "  data = pdr.get_data_famafrench(filename, start=self.start)[0]\n",
      "/Users/souratoshkhan/CQF/BlPortfolioConstruction/blportopt/data_utils.py:168: FutureWarning: The argument 'date_parser' is deprecated and will be removed in a future version. Please use 'date_format' instead, or read your data in as 'object' dtype and then call 'to_datetime'.\n",
      "  data = pdr.get_data_famafrench(filename, start=self.start)[0]\n",
      "/Users/souratoshkhan/CQF/BlPortfolioConstruction/blportopt/data_utils.py:168: FutureWarning: The argument 'date_parser' is deprecated and will be removed in a future version. Please use 'date_format' instead, or read your data in as 'object' dtype and then call 'to_datetime'.\n",
      "  data = pdr.get_data_famafrench(filename, start=self.start)[0]\n"
     ]
    },
    {
     "data": {
      "text/plain": [
       "AAPL    0.261350\n",
       "IBM     0.085021\n",
       "PG      0.098823\n",
       "GE      0.078338\n",
       "AMD     0.270665\n",
       "WMT     0.105158\n",
       "BAC     0.108456\n",
       "T       0.073805\n",
       "XOM     0.093177\n",
       "RRC     0.179079\n",
       "BBY     0.287702\n",
       "PFE     0.105210\n",
       "JPM     0.143375\n",
       "C       0.093099\n",
       "MCD     0.119998\n",
       "KO      0.088472\n",
       "JNJ     0.104843\n",
       "WHR     0.104015\n",
       "MMM     0.072266\n",
       "GIS     0.081372\n",
       "dtype: float64"
      ]
     },
     "metadata": {},
     "output_type": "display_data"
    },
    {
     "data": {
      "text/html": [
       "<div>\n",
       "<style scoped>\n",
       "    .dataframe tbody tr th:only-of-type {\n",
       "        vertical-align: middle;\n",
       "    }\n",
       "\n",
       "    .dataframe tbody tr th {\n",
       "        vertical-align: top;\n",
       "    }\n",
       "\n",
       "    .dataframe thead th {\n",
       "        text-align: right;\n",
       "    }\n",
       "</style>\n",
       "<table border=\"1\" class=\"dataframe\">\n",
       "  <thead>\n",
       "    <tr style=\"text-align: right;\">\n",
       "      <th></th>\n",
       "      <th>AAPL</th>\n",
       "      <th>IBM</th>\n",
       "      <th>PG</th>\n",
       "      <th>GE</th>\n",
       "      <th>AMD</th>\n",
       "      <th>WMT</th>\n",
       "      <th>BAC</th>\n",
       "      <th>T</th>\n",
       "      <th>XOM</th>\n",
       "      <th>RRC</th>\n",
       "      <th>BBY</th>\n",
       "      <th>PFE</th>\n",
       "      <th>JPM</th>\n",
       "      <th>C</th>\n",
       "      <th>MCD</th>\n",
       "      <th>KO</th>\n",
       "      <th>JNJ</th>\n",
       "      <th>WHR</th>\n",
       "      <th>MMM</th>\n",
       "      <th>GIS</th>\n",
       "    </tr>\n",
       "  </thead>\n",
       "  <tbody>\n",
       "    <tr>\n",
       "      <th>AAPL</th>\n",
       "      <td>0.177608</td>\n",
       "      <td>0.037227</td>\n",
       "      <td>0.003213</td>\n",
       "      <td>0.028871</td>\n",
       "      <td>0.110915</td>\n",
       "      <td>0.016040</td>\n",
       "      <td>0.030679</td>\n",
       "      <td>0.004192</td>\n",
       "      <td>0.013124</td>\n",
       "      <td>0.018967</td>\n",
       "      <td>0.056137</td>\n",
       "      <td>0.005925</td>\n",
       "      <td>0.032065</td>\n",
       "      <td>0.034194</td>\n",
       "      <td>0.019102</td>\n",
       "      <td>0.007528</td>\n",
       "      <td>0.012525</td>\n",
       "      <td>0.032584</td>\n",
       "      <td>0.018211</td>\n",
       "      <td>-0.000056</td>\n",
       "    </tr>\n",
       "    <tr>\n",
       "      <th>IBM</th>\n",
       "      <td>0.037227</td>\n",
       "      <td>0.069545</td>\n",
       "      <td>0.004499</td>\n",
       "      <td>0.025060</td>\n",
       "      <td>0.057585</td>\n",
       "      <td>0.009144</td>\n",
       "      <td>0.025741</td>\n",
       "      <td>0.015535</td>\n",
       "      <td>0.015437</td>\n",
       "      <td>0.017404</td>\n",
       "      <td>0.033860</td>\n",
       "      <td>0.014244</td>\n",
       "      <td>0.030491</td>\n",
       "      <td>0.035271</td>\n",
       "      <td>0.015498</td>\n",
       "      <td>0.007266</td>\n",
       "      <td>0.012743</td>\n",
       "      <td>0.027089</td>\n",
       "      <td>0.018150</td>\n",
       "      <td>0.003723</td>\n",
       "    </tr>\n",
       "    <tr>\n",
       "      <th>PG</th>\n",
       "      <td>0.003213</td>\n",
       "      <td>0.004499</td>\n",
       "      <td>0.035725</td>\n",
       "      <td>0.012693</td>\n",
       "      <td>0.001567</td>\n",
       "      <td>0.010514</td>\n",
       "      <td>0.015021</td>\n",
       "      <td>0.008447</td>\n",
       "      <td>0.006357</td>\n",
       "      <td>0.007990</td>\n",
       "      <td>-0.006421</td>\n",
       "      <td>0.011752</td>\n",
       "      <td>0.011116</td>\n",
       "      <td>0.018294</td>\n",
       "      <td>0.013963</td>\n",
       "      <td>0.018540</td>\n",
       "      <td>0.016406</td>\n",
       "      <td>0.020741</td>\n",
       "      <td>0.011734</td>\n",
       "      <td>0.012114</td>\n",
       "    </tr>\n",
       "    <tr>\n",
       "      <th>GE</th>\n",
       "      <td>0.028871</td>\n",
       "      <td>0.025060</td>\n",
       "      <td>0.012693</td>\n",
       "      <td>0.081072</td>\n",
       "      <td>0.052886</td>\n",
       "      <td>0.015246</td>\n",
       "      <td>0.056031</td>\n",
       "      <td>0.019470</td>\n",
       "      <td>0.021297</td>\n",
       "      <td>0.018554</td>\n",
       "      <td>0.031387</td>\n",
       "      <td>0.017337</td>\n",
       "      <td>0.043877</td>\n",
       "      <td>0.066831</td>\n",
       "      <td>0.017110</td>\n",
       "      <td>0.015257</td>\n",
       "      <td>0.015125</td>\n",
       "      <td>0.044899</td>\n",
       "      <td>0.023452</td>\n",
       "      <td>0.008371</td>\n",
       "    </tr>\n",
       "    <tr>\n",
       "      <th>AMD</th>\n",
       "      <td>0.110915</td>\n",
       "      <td>0.057585</td>\n",
       "      <td>0.001567</td>\n",
       "      <td>0.052886</td>\n",
       "      <td>0.417613</td>\n",
       "      <td>0.017553</td>\n",
       "      <td>0.070283</td>\n",
       "      <td>0.021551</td>\n",
       "      <td>0.017803</td>\n",
       "      <td>0.033819</td>\n",
       "      <td>0.103714</td>\n",
       "      <td>0.032938</td>\n",
       "      <td>0.070203</td>\n",
       "      <td>0.081414</td>\n",
       "      <td>0.023345</td>\n",
       "      <td>0.013073</td>\n",
       "      <td>0.016523</td>\n",
       "      <td>0.069972</td>\n",
       "      <td>0.030566</td>\n",
       "      <td>0.005005</td>\n",
       "    </tr>\n",
       "    <tr>\n",
       "      <th>WMT</th>\n",
       "      <td>0.016040</td>\n",
       "      <td>0.009144</td>\n",
       "      <td>0.010514</td>\n",
       "      <td>0.015246</td>\n",
       "      <td>0.017553</td>\n",
       "      <td>0.046222</td>\n",
       "      <td>0.018818</td>\n",
       "      <td>0.008342</td>\n",
       "      <td>0.004410</td>\n",
       "      <td>-0.001040</td>\n",
       "      <td>0.024883</td>\n",
       "      <td>0.011339</td>\n",
       "      <td>0.017942</td>\n",
       "      <td>0.022679</td>\n",
       "      <td>0.014258</td>\n",
       "      <td>0.012524</td>\n",
       "      <td>0.012858</td>\n",
       "      <td>0.019178</td>\n",
       "      <td>0.010256</td>\n",
       "      <td>0.007973</td>\n",
       "    </tr>\n",
       "    <tr>\n",
       "      <th>BAC</th>\n",
       "      <td>0.030679</td>\n",
       "      <td>0.025741</td>\n",
       "      <td>0.015021</td>\n",
       "      <td>0.056031</td>\n",
       "      <td>0.070283</td>\n",
       "      <td>0.018818</td>\n",
       "      <td>0.139915</td>\n",
       "      <td>0.013221</td>\n",
       "      <td>0.019869</td>\n",
       "      <td>0.031585</td>\n",
       "      <td>0.048815</td>\n",
       "      <td>0.028678</td>\n",
       "      <td>0.084069</td>\n",
       "      <td>0.114942</td>\n",
       "      <td>0.021999</td>\n",
       "      <td>0.019021</td>\n",
       "      <td>0.020241</td>\n",
       "      <td>0.073665</td>\n",
       "      <td>0.030086</td>\n",
       "      <td>0.008384</td>\n",
       "    </tr>\n",
       "    <tr>\n",
       "      <th>T</th>\n",
       "      <td>0.004192</td>\n",
       "      <td>0.015535</td>\n",
       "      <td>0.008447</td>\n",
       "      <td>0.019470</td>\n",
       "      <td>0.021551</td>\n",
       "      <td>0.008342</td>\n",
       "      <td>0.013221</td>\n",
       "      <td>0.049276</td>\n",
       "      <td>0.015765</td>\n",
       "      <td>0.009031</td>\n",
       "      <td>0.013011</td>\n",
       "      <td>0.014897</td>\n",
       "      <td>0.011523</td>\n",
       "      <td>0.021965</td>\n",
       "      <td>0.015622</td>\n",
       "      <td>0.012961</td>\n",
       "      <td>0.011329</td>\n",
       "      <td>0.019346</td>\n",
       "      <td>0.013032</td>\n",
       "      <td>0.010178</td>\n",
       "    </tr>\n",
       "    <tr>\n",
       "      <th>XOM</th>\n",
       "      <td>0.013124</td>\n",
       "      <td>0.015437</td>\n",
       "      <td>0.006357</td>\n",
       "      <td>0.021297</td>\n",
       "      <td>0.017803</td>\n",
       "      <td>0.004410</td>\n",
       "      <td>0.019869</td>\n",
       "      <td>0.015765</td>\n",
       "      <td>0.041123</td>\n",
       "      <td>0.050161</td>\n",
       "      <td>0.010181</td>\n",
       "      <td>0.010554</td>\n",
       "      <td>0.016503</td>\n",
       "      <td>0.029085</td>\n",
       "      <td>0.013377</td>\n",
       "      <td>0.011863</td>\n",
       "      <td>0.011053</td>\n",
       "      <td>0.018283</td>\n",
       "      <td>0.015984</td>\n",
       "      <td>0.003934</td>\n",
       "    </tr>\n",
       "    <tr>\n",
       "      <th>RRC</th>\n",
       "      <td>0.018967</td>\n",
       "      <td>0.017404</td>\n",
       "      <td>0.007990</td>\n",
       "      <td>0.018554</td>\n",
       "      <td>0.033819</td>\n",
       "      <td>-0.001040</td>\n",
       "      <td>0.031585</td>\n",
       "      <td>0.009031</td>\n",
       "      <td>0.050161</td>\n",
       "      <td>0.349080</td>\n",
       "      <td>0.022246</td>\n",
       "      <td>0.011433</td>\n",
       "      <td>0.030713</td>\n",
       "      <td>0.038537</td>\n",
       "      <td>0.011922</td>\n",
       "      <td>0.004820</td>\n",
       "      <td>0.015406</td>\n",
       "      <td>0.038741</td>\n",
       "      <td>0.029224</td>\n",
       "      <td>0.006556</td>\n",
       "    </tr>\n",
       "    <tr>\n",
       "      <th>BBY</th>\n",
       "      <td>0.056137</td>\n",
       "      <td>0.033860</td>\n",
       "      <td>-0.006421</td>\n",
       "      <td>0.031387</td>\n",
       "      <td>0.103714</td>\n",
       "      <td>0.024883</td>\n",
       "      <td>0.048815</td>\n",
       "      <td>0.013011</td>\n",
       "      <td>0.010181</td>\n",
       "      <td>0.022246</td>\n",
       "      <td>0.295774</td>\n",
       "      <td>0.011207</td>\n",
       "      <td>0.053953</td>\n",
       "      <td>0.059053</td>\n",
       "      <td>0.020837</td>\n",
       "      <td>0.004048</td>\n",
       "      <td>0.005732</td>\n",
       "      <td>0.063928</td>\n",
       "      <td>0.016186</td>\n",
       "      <td>0.000191</td>\n",
       "    </tr>\n",
       "    <tr>\n",
       "      <th>PFE</th>\n",
       "      <td>0.005925</td>\n",
       "      <td>0.014244</td>\n",
       "      <td>0.011752</td>\n",
       "      <td>0.017337</td>\n",
       "      <td>0.032938</td>\n",
       "      <td>0.011339</td>\n",
       "      <td>0.028678</td>\n",
       "      <td>0.014897</td>\n",
       "      <td>0.010554</td>\n",
       "      <td>0.011433</td>\n",
       "      <td>0.011207</td>\n",
       "      <td>0.053375</td>\n",
       "      <td>0.020670</td>\n",
       "      <td>0.031667</td>\n",
       "      <td>0.014984</td>\n",
       "      <td>0.014220</td>\n",
       "      <td>0.024547</td>\n",
       "      <td>0.022229</td>\n",
       "      <td>0.013167</td>\n",
       "      <td>0.010113</td>\n",
       "    </tr>\n",
       "    <tr>\n",
       "      <th>JPM</th>\n",
       "      <td>0.032065</td>\n",
       "      <td>0.030491</td>\n",
       "      <td>0.011116</td>\n",
       "      <td>0.043877</td>\n",
       "      <td>0.070203</td>\n",
       "      <td>0.017942</td>\n",
       "      <td>0.084069</td>\n",
       "      <td>0.011523</td>\n",
       "      <td>0.016503</td>\n",
       "      <td>0.030713</td>\n",
       "      <td>0.053953</td>\n",
       "      <td>0.020670</td>\n",
       "      <td>0.101565</td>\n",
       "      <td>0.084462</td>\n",
       "      <td>0.023601</td>\n",
       "      <td>0.016891</td>\n",
       "      <td>0.010871</td>\n",
       "      <td>0.052642</td>\n",
       "      <td>0.019739</td>\n",
       "      <td>0.005125</td>\n",
       "    </tr>\n",
       "    <tr>\n",
       "      <th>C</th>\n",
       "      <td>0.034194</td>\n",
       "      <td>0.035271</td>\n",
       "      <td>0.018294</td>\n",
       "      <td>0.066831</td>\n",
       "      <td>0.081414</td>\n",
       "      <td>0.022679</td>\n",
       "      <td>0.114942</td>\n",
       "      <td>0.021965</td>\n",
       "      <td>0.029085</td>\n",
       "      <td>0.038537</td>\n",
       "      <td>0.059053</td>\n",
       "      <td>0.031667</td>\n",
       "      <td>0.084462</td>\n",
       "      <td>0.154947</td>\n",
       "      <td>0.026828</td>\n",
       "      <td>0.025900</td>\n",
       "      <td>0.024403</td>\n",
       "      <td>0.073444</td>\n",
       "      <td>0.033978</td>\n",
       "      <td>0.009503</td>\n",
       "    </tr>\n",
       "    <tr>\n",
       "      <th>MCD</th>\n",
       "      <td>0.019102</td>\n",
       "      <td>0.015498</td>\n",
       "      <td>0.013963</td>\n",
       "      <td>0.017110</td>\n",
       "      <td>0.023345</td>\n",
       "      <td>0.014258</td>\n",
       "      <td>0.021999</td>\n",
       "      <td>0.015622</td>\n",
       "      <td>0.013377</td>\n",
       "      <td>0.011922</td>\n",
       "      <td>0.020837</td>\n",
       "      <td>0.014984</td>\n",
       "      <td>0.023601</td>\n",
       "      <td>0.026828</td>\n",
       "      <td>0.041711</td>\n",
       "      <td>0.016268</td>\n",
       "      <td>0.013858</td>\n",
       "      <td>0.022759</td>\n",
       "      <td>0.011549</td>\n",
       "      <td>0.007979</td>\n",
       "    </tr>\n",
       "    <tr>\n",
       "      <th>KO</th>\n",
       "      <td>0.007528</td>\n",
       "      <td>0.007266</td>\n",
       "      <td>0.018540</td>\n",
       "      <td>0.015257</td>\n",
       "      <td>0.013073</td>\n",
       "      <td>0.012524</td>\n",
       "      <td>0.019021</td>\n",
       "      <td>0.012961</td>\n",
       "      <td>0.011863</td>\n",
       "      <td>0.004820</td>\n",
       "      <td>0.004048</td>\n",
       "      <td>0.014220</td>\n",
       "      <td>0.016891</td>\n",
       "      <td>0.025900</td>\n",
       "      <td>0.016268</td>\n",
       "      <td>0.039142</td>\n",
       "      <td>0.017638</td>\n",
       "      <td>0.016947</td>\n",
       "      <td>0.012959</td>\n",
       "      <td>0.008944</td>\n",
       "    </tr>\n",
       "    <tr>\n",
       "      <th>JNJ</th>\n",
       "      <td>0.012525</td>\n",
       "      <td>0.012743</td>\n",
       "      <td>0.016406</td>\n",
       "      <td>0.015125</td>\n",
       "      <td>0.016523</td>\n",
       "      <td>0.012858</td>\n",
       "      <td>0.020241</td>\n",
       "      <td>0.011329</td>\n",
       "      <td>0.011053</td>\n",
       "      <td>0.015406</td>\n",
       "      <td>0.005732</td>\n",
       "      <td>0.024547</td>\n",
       "      <td>0.010871</td>\n",
       "      <td>0.024403</td>\n",
       "      <td>0.013858</td>\n",
       "      <td>0.017638</td>\n",
       "      <td>0.035429</td>\n",
       "      <td>0.019216</td>\n",
       "      <td>0.015127</td>\n",
       "      <td>0.011712</td>\n",
       "    </tr>\n",
       "    <tr>\n",
       "      <th>WHR</th>\n",
       "      <td>0.032584</td>\n",
       "      <td>0.027089</td>\n",
       "      <td>0.020741</td>\n",
       "      <td>0.044899</td>\n",
       "      <td>0.069972</td>\n",
       "      <td>0.019178</td>\n",
       "      <td>0.073665</td>\n",
       "      <td>0.019346</td>\n",
       "      <td>0.018283</td>\n",
       "      <td>0.038741</td>\n",
       "      <td>0.063928</td>\n",
       "      <td>0.022229</td>\n",
       "      <td>0.052642</td>\n",
       "      <td>0.073444</td>\n",
       "      <td>0.022759</td>\n",
       "      <td>0.016947</td>\n",
       "      <td>0.019216</td>\n",
       "      <td>0.128683</td>\n",
       "      <td>0.035699</td>\n",
       "      <td>0.013780</td>\n",
       "    </tr>\n",
       "    <tr>\n",
       "      <th>MMM</th>\n",
       "      <td>0.018211</td>\n",
       "      <td>0.018150</td>\n",
       "      <td>0.011734</td>\n",
       "      <td>0.023452</td>\n",
       "      <td>0.030566</td>\n",
       "      <td>0.010256</td>\n",
       "      <td>0.030086</td>\n",
       "      <td>0.013032</td>\n",
       "      <td>0.015984</td>\n",
       "      <td>0.029224</td>\n",
       "      <td>0.016186</td>\n",
       "      <td>0.013167</td>\n",
       "      <td>0.019739</td>\n",
       "      <td>0.033978</td>\n",
       "      <td>0.011549</td>\n",
       "      <td>0.012959</td>\n",
       "      <td>0.015127</td>\n",
       "      <td>0.035699</td>\n",
       "      <td>0.042511</td>\n",
       "      <td>0.007394</td>\n",
       "    </tr>\n",
       "    <tr>\n",
       "      <th>GIS</th>\n",
       "      <td>-0.000056</td>\n",
       "      <td>0.003723</td>\n",
       "      <td>0.012114</td>\n",
       "      <td>0.008371</td>\n",
       "      <td>0.005005</td>\n",
       "      <td>0.007973</td>\n",
       "      <td>0.008384</td>\n",
       "      <td>0.010178</td>\n",
       "      <td>0.003934</td>\n",
       "      <td>0.006556</td>\n",
       "      <td>0.000191</td>\n",
       "      <td>0.010113</td>\n",
       "      <td>0.005125</td>\n",
       "      <td>0.009503</td>\n",
       "      <td>0.007979</td>\n",
       "      <td>0.008944</td>\n",
       "      <td>0.011712</td>\n",
       "      <td>0.013780</td>\n",
       "      <td>0.007394</td>\n",
       "      <td>0.031377</td>\n",
       "    </tr>\n",
       "  </tbody>\n",
       "</table>\n",
       "</div>"
      ],
      "text/plain": [
       "          AAPL       IBM        PG        GE       AMD       WMT       BAC  \\\n",
       "AAPL  0.177608  0.037227  0.003213  0.028871  0.110915  0.016040  0.030679   \n",
       "IBM   0.037227  0.069545  0.004499  0.025060  0.057585  0.009144  0.025741   \n",
       "PG    0.003213  0.004499  0.035725  0.012693  0.001567  0.010514  0.015021   \n",
       "GE    0.028871  0.025060  0.012693  0.081072  0.052886  0.015246  0.056031   \n",
       "AMD   0.110915  0.057585  0.001567  0.052886  0.417613  0.017553  0.070283   \n",
       "WMT   0.016040  0.009144  0.010514  0.015246  0.017553  0.046222  0.018818   \n",
       "BAC   0.030679  0.025741  0.015021  0.056031  0.070283  0.018818  0.139915   \n",
       "T     0.004192  0.015535  0.008447  0.019470  0.021551  0.008342  0.013221   \n",
       "XOM   0.013124  0.015437  0.006357  0.021297  0.017803  0.004410  0.019869   \n",
       "RRC   0.018967  0.017404  0.007990  0.018554  0.033819 -0.001040  0.031585   \n",
       "BBY   0.056137  0.033860 -0.006421  0.031387  0.103714  0.024883  0.048815   \n",
       "PFE   0.005925  0.014244  0.011752  0.017337  0.032938  0.011339  0.028678   \n",
       "JPM   0.032065  0.030491  0.011116  0.043877  0.070203  0.017942  0.084069   \n",
       "C     0.034194  0.035271  0.018294  0.066831  0.081414  0.022679  0.114942   \n",
       "MCD   0.019102  0.015498  0.013963  0.017110  0.023345  0.014258  0.021999   \n",
       "KO    0.007528  0.007266  0.018540  0.015257  0.013073  0.012524  0.019021   \n",
       "JNJ   0.012525  0.012743  0.016406  0.015125  0.016523  0.012858  0.020241   \n",
       "WHR   0.032584  0.027089  0.020741  0.044899  0.069972  0.019178  0.073665   \n",
       "MMM   0.018211  0.018150  0.011734  0.023452  0.030566  0.010256  0.030086   \n",
       "GIS  -0.000056  0.003723  0.012114  0.008371  0.005005  0.007973  0.008384   \n",
       "\n",
       "             T       XOM       RRC       BBY       PFE       JPM         C  \\\n",
       "AAPL  0.004192  0.013124  0.018967  0.056137  0.005925  0.032065  0.034194   \n",
       "IBM   0.015535  0.015437  0.017404  0.033860  0.014244  0.030491  0.035271   \n",
       "PG    0.008447  0.006357  0.007990 -0.006421  0.011752  0.011116  0.018294   \n",
       "GE    0.019470  0.021297  0.018554  0.031387  0.017337  0.043877  0.066831   \n",
       "AMD   0.021551  0.017803  0.033819  0.103714  0.032938  0.070203  0.081414   \n",
       "WMT   0.008342  0.004410 -0.001040  0.024883  0.011339  0.017942  0.022679   \n",
       "BAC   0.013221  0.019869  0.031585  0.048815  0.028678  0.084069  0.114942   \n",
       "T     0.049276  0.015765  0.009031  0.013011  0.014897  0.011523  0.021965   \n",
       "XOM   0.015765  0.041123  0.050161  0.010181  0.010554  0.016503  0.029085   \n",
       "RRC   0.009031  0.050161  0.349080  0.022246  0.011433  0.030713  0.038537   \n",
       "BBY   0.013011  0.010181  0.022246  0.295774  0.011207  0.053953  0.059053   \n",
       "PFE   0.014897  0.010554  0.011433  0.011207  0.053375  0.020670  0.031667   \n",
       "JPM   0.011523  0.016503  0.030713  0.053953  0.020670  0.101565  0.084462   \n",
       "C     0.021965  0.029085  0.038537  0.059053  0.031667  0.084462  0.154947   \n",
       "MCD   0.015622  0.013377  0.011922  0.020837  0.014984  0.023601  0.026828   \n",
       "KO    0.012961  0.011863  0.004820  0.004048  0.014220  0.016891  0.025900   \n",
       "JNJ   0.011329  0.011053  0.015406  0.005732  0.024547  0.010871  0.024403   \n",
       "WHR   0.019346  0.018283  0.038741  0.063928  0.022229  0.052642  0.073444   \n",
       "MMM   0.013032  0.015984  0.029224  0.016186  0.013167  0.019739  0.033978   \n",
       "GIS   0.010178  0.003934  0.006556  0.000191  0.010113  0.005125  0.009503   \n",
       "\n",
       "           MCD        KO       JNJ       WHR       MMM       GIS  \n",
       "AAPL  0.019102  0.007528  0.012525  0.032584  0.018211 -0.000056  \n",
       "IBM   0.015498  0.007266  0.012743  0.027089  0.018150  0.003723  \n",
       "PG    0.013963  0.018540  0.016406  0.020741  0.011734  0.012114  \n",
       "GE    0.017110  0.015257  0.015125  0.044899  0.023452  0.008371  \n",
       "AMD   0.023345  0.013073  0.016523  0.069972  0.030566  0.005005  \n",
       "WMT   0.014258  0.012524  0.012858  0.019178  0.010256  0.007973  \n",
       "BAC   0.021999  0.019021  0.020241  0.073665  0.030086  0.008384  \n",
       "T     0.015622  0.012961  0.011329  0.019346  0.013032  0.010178  \n",
       "XOM   0.013377  0.011863  0.011053  0.018283  0.015984  0.003934  \n",
       "RRC   0.011922  0.004820  0.015406  0.038741  0.029224  0.006556  \n",
       "BBY   0.020837  0.004048  0.005732  0.063928  0.016186  0.000191  \n",
       "PFE   0.014984  0.014220  0.024547  0.022229  0.013167  0.010113  \n",
       "JPM   0.023601  0.016891  0.010871  0.052642  0.019739  0.005125  \n",
       "C     0.026828  0.025900  0.024403  0.073444  0.033978  0.009503  \n",
       "MCD   0.041711  0.016268  0.013858  0.022759  0.011549  0.007979  \n",
       "KO    0.016268  0.039142  0.017638  0.016947  0.012959  0.008944  \n",
       "JNJ   0.013858  0.017638  0.035429  0.019216  0.015127  0.011712  \n",
       "WHR   0.022759  0.016947  0.019216  0.128683  0.035699  0.013780  \n",
       "MMM   0.011549  0.012959  0.015127  0.035699  0.042511  0.007394  \n",
       "GIS   0.007979  0.008944  0.011712  0.013780  0.007394  0.031377  "
      ]
     },
     "metadata": {},
     "output_type": "display_data"
    }
   ],
   "source": [
    "mu_emp, cov_emp = empirical_cov_calculate(asset_type=asset_type)\n",
    "\n",
    "display(mu_emp)\n",
    "display(cov_emp)"
   ]
  },
  {
   "cell_type": "markdown",
   "metadata": {},
   "source": [
    "## 3 c. Factor Model Evaluated Returns & Covariance Matrix"
   ]
  },
  {
   "cell_type": "code",
   "execution_count": 10,
   "metadata": {},
   "outputs": [
    {
     "name": "stdout",
     "output_type": "stream",
     "text": [
      "--------------------------------------------------Computing Covariance Matrix based on Factor Loadings--------------------------------------------------\n",
      "--------------------------------------------------Loading Time Series of Factors--------------------------------------------------\n",
      "--------------------------------------------------Done!--------------------------------------------------\n",
      "--------------------------------------------------Loading Historical Prices of 20 Equities (Stocks/Funds)--------------------------------------------------\n"
     ]
    },
    {
     "name": "stderr",
     "output_type": "stream",
     "text": [
      "/Users/souratoshkhan/CQF/BlPortfolioConstruction/blportopt/data_utils.py:168: FutureWarning: The argument 'date_parser' is deprecated and will be removed in a future version. Please use 'date_format' instead, or read your data in as 'object' dtype and then call 'to_datetime'.\n",
      "  data = pdr.get_data_famafrench(filename, start=self.start)[0]\n",
      "/Users/souratoshkhan/CQF/BlPortfolioConstruction/blportopt/data_utils.py:168: FutureWarning: The argument 'date_parser' is deprecated and will be removed in a future version. Please use 'date_format' instead, or read your data in as 'object' dtype and then call 'to_datetime'.\n",
      "  data = pdr.get_data_famafrench(filename, start=self.start)[0]\n",
      "/Users/souratoshkhan/CQF/BlPortfolioConstruction/blportopt/data_utils.py:168: FutureWarning: The argument 'date_parser' is deprecated and will be removed in a future version. Please use 'date_format' instead, or read your data in as 'object' dtype and then call 'to_datetime'.\n",
      "  data = pdr.get_data_famafrench(filename, start=self.start)[0]\n",
      "/Users/souratoshkhan/CQF/BlPortfolioConstruction/blportopt/data_utils.py:168: FutureWarning: The argument 'date_parser' is deprecated and will be removed in a future version. Please use 'date_format' instead, or read your data in as 'object' dtype and then call 'to_datetime'.\n",
      "  data = pdr.get_data_famafrench(filename, start=self.start)[0]\n"
     ]
    },
    {
     "name": "stdout",
     "output_type": "stream",
     "text": [
      "--------------------------------------------------Done!--------------------------------------------------\n",
      "--------------------------------------------------Calculating Historical Returns of 20 Equities (Stocks/Funds)--------------------------------------------------\n",
      "--------------------------------------------------Done!--------------------------------------------------\n",
      "--------------------------------------------------Loading Historical Prices of SPY--------------------------------------------------\n",
      "--------------------------------------------------Done!--------------------------------------------------\n",
      "--------------------------------------------------Fitting Fama-French Factor Model--------------------------------------------------\n",
      "--------------------------------------------------Done!--------------------------------------------------\n",
      "------------------------------Asset returns Computed for Asset AAPL------------------------------\n",
      "--------------------------------------------------Fitting Fama-French Factor Model--------------------------------------------------\n",
      "--------------------------------------------------Done!--------------------------------------------------\n",
      "------------------------------Asset returns Computed for Asset IBM------------------------------\n",
      "--------------------------------------------------Fitting Fama-French Factor Model--------------------------------------------------\n",
      "--------------------------------------------------Done!--------------------------------------------------\n",
      "------------------------------Asset returns Computed for Asset PG------------------------------\n",
      "--------------------------------------------------Fitting Fama-French Factor Model--------------------------------------------------\n",
      "--------------------------------------------------Done!--------------------------------------------------\n",
      "------------------------------Asset returns Computed for Asset GE------------------------------\n",
      "--------------------------------------------------Fitting Fama-French Factor Model--------------------------------------------------\n",
      "--------------------------------------------------Done!--------------------------------------------------\n",
      "------------------------------Asset returns Computed for Asset AMD------------------------------\n",
      "--------------------------------------------------Fitting Fama-French Factor Model--------------------------------------------------\n",
      "--------------------------------------------------Done!--------------------------------------------------\n",
      "------------------------------Asset returns Computed for Asset WMT------------------------------\n",
      "--------------------------------------------------Fitting Fama-French Factor Model--------------------------------------------------\n",
      "--------------------------------------------------Done!--------------------------------------------------\n",
      "------------------------------Asset returns Computed for Asset BAC------------------------------\n",
      "--------------------------------------------------Fitting Fama-French Factor Model--------------------------------------------------\n",
      "--------------------------------------------------Done!--------------------------------------------------\n",
      "------------------------------Asset returns Computed for Asset T------------------------------\n",
      "--------------------------------------------------Fitting Fama-French Factor Model--------------------------------------------------\n",
      "--------------------------------------------------Done!--------------------------------------------------\n",
      "------------------------------Asset returns Computed for Asset XOM------------------------------\n",
      "--------------------------------------------------Fitting Fama-French Factor Model--------------------------------------------------\n",
      "--------------------------------------------------Done!--------------------------------------------------\n",
      "------------------------------Asset returns Computed for Asset RRC------------------------------\n",
      "--------------------------------------------------Fitting Fama-French Factor Model--------------------------------------------------\n",
      "--------------------------------------------------Done!--------------------------------------------------\n",
      "------------------------------Asset returns Computed for Asset BBY------------------------------\n",
      "--------------------------------------------------Fitting Fama-French Factor Model--------------------------------------------------\n",
      "--------------------------------------------------Done!--------------------------------------------------\n",
      "------------------------------Asset returns Computed for Asset PFE------------------------------\n",
      "--------------------------------------------------Fitting Fama-French Factor Model--------------------------------------------------\n",
      "--------------------------------------------------Done!--------------------------------------------------\n",
      "------------------------------Asset returns Computed for Asset JPM------------------------------\n",
      "--------------------------------------------------Fitting Fama-French Factor Model--------------------------------------------------\n",
      "--------------------------------------------------Done!--------------------------------------------------\n",
      "------------------------------Asset returns Computed for Asset C------------------------------\n",
      "--------------------------------------------------Fitting Fama-French Factor Model--------------------------------------------------\n",
      "--------------------------------------------------Done!--------------------------------------------------\n",
      "------------------------------Asset returns Computed for Asset MCD------------------------------\n",
      "--------------------------------------------------Fitting Fama-French Factor Model--------------------------------------------------\n",
      "--------------------------------------------------Done!--------------------------------------------------\n",
      "------------------------------Asset returns Computed for Asset KO------------------------------\n",
      "--------------------------------------------------Fitting Fama-French Factor Model--------------------------------------------------\n",
      "--------------------------------------------------Done!--------------------------------------------------\n",
      "------------------------------Asset returns Computed for Asset JNJ------------------------------\n",
      "--------------------------------------------------Fitting Fama-French Factor Model--------------------------------------------------\n",
      "--------------------------------------------------Done!--------------------------------------------------\n",
      "------------------------------Asset returns Computed for Asset WHR------------------------------\n",
      "--------------------------------------------------Fitting Fama-French Factor Model--------------------------------------------------\n",
      "--------------------------------------------------Done!--------------------------------------------------\n",
      "------------------------------Asset returns Computed for Asset MMM------------------------------\n",
      "--------------------------------------------------Fitting Fama-French Factor Model--------------------------------------------------\n",
      "--------------------------------------------------Done!--------------------------------------------------\n",
      "------------------------------Asset returns Computed for Asset GIS------------------------------\n"
     ]
    },
    {
     "data": {
      "text/plain": [
       "AAPL    0.286326\n",
       "IBM     0.109997\n",
       "PG      0.123799\n",
       "GE      0.103314\n",
       "AMD     0.295641\n",
       "WMT     0.130134\n",
       "BAC     0.133432\n",
       "T       0.098781\n",
       "XOM     0.118153\n",
       "RRC     0.204055\n",
       "BBY     0.312678\n",
       "PFE     0.130186\n",
       "JPM     0.168351\n",
       "C       0.118075\n",
       "MCD     0.144974\n",
       "KO      0.113448\n",
       "JNJ     0.129819\n",
       "WHR     0.128991\n",
       "MMM     0.097242\n",
       "GIS     0.106348\n",
       "dtype: float64"
      ]
     },
     "metadata": {},
     "output_type": "display_data"
    },
    {
     "data": {
      "text/html": [
       "<div>\n",
       "<style scoped>\n",
       "    .dataframe tbody tr th:only-of-type {\n",
       "        vertical-align: middle;\n",
       "    }\n",
       "\n",
       "    .dataframe tbody tr th {\n",
       "        vertical-align: top;\n",
       "    }\n",
       "\n",
       "    .dataframe thead th {\n",
       "        text-align: right;\n",
       "    }\n",
       "</style>\n",
       "<table border=\"1\" class=\"dataframe\">\n",
       "  <thead>\n",
       "    <tr style=\"text-align: right;\">\n",
       "      <th></th>\n",
       "      <th>AAPL</th>\n",
       "      <th>IBM</th>\n",
       "      <th>PG</th>\n",
       "      <th>GE</th>\n",
       "      <th>AMD</th>\n",
       "      <th>WMT</th>\n",
       "      <th>BAC</th>\n",
       "      <th>T</th>\n",
       "      <th>XOM</th>\n",
       "      <th>RRC</th>\n",
       "      <th>BBY</th>\n",
       "      <th>PFE</th>\n",
       "      <th>JPM</th>\n",
       "      <th>C</th>\n",
       "      <th>MCD</th>\n",
       "      <th>KO</th>\n",
       "      <th>JNJ</th>\n",
       "      <th>WHR</th>\n",
       "      <th>MMM</th>\n",
       "      <th>GIS</th>\n",
       "    </tr>\n",
       "  </thead>\n",
       "  <tbody>\n",
       "    <tr>\n",
       "      <th>AAPL</th>\n",
       "      <td>0.177357</td>\n",
       "      <td>0.037181</td>\n",
       "      <td>0.003117</td>\n",
       "      <td>0.028859</td>\n",
       "      <td>0.110619</td>\n",
       "      <td>0.015989</td>\n",
       "      <td>0.030535</td>\n",
       "      <td>0.004128</td>\n",
       "      <td>0.013029</td>\n",
       "      <td>0.018755</td>\n",
       "      <td>0.056146</td>\n",
       "      <td>0.005908</td>\n",
       "      <td>0.031939</td>\n",
       "      <td>0.034183</td>\n",
       "      <td>0.018927</td>\n",
       "      <td>0.007440</td>\n",
       "      <td>0.012450</td>\n",
       "      <td>0.032336</td>\n",
       "      <td>0.018053</td>\n",
       "      <td>-0.000157</td>\n",
       "    </tr>\n",
       "    <tr>\n",
       "      <th>IBM</th>\n",
       "      <td>0.037181</td>\n",
       "      <td>0.069705</td>\n",
       "      <td>0.004608</td>\n",
       "      <td>0.025252</td>\n",
       "      <td>0.057494</td>\n",
       "      <td>0.009297</td>\n",
       "      <td>0.025802</td>\n",
       "      <td>0.015676</td>\n",
       "      <td>0.015546</td>\n",
       "      <td>0.017396</td>\n",
       "      <td>0.034074</td>\n",
       "      <td>0.014433</td>\n",
       "      <td>0.030570</td>\n",
       "      <td>0.035465</td>\n",
       "      <td>0.015529</td>\n",
       "      <td>0.007382</td>\n",
       "      <td>0.012873</td>\n",
       "      <td>0.027047</td>\n",
       "      <td>0.018197</td>\n",
       "      <td>0.003827</td>\n",
       "    </tr>\n",
       "    <tr>\n",
       "      <th>PG</th>\n",
       "      <td>0.003117</td>\n",
       "      <td>0.004608</td>\n",
       "      <td>0.035783</td>\n",
       "      <td>0.012835</td>\n",
       "      <td>0.001425</td>\n",
       "      <td>0.010616</td>\n",
       "      <td>0.015031</td>\n",
       "      <td>0.008537</td>\n",
       "      <td>0.006416</td>\n",
       "      <td>0.007931</td>\n",
       "      <td>-0.006258</td>\n",
       "      <td>0.011889</td>\n",
       "      <td>0.011144</td>\n",
       "      <td>0.018437</td>\n",
       "      <td>0.013943</td>\n",
       "      <td>0.018606</td>\n",
       "      <td>0.016486</td>\n",
       "      <td>0.020648</td>\n",
       "      <td>0.011730</td>\n",
       "      <td>0.012168</td>\n",
       "    </tr>\n",
       "    <tr>\n",
       "      <th>GE</th>\n",
       "      <td>0.028859</td>\n",
       "      <td>0.025252</td>\n",
       "      <td>0.012835</td>\n",
       "      <td>0.081298</td>\n",
       "      <td>0.052828</td>\n",
       "      <td>0.015433</td>\n",
       "      <td>0.056125</td>\n",
       "      <td>0.019645</td>\n",
       "      <td>0.021440</td>\n",
       "      <td>0.018579</td>\n",
       "      <td>0.031634</td>\n",
       "      <td>0.017558</td>\n",
       "      <td>0.043990</td>\n",
       "      <td>0.067058</td>\n",
       "      <td>0.017173</td>\n",
       "      <td>0.015407</td>\n",
       "      <td>0.015289</td>\n",
       "      <td>0.044890</td>\n",
       "      <td>0.023532</td>\n",
       "      <td>0.008508</td>\n",
       "    </tr>\n",
       "    <tr>\n",
       "      <th>AMD</th>\n",
       "      <td>0.110619</td>\n",
       "      <td>0.057494</td>\n",
       "      <td>0.001425</td>\n",
       "      <td>0.052828</td>\n",
       "      <td>0.417271</td>\n",
       "      <td>0.017456</td>\n",
       "      <td>0.070093</td>\n",
       "      <td>0.021441</td>\n",
       "      <td>0.017662</td>\n",
       "      <td>0.033561</td>\n",
       "      <td>0.103678</td>\n",
       "      <td>0.032877</td>\n",
       "      <td>0.070032</td>\n",
       "      <td>0.081358</td>\n",
       "      <td>0.023126</td>\n",
       "      <td>0.012940</td>\n",
       "      <td>0.016403</td>\n",
       "      <td>0.069679</td>\n",
       "      <td>0.030363</td>\n",
       "      <td>0.004858</td>\n",
       "    </tr>\n",
       "    <tr>\n",
       "      <th>WMT</th>\n",
       "      <td>0.015989</td>\n",
       "      <td>0.009297</td>\n",
       "      <td>0.010616</td>\n",
       "      <td>0.015433</td>\n",
       "      <td>0.017456</td>\n",
       "      <td>0.046369</td>\n",
       "      <td>0.018873</td>\n",
       "      <td>0.008477</td>\n",
       "      <td>0.004513</td>\n",
       "      <td>-0.001054</td>\n",
       "      <td>0.025092</td>\n",
       "      <td>0.011522</td>\n",
       "      <td>0.018016</td>\n",
       "      <td>0.022867</td>\n",
       "      <td>0.014283</td>\n",
       "      <td>0.012635</td>\n",
       "      <td>0.012983</td>\n",
       "      <td>0.019129</td>\n",
       "      <td>0.010297</td>\n",
       "      <td>0.008072</td>\n",
       "    </tr>\n",
       "    <tr>\n",
       "      <th>BAC</th>\n",
       "      <td>0.030535</td>\n",
       "      <td>0.025802</td>\n",
       "      <td>0.015031</td>\n",
       "      <td>0.056125</td>\n",
       "      <td>0.070093</td>\n",
       "      <td>0.018873</td>\n",
       "      <td>0.139877</td>\n",
       "      <td>0.013264</td>\n",
       "      <td>0.019880</td>\n",
       "      <td>0.031479</td>\n",
       "      <td>0.048930</td>\n",
       "      <td>0.028768</td>\n",
       "      <td>0.084050</td>\n",
       "      <td>0.115037</td>\n",
       "      <td>0.021931</td>\n",
       "      <td>0.019039</td>\n",
       "      <td>0.020273</td>\n",
       "      <td>0.073524</td>\n",
       "      <td>0.030034</td>\n",
       "      <td>0.008390</td>\n",
       "    </tr>\n",
       "    <tr>\n",
       "      <th>T</th>\n",
       "      <td>0.004128</td>\n",
       "      <td>0.015676</td>\n",
       "      <td>0.008537</td>\n",
       "      <td>0.019645</td>\n",
       "      <td>0.021441</td>\n",
       "      <td>0.008477</td>\n",
       "      <td>0.013264</td>\n",
       "      <td>0.049399</td>\n",
       "      <td>0.015856</td>\n",
       "      <td>0.009005</td>\n",
       "      <td>0.013207</td>\n",
       "      <td>0.015067</td>\n",
       "      <td>0.011584</td>\n",
       "      <td>0.022140</td>\n",
       "      <td>0.015634</td>\n",
       "      <td>0.013059</td>\n",
       "      <td>0.011441</td>\n",
       "      <td>0.019285</td>\n",
       "      <td>0.013061</td>\n",
       "      <td>0.010264</td>\n",
       "    </tr>\n",
       "    <tr>\n",
       "      <th>XOM</th>\n",
       "      <td>0.013029</td>\n",
       "      <td>0.015546</td>\n",
       "      <td>0.006416</td>\n",
       "      <td>0.021440</td>\n",
       "      <td>0.017662</td>\n",
       "      <td>0.004513</td>\n",
       "      <td>0.019880</td>\n",
       "      <td>0.015856</td>\n",
       "      <td>0.041182</td>\n",
       "      <td>0.050104</td>\n",
       "      <td>0.010346</td>\n",
       "      <td>0.010693</td>\n",
       "      <td>0.016533</td>\n",
       "      <td>0.029229</td>\n",
       "      <td>0.013358</td>\n",
       "      <td>0.011930</td>\n",
       "      <td>0.011134</td>\n",
       "      <td>0.018191</td>\n",
       "      <td>0.015982</td>\n",
       "      <td>0.003988</td>\n",
       "    </tr>\n",
       "    <tr>\n",
       "      <th>RRC</th>\n",
       "      <td>0.018755</td>\n",
       "      <td>0.017396</td>\n",
       "      <td>0.007931</td>\n",
       "      <td>0.018579</td>\n",
       "      <td>0.033561</td>\n",
       "      <td>-0.001054</td>\n",
       "      <td>0.031479</td>\n",
       "      <td>0.009005</td>\n",
       "      <td>0.050104</td>\n",
       "      <td>0.348905</td>\n",
       "      <td>0.022293</td>\n",
       "      <td>0.011455</td>\n",
       "      <td>0.030626</td>\n",
       "      <td>0.038564</td>\n",
       "      <td>0.011785</td>\n",
       "      <td>0.004770</td>\n",
       "      <td>0.015369</td>\n",
       "      <td>0.038532</td>\n",
       "      <td>0.029104</td>\n",
       "      <td>0.006493</td>\n",
       "    </tr>\n",
       "    <tr>\n",
       "      <th>BBY</th>\n",
       "      <td>0.056146</td>\n",
       "      <td>0.034074</td>\n",
       "      <td>-0.006258</td>\n",
       "      <td>0.031634</td>\n",
       "      <td>0.103678</td>\n",
       "      <td>0.025092</td>\n",
       "      <td>0.048930</td>\n",
       "      <td>0.013207</td>\n",
       "      <td>0.010346</td>\n",
       "      <td>0.022293</td>\n",
       "      <td>0.296043</td>\n",
       "      <td>0.011450</td>\n",
       "      <td>0.054087</td>\n",
       "      <td>0.059302</td>\n",
       "      <td>0.020922</td>\n",
       "      <td>0.004219</td>\n",
       "      <td>0.005917</td>\n",
       "      <td>0.063940</td>\n",
       "      <td>0.016287</td>\n",
       "      <td>0.000350</td>\n",
       "    </tr>\n",
       "    <tr>\n",
       "      <th>PFE</th>\n",
       "      <td>0.005908</td>\n",
       "      <td>0.014433</td>\n",
       "      <td>0.011889</td>\n",
       "      <td>0.017558</td>\n",
       "      <td>0.032877</td>\n",
       "      <td>0.011522</td>\n",
       "      <td>0.028768</td>\n",
       "      <td>0.015067</td>\n",
       "      <td>0.010693</td>\n",
       "      <td>0.011455</td>\n",
       "      <td>0.011450</td>\n",
       "      <td>0.053593</td>\n",
       "      <td>0.020778</td>\n",
       "      <td>0.031890</td>\n",
       "      <td>0.015044</td>\n",
       "      <td>0.014366</td>\n",
       "      <td>0.024707</td>\n",
       "      <td>0.022215</td>\n",
       "      <td>0.013243</td>\n",
       "      <td>0.010247</td>\n",
       "    </tr>\n",
       "    <tr>\n",
       "      <th>JPM</th>\n",
       "      <td>0.031939</td>\n",
       "      <td>0.030570</td>\n",
       "      <td>0.011144</td>\n",
       "      <td>0.043990</td>\n",
       "      <td>0.070032</td>\n",
       "      <td>0.018016</td>\n",
       "      <td>0.084050</td>\n",
       "      <td>0.011584</td>\n",
       "      <td>0.016533</td>\n",
       "      <td>0.030626</td>\n",
       "      <td>0.054087</td>\n",
       "      <td>0.020778</td>\n",
       "      <td>0.101565</td>\n",
       "      <td>0.084575</td>\n",
       "      <td>0.023552</td>\n",
       "      <td>0.016928</td>\n",
       "      <td>0.010922</td>\n",
       "      <td>0.052519</td>\n",
       "      <td>0.019706</td>\n",
       "      <td>0.005149</td>\n",
       "    </tr>\n",
       "    <tr>\n",
       "      <th>C</th>\n",
       "      <td>0.034183</td>\n",
       "      <td>0.035465</td>\n",
       "      <td>0.018437</td>\n",
       "      <td>0.067058</td>\n",
       "      <td>0.081358</td>\n",
       "      <td>0.022867</td>\n",
       "      <td>0.115037</td>\n",
       "      <td>0.022140</td>\n",
       "      <td>0.029229</td>\n",
       "      <td>0.038564</td>\n",
       "      <td>0.059302</td>\n",
       "      <td>0.031890</td>\n",
       "      <td>0.084575</td>\n",
       "      <td>0.155175</td>\n",
       "      <td>0.026893</td>\n",
       "      <td>0.026052</td>\n",
       "      <td>0.024568</td>\n",
       "      <td>0.073436</td>\n",
       "      <td>0.034059</td>\n",
       "      <td>0.009642</td>\n",
       "    </tr>\n",
       "    <tr>\n",
       "      <th>MCD</th>\n",
       "      <td>0.018927</td>\n",
       "      <td>0.015529</td>\n",
       "      <td>0.013943</td>\n",
       "      <td>0.017173</td>\n",
       "      <td>0.023126</td>\n",
       "      <td>0.014283</td>\n",
       "      <td>0.021931</td>\n",
       "      <td>0.015634</td>\n",
       "      <td>0.013358</td>\n",
       "      <td>0.011785</td>\n",
       "      <td>0.020922</td>\n",
       "      <td>0.015044</td>\n",
       "      <td>0.023552</td>\n",
       "      <td>0.026893</td>\n",
       "      <td>0.041613</td>\n",
       "      <td>0.016256</td>\n",
       "      <td>0.013860</td>\n",
       "      <td>0.022588</td>\n",
       "      <td>0.011467</td>\n",
       "      <td>0.007954</td>\n",
       "    </tr>\n",
       "    <tr>\n",
       "      <th>KO</th>\n",
       "      <td>0.007440</td>\n",
       "      <td>0.007382</td>\n",
       "      <td>0.018606</td>\n",
       "      <td>0.015407</td>\n",
       "      <td>0.012940</td>\n",
       "      <td>0.012635</td>\n",
       "      <td>0.019039</td>\n",
       "      <td>0.013059</td>\n",
       "      <td>0.011930</td>\n",
       "      <td>0.004770</td>\n",
       "      <td>0.004219</td>\n",
       "      <td>0.014366</td>\n",
       "      <td>0.016928</td>\n",
       "      <td>0.026052</td>\n",
       "      <td>0.016256</td>\n",
       "      <td>0.039216</td>\n",
       "      <td>0.017726</td>\n",
       "      <td>0.016862</td>\n",
       "      <td>0.012963</td>\n",
       "      <td>0.009005</td>\n",
       "    </tr>\n",
       "    <tr>\n",
       "      <th>JNJ</th>\n",
       "      <td>0.012450</td>\n",
       "      <td>0.012873</td>\n",
       "      <td>0.016486</td>\n",
       "      <td>0.015289</td>\n",
       "      <td>0.016403</td>\n",
       "      <td>0.012983</td>\n",
       "      <td>0.020273</td>\n",
       "      <td>0.011441</td>\n",
       "      <td>0.011134</td>\n",
       "      <td>0.015369</td>\n",
       "      <td>0.005917</td>\n",
       "      <td>0.024707</td>\n",
       "      <td>0.010922</td>\n",
       "      <td>0.024568</td>\n",
       "      <td>0.013860</td>\n",
       "      <td>0.017726</td>\n",
       "      <td>0.035531</td>\n",
       "      <td>0.019145</td>\n",
       "      <td>0.015146</td>\n",
       "      <td>0.011788</td>\n",
       "    </tr>\n",
       "    <tr>\n",
       "      <th>WHR</th>\n",
       "      <td>0.032336</td>\n",
       "      <td>0.027047</td>\n",
       "      <td>0.020648</td>\n",
       "      <td>0.044890</td>\n",
       "      <td>0.069679</td>\n",
       "      <td>0.019129</td>\n",
       "      <td>0.073524</td>\n",
       "      <td>0.019285</td>\n",
       "      <td>0.018191</td>\n",
       "      <td>0.038532</td>\n",
       "      <td>0.063940</td>\n",
       "      <td>0.022215</td>\n",
       "      <td>0.052519</td>\n",
       "      <td>0.073436</td>\n",
       "      <td>0.022588</td>\n",
       "      <td>0.016862</td>\n",
       "      <td>0.019145</td>\n",
       "      <td>0.128438</td>\n",
       "      <td>0.035544</td>\n",
       "      <td>0.013683</td>\n",
       "    </tr>\n",
       "    <tr>\n",
       "      <th>MMM</th>\n",
       "      <td>0.018053</td>\n",
       "      <td>0.018197</td>\n",
       "      <td>0.011730</td>\n",
       "      <td>0.023532</td>\n",
       "      <td>0.030363</td>\n",
       "      <td>0.010297</td>\n",
       "      <td>0.030034</td>\n",
       "      <td>0.013061</td>\n",
       "      <td>0.015982</td>\n",
       "      <td>0.029104</td>\n",
       "      <td>0.016287</td>\n",
       "      <td>0.013243</td>\n",
       "      <td>0.019706</td>\n",
       "      <td>0.034059</td>\n",
       "      <td>0.011467</td>\n",
       "      <td>0.012963</td>\n",
       "      <td>0.015146</td>\n",
       "      <td>0.035544</td>\n",
       "      <td>0.042445</td>\n",
       "      <td>0.007385</td>\n",
       "    </tr>\n",
       "    <tr>\n",
       "      <th>GIS</th>\n",
       "      <td>-0.000157</td>\n",
       "      <td>0.003827</td>\n",
       "      <td>0.012168</td>\n",
       "      <td>0.008508</td>\n",
       "      <td>0.004858</td>\n",
       "      <td>0.008072</td>\n",
       "      <td>0.008390</td>\n",
       "      <td>0.010264</td>\n",
       "      <td>0.003988</td>\n",
       "      <td>0.006493</td>\n",
       "      <td>0.000350</td>\n",
       "      <td>0.010247</td>\n",
       "      <td>0.005149</td>\n",
       "      <td>0.009642</td>\n",
       "      <td>0.007954</td>\n",
       "      <td>0.009005</td>\n",
       "      <td>0.011788</td>\n",
       "      <td>0.013683</td>\n",
       "      <td>0.007385</td>\n",
       "      <td>0.031426</td>\n",
       "    </tr>\n",
       "  </tbody>\n",
       "</table>\n",
       "</div>"
      ],
      "text/plain": [
       "          AAPL       IBM        PG        GE       AMD       WMT       BAC  \\\n",
       "AAPL  0.177357  0.037181  0.003117  0.028859  0.110619  0.015989  0.030535   \n",
       "IBM   0.037181  0.069705  0.004608  0.025252  0.057494  0.009297  0.025802   \n",
       "PG    0.003117  0.004608  0.035783  0.012835  0.001425  0.010616  0.015031   \n",
       "GE    0.028859  0.025252  0.012835  0.081298  0.052828  0.015433  0.056125   \n",
       "AMD   0.110619  0.057494  0.001425  0.052828  0.417271  0.017456  0.070093   \n",
       "WMT   0.015989  0.009297  0.010616  0.015433  0.017456  0.046369  0.018873   \n",
       "BAC   0.030535  0.025802  0.015031  0.056125  0.070093  0.018873  0.139877   \n",
       "T     0.004128  0.015676  0.008537  0.019645  0.021441  0.008477  0.013264   \n",
       "XOM   0.013029  0.015546  0.006416  0.021440  0.017662  0.004513  0.019880   \n",
       "RRC   0.018755  0.017396  0.007931  0.018579  0.033561 -0.001054  0.031479   \n",
       "BBY   0.056146  0.034074 -0.006258  0.031634  0.103678  0.025092  0.048930   \n",
       "PFE   0.005908  0.014433  0.011889  0.017558  0.032877  0.011522  0.028768   \n",
       "JPM   0.031939  0.030570  0.011144  0.043990  0.070032  0.018016  0.084050   \n",
       "C     0.034183  0.035465  0.018437  0.067058  0.081358  0.022867  0.115037   \n",
       "MCD   0.018927  0.015529  0.013943  0.017173  0.023126  0.014283  0.021931   \n",
       "KO    0.007440  0.007382  0.018606  0.015407  0.012940  0.012635  0.019039   \n",
       "JNJ   0.012450  0.012873  0.016486  0.015289  0.016403  0.012983  0.020273   \n",
       "WHR   0.032336  0.027047  0.020648  0.044890  0.069679  0.019129  0.073524   \n",
       "MMM   0.018053  0.018197  0.011730  0.023532  0.030363  0.010297  0.030034   \n",
       "GIS  -0.000157  0.003827  0.012168  0.008508  0.004858  0.008072  0.008390   \n",
       "\n",
       "             T       XOM       RRC       BBY       PFE       JPM         C  \\\n",
       "AAPL  0.004128  0.013029  0.018755  0.056146  0.005908  0.031939  0.034183   \n",
       "IBM   0.015676  0.015546  0.017396  0.034074  0.014433  0.030570  0.035465   \n",
       "PG    0.008537  0.006416  0.007931 -0.006258  0.011889  0.011144  0.018437   \n",
       "GE    0.019645  0.021440  0.018579  0.031634  0.017558  0.043990  0.067058   \n",
       "AMD   0.021441  0.017662  0.033561  0.103678  0.032877  0.070032  0.081358   \n",
       "WMT   0.008477  0.004513 -0.001054  0.025092  0.011522  0.018016  0.022867   \n",
       "BAC   0.013264  0.019880  0.031479  0.048930  0.028768  0.084050  0.115037   \n",
       "T     0.049399  0.015856  0.009005  0.013207  0.015067  0.011584  0.022140   \n",
       "XOM   0.015856  0.041182  0.050104  0.010346  0.010693  0.016533  0.029229   \n",
       "RRC   0.009005  0.050104  0.348905  0.022293  0.011455  0.030626  0.038564   \n",
       "BBY   0.013207  0.010346  0.022293  0.296043  0.011450  0.054087  0.059302   \n",
       "PFE   0.015067  0.010693  0.011455  0.011450  0.053593  0.020778  0.031890   \n",
       "JPM   0.011584  0.016533  0.030626  0.054087  0.020778  0.101565  0.084575   \n",
       "C     0.022140  0.029229  0.038564  0.059302  0.031890  0.084575  0.155175   \n",
       "MCD   0.015634  0.013358  0.011785  0.020922  0.015044  0.023552  0.026893   \n",
       "KO    0.013059  0.011930  0.004770  0.004219  0.014366  0.016928  0.026052   \n",
       "JNJ   0.011441  0.011134  0.015369  0.005917  0.024707  0.010922  0.024568   \n",
       "WHR   0.019285  0.018191  0.038532  0.063940  0.022215  0.052519  0.073436   \n",
       "MMM   0.013061  0.015982  0.029104  0.016287  0.013243  0.019706  0.034059   \n",
       "GIS   0.010264  0.003988  0.006493  0.000350  0.010247  0.005149  0.009642   \n",
       "\n",
       "           MCD        KO       JNJ       WHR       MMM       GIS  \n",
       "AAPL  0.018927  0.007440  0.012450  0.032336  0.018053 -0.000157  \n",
       "IBM   0.015529  0.007382  0.012873  0.027047  0.018197  0.003827  \n",
       "PG    0.013943  0.018606  0.016486  0.020648  0.011730  0.012168  \n",
       "GE    0.017173  0.015407  0.015289  0.044890  0.023532  0.008508  \n",
       "AMD   0.023126  0.012940  0.016403  0.069679  0.030363  0.004858  \n",
       "WMT   0.014283  0.012635  0.012983  0.019129  0.010297  0.008072  \n",
       "BAC   0.021931  0.019039  0.020273  0.073524  0.030034  0.008390  \n",
       "T     0.015634  0.013059  0.011441  0.019285  0.013061  0.010264  \n",
       "XOM   0.013358  0.011930  0.011134  0.018191  0.015982  0.003988  \n",
       "RRC   0.011785  0.004770  0.015369  0.038532  0.029104  0.006493  \n",
       "BBY   0.020922  0.004219  0.005917  0.063940  0.016287  0.000350  \n",
       "PFE   0.015044  0.014366  0.024707  0.022215  0.013243  0.010247  \n",
       "JPM   0.023552  0.016928  0.010922  0.052519  0.019706  0.005149  \n",
       "C     0.026893  0.026052  0.024568  0.073436  0.034059  0.009642  \n",
       "MCD   0.041613  0.016256  0.013860  0.022588  0.011467  0.007954  \n",
       "KO    0.016256  0.039216  0.017726  0.016862  0.012963  0.009005  \n",
       "JNJ   0.013860  0.017726  0.035531  0.019145  0.015146  0.011788  \n",
       "WHR   0.022588  0.016862  0.019145  0.128438  0.035544  0.013683  \n",
       "MMM   0.011467  0.012963  0.015146  0.035544  0.042445  0.007385  \n",
       "GIS   0.007954  0.009005  0.011788  0.013683  0.007385  0.031426  "
      ]
     },
     "metadata": {},
     "output_type": "display_data"
    }
   ],
   "source": [
    "mu_f, cov_f = factor_cov_calculate(asset_type=asset_type)\n",
    "\n",
    "display(mu_f)\n",
    "display(cov_f)"
   ]
  },
  {
   "cell_type": "markdown",
   "metadata": {},
   "source": [
    "# 4. Portfolio Optimization"
   ]
  },
  {
   "cell_type": "code",
   "execution_count": 11,
   "metadata": {},
   "outputs": [],
   "source": [
    "risk_aversion=2.24\n",
    "optimization_method = \"volatility\"\n",
    "# optimization_method = \"risk adjusted returns\"\n",
    "# optimization_method = \"sharpe ratio\""
   ]
  },
  {
   "cell_type": "markdown",
   "metadata": {},
   "source": [
    "## 4 a. Empirical Returns & Covariance Matrix"
   ]
  },
  {
   "cell_type": "markdown",
   "metadata": {},
   "source": [
    "### Efficient Fronter Estimation"
   ]
  },
  {
   "cell_type": "code",
   "execution_count": 12,
   "metadata": {},
   "outputs": [
    {
     "name": "stderr",
     "output_type": "stream",
     "text": [
      "/var/folders/ff/9j4yz0593fl33s973slkvdv40000gn/T/ipykernel_49985/1046661935.py:1: DeprecationWarning: `round_` is deprecated as of NumPy 1.25.0, and will be removed in NumPy 2.0. Please use `round` instead.\n",
      "  efport_emp = efficient_frontier(mu=mu_emp, cov=cov_emp, rf=rf, risk_aversion=risk_aversion, method=optimization_method)\n"
     ]
    },
    {
     "data": {
      "text/html": [
       "<div>\n",
       "<style scoped>\n",
       "    .dataframe tbody tr th:only-of-type {\n",
       "        vertical-align: middle;\n",
       "    }\n",
       "\n",
       "    .dataframe tbody tr th {\n",
       "        vertical-align: top;\n",
       "    }\n",
       "\n",
       "    .dataframe thead th {\n",
       "        text-align: right;\n",
       "    }\n",
       "</style>\n",
       "<table border=\"1\" class=\"dataframe\">\n",
       "  <thead>\n",
       "    <tr style=\"text-align: right;\">\n",
       "      <th></th>\n",
       "      <th>targetrets</th>\n",
       "      <th>targetvols</th>\n",
       "      <th>targetsharpe</th>\n",
       "    </tr>\n",
       "  </thead>\n",
       "  <tbody>\n",
       "    <tr>\n",
       "      <th>0</th>\n",
       "      <td>7.23</td>\n",
       "      <td>11.89</td>\n",
       "      <td>0.61</td>\n",
       "    </tr>\n",
       "    <tr>\n",
       "      <th>1</th>\n",
       "      <td>7.44</td>\n",
       "      <td>11.77</td>\n",
       "      <td>0.63</td>\n",
       "    </tr>\n",
       "    <tr>\n",
       "      <th>2</th>\n",
       "      <td>7.66</td>\n",
       "      <td>11.66</td>\n",
       "      <td>0.66</td>\n",
       "    </tr>\n",
       "    <tr>\n",
       "      <th>3</th>\n",
       "      <td>7.88</td>\n",
       "      <td>11.56</td>\n",
       "      <td>0.68</td>\n",
       "    </tr>\n",
       "    <tr>\n",
       "      <th>4</th>\n",
       "      <td>8.10</td>\n",
       "      <td>11.47</td>\n",
       "      <td>0.71</td>\n",
       "    </tr>\n",
       "    <tr>\n",
       "      <th>...</th>\n",
       "      <td>...</td>\n",
       "      <td>...</td>\n",
       "      <td>...</td>\n",
       "    </tr>\n",
       "    <tr>\n",
       "      <th>95</th>\n",
       "      <td>27.90</td>\n",
       "      <td>29.88</td>\n",
       "      <td>0.93</td>\n",
       "    </tr>\n",
       "    <tr>\n",
       "      <th>96</th>\n",
       "      <td>28.12</td>\n",
       "      <td>30.19</td>\n",
       "      <td>0.93</td>\n",
       "    </tr>\n",
       "    <tr>\n",
       "      <th>97</th>\n",
       "      <td>28.33</td>\n",
       "      <td>30.51</td>\n",
       "      <td>0.93</td>\n",
       "    </tr>\n",
       "    <tr>\n",
       "      <th>98</th>\n",
       "      <td>28.55</td>\n",
       "      <td>30.82</td>\n",
       "      <td>0.93</td>\n",
       "    </tr>\n",
       "    <tr>\n",
       "      <th>99</th>\n",
       "      <td>28.77</td>\n",
       "      <td>31.14</td>\n",
       "      <td>0.92</td>\n",
       "    </tr>\n",
       "  </tbody>\n",
       "</table>\n",
       "<p>100 rows × 3 columns</p>\n",
       "</div>"
      ],
      "text/plain": [
       "    targetrets  targetvols  targetsharpe\n",
       "0         7.23       11.89          0.61\n",
       "1         7.44       11.77          0.63\n",
       "2         7.66       11.66          0.66\n",
       "3         7.88       11.56          0.68\n",
       "4         8.10       11.47          0.71\n",
       "..         ...         ...           ...\n",
       "95       27.90       29.88          0.93\n",
       "96       28.12       30.19          0.93\n",
       "97       28.33       30.51          0.93\n",
       "98       28.55       30.82          0.93\n",
       "99       28.77       31.14          0.92\n",
       "\n",
       "[100 rows x 3 columns]"
      ]
     },
     "metadata": {},
     "output_type": "display_data"
    }
   ],
   "source": [
    "efport_emp = efficient_frontier(mu=mu_emp, cov=cov_emp, rf=rf, risk_aversion=risk_aversion, method=optimization_method)\n",
    "display(efport_emp)"
   ]
  },
  {
   "cell_type": "markdown",
   "metadata": {},
   "source": [
    "### Optimal Weights (Empirical Covariance)"
   ]
  },
  {
   "cell_type": "code",
   "execution_count": 13,
   "metadata": {},
   "outputs": [
    {
     "data": {
      "text/plain": [
       "{'AAPL': 29.67078782982712,\n",
       " 'IBM': -31.614486095080867,\n",
       " 'PG': 24.908810006344844,\n",
       " 'GE': -15.653151499083306,\n",
       " 'AMD': 9.093405728515442,\n",
       " 'WMT': -8.204023054220432,\n",
       " 'BAC': -0.9751612447632652,\n",
       " 'T': -8.176652199502966,\n",
       " 'XOM': -2.901982093249494,\n",
       " 'RRC': 8.762845283065703,\n",
       " 'BBY': 20.643065478395368,\n",
       " 'PFE': 6.467108673090007,\n",
       " 'JPM': 19.62431093009612,\n",
       " 'C': -11.19303475672907,\n",
       " 'MCD': 11.931990327866512,\n",
       " 'KO': -14.339362147642357,\n",
       " 'JNJ': 20.35686344987553,\n",
       " 'WHR': -7.72458161845427,\n",
       " 'MMM': -32.64119896109612,\n",
       " 'GIS': -17.03555403725449}"
      ]
     },
     "execution_count": 13,
     "metadata": {},
     "output_type": "execute_result"
    }
   ],
   "source": [
    "targetret_emp = efport_emp.loc[efport_emp[\"targetsharpe\"].argmax(), [\"targetrets\"]]\n",
    "optimal_weights_emp = calc_optimal_portfolio_weights(mu=mu_emp, cov=cov_emp, rf=rf, tr=targetret_emp, risk_aversion=risk_aversion, method=optimization_method)\n",
    "optimal_weights_emp"
   ]
  },
  {
   "cell_type": "markdown",
   "metadata": {},
   "source": [
    "## 4 b. Factor Model Asset Returns & Covariance Matrix"
   ]
  },
  {
   "cell_type": "markdown",
   "metadata": {},
   "source": [
    "### Efficient Fronter Estimation"
   ]
  },
  {
   "cell_type": "code",
   "execution_count": 14,
   "metadata": {},
   "outputs": [
    {
     "name": "stderr",
     "output_type": "stream",
     "text": [
      "/var/folders/ff/9j4yz0593fl33s973slkvdv40000gn/T/ipykernel_49985/2364881993.py:1: DeprecationWarning: `round_` is deprecated as of NumPy 1.25.0, and will be removed in NumPy 2.0. Please use `round` instead.\n",
      "  efport_f = efficient_frontier(mu=mu_f, cov=cov_f, rf=rf, risk_aversion=risk_aversion, method=optimization_method)\n"
     ]
    },
    {
     "data": {
      "text/html": [
       "<div>\n",
       "<style scoped>\n",
       "    .dataframe tbody tr th:only-of-type {\n",
       "        vertical-align: middle;\n",
       "    }\n",
       "\n",
       "    .dataframe tbody tr th {\n",
       "        vertical-align: top;\n",
       "    }\n",
       "\n",
       "    .dataframe thead th {\n",
       "        text-align: right;\n",
       "    }\n",
       "</style>\n",
       "<table border=\"1\" class=\"dataframe\">\n",
       "  <thead>\n",
       "    <tr style=\"text-align: right;\">\n",
       "      <th></th>\n",
       "      <th>targetrets</th>\n",
       "      <th>targetvols</th>\n",
       "      <th>targetsharpe</th>\n",
       "    </tr>\n",
       "  </thead>\n",
       "  <tbody>\n",
       "    <tr>\n",
       "      <th>0</th>\n",
       "      <td>9.72</td>\n",
       "      <td>11.93</td>\n",
       "      <td>0.82</td>\n",
       "    </tr>\n",
       "    <tr>\n",
       "      <th>1</th>\n",
       "      <td>9.94</td>\n",
       "      <td>11.81</td>\n",
       "      <td>0.84</td>\n",
       "    </tr>\n",
       "    <tr>\n",
       "      <th>2</th>\n",
       "      <td>10.16</td>\n",
       "      <td>11.70</td>\n",
       "      <td>0.87</td>\n",
       "    </tr>\n",
       "    <tr>\n",
       "      <th>3</th>\n",
       "      <td>10.38</td>\n",
       "      <td>11.60</td>\n",
       "      <td>0.89</td>\n",
       "    </tr>\n",
       "    <tr>\n",
       "      <th>4</th>\n",
       "      <td>10.59</td>\n",
       "      <td>11.51</td>\n",
       "      <td>0.92</td>\n",
       "    </tr>\n",
       "    <tr>\n",
       "      <th>...</th>\n",
       "      <td>...</td>\n",
       "      <td>...</td>\n",
       "      <td>...</td>\n",
       "    </tr>\n",
       "    <tr>\n",
       "      <th>95</th>\n",
       "      <td>30.40</td>\n",
       "      <td>29.86</td>\n",
       "      <td>1.02</td>\n",
       "    </tr>\n",
       "    <tr>\n",
       "      <th>96</th>\n",
       "      <td>30.61</td>\n",
       "      <td>30.18</td>\n",
       "      <td>1.01</td>\n",
       "    </tr>\n",
       "    <tr>\n",
       "      <th>97</th>\n",
       "      <td>30.83</td>\n",
       "      <td>30.49</td>\n",
       "      <td>1.01</td>\n",
       "    </tr>\n",
       "    <tr>\n",
       "      <th>98</th>\n",
       "      <td>31.05</td>\n",
       "      <td>30.80</td>\n",
       "      <td>1.01</td>\n",
       "    </tr>\n",
       "    <tr>\n",
       "      <th>99</th>\n",
       "      <td>31.27</td>\n",
       "      <td>31.12</td>\n",
       "      <td>1.00</td>\n",
       "    </tr>\n",
       "  </tbody>\n",
       "</table>\n",
       "<p>100 rows × 3 columns</p>\n",
       "</div>"
      ],
      "text/plain": [
       "    targetrets  targetvols  targetsharpe\n",
       "0         9.72       11.93          0.82\n",
       "1         9.94       11.81          0.84\n",
       "2        10.16       11.70          0.87\n",
       "3        10.38       11.60          0.89\n",
       "4        10.59       11.51          0.92\n",
       "..         ...         ...           ...\n",
       "95       30.40       29.86          1.02\n",
       "96       30.61       30.18          1.01\n",
       "97       30.83       30.49          1.01\n",
       "98       31.05       30.80          1.01\n",
       "99       31.27       31.12          1.00\n",
       "\n",
       "[100 rows x 3 columns]"
      ]
     },
     "metadata": {},
     "output_type": "display_data"
    }
   ],
   "source": [
    "efport_f = efficient_frontier(mu=mu_f, cov=cov_f, rf=rf, risk_aversion=risk_aversion, method=optimization_method)\n",
    "display(efport_f)"
   ]
  },
  {
   "cell_type": "markdown",
   "metadata": {},
   "source": [
    "### Optimal Weights (Factor Analysis)"
   ]
  },
  {
   "cell_type": "code",
   "execution_count": 15,
   "metadata": {},
   "outputs": [
    {
     "data": {
      "text/plain": [
       "{'AAPL': 31.598485368612668,\n",
       " 'IBM': -33.67578089252209,\n",
       " 'PG': 26.51318293452792,\n",
       " 'GE': -16.673317329120934,\n",
       " 'AMD': 9.686224556046382,\n",
       " 'WMT': -8.74828157822375,\n",
       " 'BAC': -1.0396172454673924,\n",
       " 'T': -8.707155426472182,\n",
       " 'XOM': -3.0994122703569493,\n",
       " 'RRC': 9.332828511179502,\n",
       " 'BBY': 21.982961774740886,\n",
       " 'PFE': 6.88028514246559,\n",
       " 'JPM': 20.90394907506099,\n",
       " 'C': -11.915954367650933,\n",
       " 'MCD': 12.70972475262377,\n",
       " 'KO': -15.276415246546271,\n",
       " 'JNJ': 21.682719222657198,\n",
       " 'WHR': -8.229486748510546,\n",
       " 'MMM': -34.767355792544734,\n",
       " 'GIS': -18.15758444049912}"
      ]
     },
     "execution_count": 15,
     "metadata": {},
     "output_type": "execute_result"
    }
   ],
   "source": [
    "targetret_f = efport_f.loc[efport_f[\"targetsharpe\"].argmax(), [\"targetrets\"]]\n",
    "optimal_weights_f = calc_optimal_portfolio_weights(mu=mu_f, cov=cov_f, rf=rf, tr=targetret_f, risk_aversion=risk_aversion, method=optimization_method)\n",
    "optimal_weights_f"
   ]
  },
  {
   "cell_type": "markdown",
   "metadata": {},
   "source": [
    "# 5. Efficient Frontiers"
   ]
  },
  {
   "cell_type": "code",
   "execution_count": 16,
   "metadata": {},
   "outputs": [
    {
     "data": {
      "image/png": "[encoded data removed]",
      "text/plain": [
       "<Figure size 800x800 with 1 Axes>"
      ]
     },
     "metadata": {},
     "output_type": "display_data"
    }
   ],
   "source": [
    "efport_dict = {\"Empirical\": efport_emp, \"Factor Estimate\": efport_f}\n",
    "\n",
    "plot_efficient_frontier(efport_dict=efport_dict)"
   ]
  },
  {
   "cell_type": "markdown",
   "metadata": {},
   "source": [
    "# 6. Market Capitalization"
   ]
  },
  {
   "cell_type": "code",
   "execution_count": 17,
   "metadata": {},
   "outputs": [
    {
     "data": {
      "text/plain": [
       "{'AAPL': 0.42814877458330025,\n",
       " 'IBM': 0.021093355204418136,\n",
       " 'PG': 0.054404015471938925,\n",
       " 'GE': 0.01625265860619555,\n",
       " 'AMD': 0.03217556851197645,\n",
       " 'WMT': 0.06524030122853494,\n",
       " 'BAC': 0.038056562514177834,\n",
       " 'T': 0.017453618870999454,\n",
       " 'XOM': 0.06632434964348748,\n",
       " 'RRC': 0.0010973899369594732,\n",
       " 'BBY': 0.002437559915826505,\n",
       " 'PFE': 0.028335725155624675,\n",
       " 'JPM': 0.06921670216330111,\n",
       " 'C': 0.014231291579372703,\n",
       " 'MCD': 0.031414580149750085,\n",
       " 'KO': 0.039124016020101494,\n",
       " 'JNJ': 0.06051033342170055,\n",
       " 'WHR': 0.0010364467615684566,\n",
       " 'MMM': 0.007119014219436203,\n",
       " 'GIS': 0.006327736041329773}"
      ]
     },
     "execution_count": 17,
     "metadata": {},
     "output_type": "execute_result"
    }
   ],
   "source": [
    "mcap_eval = MarketCapEvaluator(tickers=ASSET_TICKERS[\"stock\"])\n",
    "market_cap_stocks = mcap_eval.compute_market_cap()\n",
    "market_cap_stocks"
   ]
  },
  {
   "cell_type": "markdown",
   "metadata": {},
   "source": [
    "# 7. Evaluate MSR Portfolio Performance"
   ]
  },
  {
   "cell_type": "code",
   "execution_count": 18,
   "metadata": {},
   "outputs": [
    {
     "name": "stdout",
     "output_type": "stream",
     "text": [
      "--------------------------------------------------Loading Time Series of Factors--------------------------------------------------\n",
      "--------------------------------------------------Done!--------------------------------------------------\n",
      "--------------------------------------------------Loading Historical Prices of 20 Equities (Stocks/Funds)--------------------------------------------------\n"
     ]
    },
    {
     "name": "stderr",
     "output_type": "stream",
     "text": [
      "/Users/souratoshkhan/CQF/BlPortfolioConstruction/blportopt/data_utils.py:168: FutureWarning: The argument 'date_parser' is deprecated and will be removed in a future version. Please use 'date_format' instead, or read your data in as 'object' dtype and then call 'to_datetime'.\n",
      "  data = pdr.get_data_famafrench(filename, start=self.start)[0]\n",
      "/Users/souratoshkhan/CQF/BlPortfolioConstruction/blportopt/data_utils.py:168: FutureWarning: The argument 'date_parser' is deprecated and will be removed in a future version. Please use 'date_format' instead, or read your data in as 'object' dtype and then call 'to_datetime'.\n",
      "  data = pdr.get_data_famafrench(filename, start=self.start)[0]\n",
      "/Users/souratoshkhan/CQF/BlPortfolioConstruction/blportopt/data_utils.py:168: FutureWarning: The argument 'date_parser' is deprecated and will be removed in a future version. Please use 'date_format' instead, or read your data in as 'object' dtype and then call 'to_datetime'.\n",
      "  data = pdr.get_data_famafrench(filename, start=self.start)[0]\n",
      "/Users/souratoshkhan/CQF/BlPortfolioConstruction/blportopt/data_utils.py:168: FutureWarning: The argument 'date_parser' is deprecated and will be removed in a future version. Please use 'date_format' instead, or read your data in as 'object' dtype and then call 'to_datetime'.\n",
      "  data = pdr.get_data_famafrench(filename, start=self.start)[0]\n"
     ]
    },
    {
     "name": "stdout",
     "output_type": "stream",
     "text": [
      "--------------------------------------------------Done!--------------------------------------------------\n",
      "--------------------------------------------------Calculating Historical Returns of 20 Equities (Stocks/Funds)--------------------------------------------------\n",
      "--------------------------------------------------Done!--------------------------------------------------\n",
      "--------------------------------------------------Loading Historical Prices of SPY--------------------------------------------------\n",
      "--------------------------------------------------Done!--------------------------------------------------\n",
      "--------------------------------------------------Calculate Alpha : AAPL (Fama French Model)--------------------------------------------------\n",
      "--------------------------------------------------Fitting Fama-French Factor Model--------------------------------------------------\n",
      "--------------------------------------------------Done!--------------------------------------------------\n",
      "--------------------------------------------------Done!--------------------------------------------------\n",
      "--------------------------------------------------Calculate Alpha : IBM (Fama French Model)--------------------------------------------------\n",
      "--------------------------------------------------Fitting Fama-French Factor Model--------------------------------------------------\n",
      "--------------------------------------------------Done!--------------------------------------------------\n",
      "--------------------------------------------------Done!--------------------------------------------------\n",
      "--------------------------------------------------Calculate Alpha : PG (Fama French Model)--------------------------------------------------\n",
      "--------------------------------------------------Fitting Fama-French Factor Model--------------------------------------------------\n",
      "--------------------------------------------------Done!--------------------------------------------------\n",
      "--------------------------------------------------Done!--------------------------------------------------\n",
      "--------------------------------------------------Calculate Alpha : GE (Fama French Model)--------------------------------------------------\n",
      "--------------------------------------------------Fitting Fama-French Factor Model--------------------------------------------------\n",
      "--------------------------------------------------Done!--------------------------------------------------\n",
      "--------------------------------------------------Done!--------------------------------------------------\n",
      "--------------------------------------------------Calculate Alpha : AMD (Fama French Model)--------------------------------------------------\n",
      "--------------------------------------------------Fitting Fama-French Factor Model--------------------------------------------------\n",
      "--------------------------------------------------Done!--------------------------------------------------\n",
      "--------------------------------------------------Done!--------------------------------------------------\n",
      "--------------------------------------------------Calculate Alpha : WMT (Fama French Model)--------------------------------------------------\n",
      "--------------------------------------------------Fitting Fama-French Factor Model--------------------------------------------------\n",
      "--------------------------------------------------Done!--------------------------------------------------\n",
      "--------------------------------------------------Done!--------------------------------------------------\n",
      "--------------------------------------------------Calculate Alpha : BAC (Fama French Model)--------------------------------------------------\n",
      "--------------------------------------------------Fitting Fama-French Factor Model--------------------------------------------------\n",
      "--------------------------------------------------Done!--------------------------------------------------\n",
      "--------------------------------------------------Done!--------------------------------------------------\n",
      "--------------------------------------------------Calculate Alpha : T (Fama French Model)--------------------------------------------------\n",
      "--------------------------------------------------Fitting Fama-French Factor Model--------------------------------------------------\n",
      "--------------------------------------------------Done!--------------------------------------------------\n",
      "--------------------------------------------------Done!--------------------------------------------------\n",
      "--------------------------------------------------Calculate Alpha : XOM (Fama French Model)--------------------------------------------------\n",
      "--------------------------------------------------Fitting Fama-French Factor Model--------------------------------------------------\n",
      "--------------------------------------------------Done!--------------------------------------------------\n",
      "--------------------------------------------------Done!--------------------------------------------------\n",
      "--------------------------------------------------Calculate Alpha : RRC (Fama French Model)--------------------------------------------------\n",
      "--------------------------------------------------Fitting Fama-French Factor Model--------------------------------------------------\n",
      "--------------------------------------------------Done!--------------------------------------------------\n",
      "--------------------------------------------------Done!--------------------------------------------------\n",
      "--------------------------------------------------Calculate Alpha : BBY (Fama French Model)--------------------------------------------------\n",
      "--------------------------------------------------Fitting Fama-French Factor Model--------------------------------------------------\n",
      "--------------------------------------------------Done!--------------------------------------------------\n",
      "--------------------------------------------------Done!--------------------------------------------------\n",
      "--------------------------------------------------Calculate Alpha : PFE (Fama French Model)--------------------------------------------------\n",
      "--------------------------------------------------Fitting Fama-French Factor Model--------------------------------------------------\n",
      "--------------------------------------------------Done!--------------------------------------------------\n",
      "--------------------------------------------------Done!--------------------------------------------------\n",
      "--------------------------------------------------Calculate Alpha : JPM (Fama French Model)--------------------------------------------------\n",
      "--------------------------------------------------Fitting Fama-French Factor Model--------------------------------------------------\n",
      "--------------------------------------------------Done!--------------------------------------------------\n",
      "--------------------------------------------------Done!--------------------------------------------------\n",
      "--------------------------------------------------Calculate Alpha : C (Fama French Model)--------------------------------------------------\n",
      "--------------------------------------------------Fitting Fama-French Factor Model--------------------------------------------------\n",
      "--------------------------------------------------Done!--------------------------------------------------\n",
      "--------------------------------------------------Done!--------------------------------------------------\n",
      "--------------------------------------------------Calculate Alpha : MCD (Fama French Model)--------------------------------------------------\n",
      "--------------------------------------------------Fitting Fama-French Factor Model--------------------------------------------------\n",
      "--------------------------------------------------Done!--------------------------------------------------\n",
      "--------------------------------------------------Done!--------------------------------------------------\n",
      "--------------------------------------------------Calculate Alpha : KO (Fama French Model)--------------------------------------------------\n",
      "--------------------------------------------------Fitting Fama-French Factor Model--------------------------------------------------\n",
      "--------------------------------------------------Done!--------------------------------------------------\n",
      "--------------------------------------------------Done!--------------------------------------------------\n",
      "--------------------------------------------------Calculate Alpha : JNJ (Fama French Model)--------------------------------------------------\n",
      "--------------------------------------------------Fitting Fama-French Factor Model--------------------------------------------------\n",
      "--------------------------------------------------Done!--------------------------------------------------\n",
      "--------------------------------------------------Done!--------------------------------------------------\n",
      "--------------------------------------------------Calculate Alpha : WHR (Fama French Model)--------------------------------------------------\n",
      "--------------------------------------------------Fitting Fama-French Factor Model--------------------------------------------------\n",
      "--------------------------------------------------Done!--------------------------------------------------\n",
      "--------------------------------------------------Done!--------------------------------------------------\n",
      "--------------------------------------------------Calculate Alpha : MMM (Fama French Model)--------------------------------------------------\n",
      "--------------------------------------------------Fitting Fama-French Factor Model--------------------------------------------------\n",
      "--------------------------------------------------Done!--------------------------------------------------\n",
      "--------------------------------------------------Done!--------------------------------------------------\n",
      "--------------------------------------------------Calculate Alpha : GIS (Fama French Model)--------------------------------------------------\n",
      "--------------------------------------------------Fitting Fama-French Factor Model--------------------------------------------------\n",
      "--------------------------------------------------Done!--------------------------------------------------\n",
      "--------------------------------------------------Done!--------------------------------------------------\n",
      "--------------------------------------------------Determine Trading Days for Backtesting--------------------------------------------------\n",
      "--------------------------------------------------Done!--------------------------------------------------\n",
      "--------------------------------------------------Rank Assets--------------------------------------------------\n",
      "--------------------------------------------------Done!--------------------------------------------------\n",
      "--------------------------------------------------Backtesting of Factors Based on Selected Strategy -- Compute Cumulatie Returns--------------------------------------------------\n",
      "--------------------------------------------------Done!--------------------------------------------------\n",
      "--------------------------------------------------Calculate Alpha : AAPL (Fama French Model)--------------------------------------------------\n",
      "--------------------------------------------------Fitting Fama-French Factor Model--------------------------------------------------\n",
      "--------------------------------------------------Done!--------------------------------------------------\n",
      "--------------------------------------------------Done!--------------------------------------------------\n",
      "--------------------------------------------------Calculate Alpha : IBM (Fama French Model)--------------------------------------------------\n",
      "--------------------------------------------------Fitting Fama-French Factor Model--------------------------------------------------\n",
      "--------------------------------------------------Done!--------------------------------------------------\n",
      "--------------------------------------------------Done!--------------------------------------------------\n",
      "--------------------------------------------------Calculate Alpha : PG (Fama French Model)--------------------------------------------------\n",
      "--------------------------------------------------Fitting Fama-French Factor Model--------------------------------------------------\n",
      "--------------------------------------------------Done!--------------------------------------------------\n",
      "--------------------------------------------------Done!--------------------------------------------------\n",
      "--------------------------------------------------Calculate Alpha : GE (Fama French Model)--------------------------------------------------\n",
      "--------------------------------------------------Fitting Fama-French Factor Model--------------------------------------------------\n",
      "--------------------------------------------------Done!--------------------------------------------------\n",
      "--------------------------------------------------Done!--------------------------------------------------\n",
      "--------------------------------------------------Calculate Alpha : AMD (Fama French Model)--------------------------------------------------\n",
      "--------------------------------------------------Fitting Fama-French Factor Model--------------------------------------------------\n",
      "--------------------------------------------------Done!--------------------------------------------------\n",
      "--------------------------------------------------Done!--------------------------------------------------\n",
      "--------------------------------------------------Calculate Alpha : WMT (Fama French Model)--------------------------------------------------\n",
      "--------------------------------------------------Fitting Fama-French Factor Model--------------------------------------------------\n",
      "--------------------------------------------------Done!--------------------------------------------------\n",
      "--------------------------------------------------Done!--------------------------------------------------\n",
      "--------------------------------------------------Calculate Alpha : BAC (Fama French Model)--------------------------------------------------\n",
      "--------------------------------------------------Fitting Fama-French Factor Model--------------------------------------------------\n",
      "--------------------------------------------------Done!--------------------------------------------------\n",
      "--------------------------------------------------Done!--------------------------------------------------\n",
      "--------------------------------------------------Calculate Alpha : T (Fama French Model)--------------------------------------------------\n",
      "--------------------------------------------------Fitting Fama-French Factor Model--------------------------------------------------\n",
      "--------------------------------------------------Done!--------------------------------------------------\n",
      "--------------------------------------------------Done!--------------------------------------------------\n",
      "--------------------------------------------------Calculate Alpha : XOM (Fama French Model)--------------------------------------------------\n",
      "--------------------------------------------------Fitting Fama-French Factor Model--------------------------------------------------\n",
      "--------------------------------------------------Done!--------------------------------------------------\n",
      "--------------------------------------------------Done!--------------------------------------------------\n",
      "--------------------------------------------------Calculate Alpha : RRC (Fama French Model)--------------------------------------------------\n",
      "--------------------------------------------------Fitting Fama-French Factor Model--------------------------------------------------\n",
      "--------------------------------------------------Done!--------------------------------------------------\n",
      "--------------------------------------------------Done!--------------------------------------------------\n",
      "--------------------------------------------------Calculate Alpha : BBY (Fama French Model)--------------------------------------------------\n",
      "--------------------------------------------------Fitting Fama-French Factor Model--------------------------------------------------\n",
      "--------------------------------------------------Done!--------------------------------------------------\n",
      "--------------------------------------------------Done!--------------------------------------------------\n",
      "--------------------------------------------------Calculate Alpha : PFE (Fama French Model)--------------------------------------------------\n",
      "--------------------------------------------------Fitting Fama-French Factor Model--------------------------------------------------\n",
      "--------------------------------------------------Done!--------------------------------------------------\n",
      "--------------------------------------------------Done!--------------------------------------------------\n",
      "--------------------------------------------------Calculate Alpha : JPM (Fama French Model)--------------------------------------------------\n",
      "--------------------------------------------------Fitting Fama-French Factor Model--------------------------------------------------\n",
      "--------------------------------------------------Done!--------------------------------------------------\n",
      "--------------------------------------------------Done!--------------------------------------------------\n",
      "--------------------------------------------------Calculate Alpha : C (Fama French Model)--------------------------------------------------\n",
      "--------------------------------------------------Fitting Fama-French Factor Model--------------------------------------------------\n",
      "--------------------------------------------------Done!--------------------------------------------------\n",
      "--------------------------------------------------Done!--------------------------------------------------\n",
      "--------------------------------------------------Calculate Alpha : MCD (Fama French Model)--------------------------------------------------\n",
      "--------------------------------------------------Fitting Fama-French Factor Model--------------------------------------------------\n",
      "--------------------------------------------------Done!--------------------------------------------------\n",
      "--------------------------------------------------Done!--------------------------------------------------\n",
      "--------------------------------------------------Calculate Alpha : KO (Fama French Model)--------------------------------------------------\n",
      "--------------------------------------------------Fitting Fama-French Factor Model--------------------------------------------------\n",
      "--------------------------------------------------Done!--------------------------------------------------\n",
      "--------------------------------------------------Done!--------------------------------------------------\n",
      "--------------------------------------------------Calculate Alpha : JNJ (Fama French Model)--------------------------------------------------\n",
      "--------------------------------------------------Fitting Fama-French Factor Model--------------------------------------------------\n",
      "--------------------------------------------------Done!--------------------------------------------------\n",
      "--------------------------------------------------Done!--------------------------------------------------\n",
      "--------------------------------------------------Calculate Alpha : WHR (Fama French Model)--------------------------------------------------\n",
      "--------------------------------------------------Fitting Fama-French Factor Model--------------------------------------------------\n",
      "--------------------------------------------------Done!--------------------------------------------------\n",
      "--------------------------------------------------Done!--------------------------------------------------\n",
      "--------------------------------------------------Calculate Alpha : MMM (Fama French Model)--------------------------------------------------\n",
      "--------------------------------------------------Fitting Fama-French Factor Model--------------------------------------------------\n",
      "--------------------------------------------------Done!--------------------------------------------------\n",
      "--------------------------------------------------Done!--------------------------------------------------\n",
      "--------------------------------------------------Calculate Alpha : GIS (Fama French Model)--------------------------------------------------\n",
      "--------------------------------------------------Fitting Fama-French Factor Model--------------------------------------------------\n",
      "--------------------------------------------------Done!--------------------------------------------------\n",
      "--------------------------------------------------Done!--------------------------------------------------\n",
      "--------------------------------------------------Determine Trading Days for Backtesting--------------------------------------------------\n",
      "--------------------------------------------------Done!--------------------------------------------------\n",
      "--------------------------------------------------Rank Assets--------------------------------------------------\n",
      "--------------------------------------------------Done!--------------------------------------------------\n",
      "--------------------------------------------------Backtesting of Factors Based on Selected Strategy -- Compute Cumulatie Returns--------------------------------------------------\n",
      "--------------------------------------------------Done!--------------------------------------------------\n",
      "--------------------------------------------------Calculate Alpha : AAPL (Fama French Model)--------------------------------------------------\n",
      "--------------------------------------------------Fitting Fama-French Factor Model--------------------------------------------------\n",
      "--------------------------------------------------Done!--------------------------------------------------\n",
      "--------------------------------------------------Done!--------------------------------------------------\n",
      "--------------------------------------------------Calculate Alpha : IBM (Fama French Model)--------------------------------------------------\n",
      "--------------------------------------------------Fitting Fama-French Factor Model--------------------------------------------------\n",
      "--------------------------------------------------Done!--------------------------------------------------\n",
      "--------------------------------------------------Done!--------------------------------------------------\n",
      "--------------------------------------------------Calculate Alpha : PG (Fama French Model)--------------------------------------------------\n",
      "--------------------------------------------------Fitting Fama-French Factor Model--------------------------------------------------\n",
      "--------------------------------------------------Done!--------------------------------------------------\n",
      "--------------------------------------------------Done!--------------------------------------------------\n",
      "--------------------------------------------------Calculate Alpha : GE (Fama French Model)--------------------------------------------------\n",
      "--------------------------------------------------Fitting Fama-French Factor Model--------------------------------------------------\n",
      "--------------------------------------------------Done!--------------------------------------------------\n",
      "--------------------------------------------------Done!--------------------------------------------------\n",
      "--------------------------------------------------Calculate Alpha : AMD (Fama French Model)--------------------------------------------------\n",
      "--------------------------------------------------Fitting Fama-French Factor Model--------------------------------------------------\n",
      "--------------------------------------------------Done!--------------------------------------------------\n",
      "--------------------------------------------------Done!--------------------------------------------------\n",
      "--------------------------------------------------Calculate Alpha : WMT (Fama French Model)--------------------------------------------------\n",
      "--------------------------------------------------Fitting Fama-French Factor Model--------------------------------------------------\n",
      "--------------------------------------------------Done!--------------------------------------------------\n",
      "--------------------------------------------------Done!--------------------------------------------------\n",
      "--------------------------------------------------Calculate Alpha : BAC (Fama French Model)--------------------------------------------------\n",
      "--------------------------------------------------Fitting Fama-French Factor Model--------------------------------------------------\n",
      "--------------------------------------------------Done!--------------------------------------------------\n",
      "--------------------------------------------------Done!--------------------------------------------------\n",
      "--------------------------------------------------Calculate Alpha : T (Fama French Model)--------------------------------------------------\n",
      "--------------------------------------------------Fitting Fama-French Factor Model--------------------------------------------------\n",
      "--------------------------------------------------Done!--------------------------------------------------\n",
      "--------------------------------------------------Done!--------------------------------------------------\n",
      "--------------------------------------------------Calculate Alpha : XOM (Fama French Model)--------------------------------------------------\n",
      "--------------------------------------------------Fitting Fama-French Factor Model--------------------------------------------------\n",
      "--------------------------------------------------Done!--------------------------------------------------\n",
      "--------------------------------------------------Done!--------------------------------------------------\n",
      "--------------------------------------------------Calculate Alpha : RRC (Fama French Model)--------------------------------------------------\n",
      "--------------------------------------------------Fitting Fama-French Factor Model--------------------------------------------------\n",
      "--------------------------------------------------Done!--------------------------------------------------\n",
      "--------------------------------------------------Done!--------------------------------------------------\n",
      "--------------------------------------------------Calculate Alpha : BBY (Fama French Model)--------------------------------------------------\n",
      "--------------------------------------------------Fitting Fama-French Factor Model--------------------------------------------------\n",
      "--------------------------------------------------Done!--------------------------------------------------\n",
      "--------------------------------------------------Done!--------------------------------------------------\n",
      "--------------------------------------------------Calculate Alpha : PFE (Fama French Model)--------------------------------------------------\n",
      "--------------------------------------------------Fitting Fama-French Factor Model--------------------------------------------------\n",
      "--------------------------------------------------Done!--------------------------------------------------\n",
      "--------------------------------------------------Done!--------------------------------------------------\n",
      "--------------------------------------------------Calculate Alpha : JPM (Fama French Model)--------------------------------------------------\n",
      "--------------------------------------------------Fitting Fama-French Factor Model--------------------------------------------------\n",
      "--------------------------------------------------Done!--------------------------------------------------\n",
      "--------------------------------------------------Done!--------------------------------------------------\n",
      "--------------------------------------------------Calculate Alpha : C (Fama French Model)--------------------------------------------------\n",
      "--------------------------------------------------Fitting Fama-French Factor Model--------------------------------------------------\n",
      "--------------------------------------------------Done!--------------------------------------------------\n",
      "--------------------------------------------------Done!--------------------------------------------------\n",
      "--------------------------------------------------Calculate Alpha : MCD (Fama French Model)--------------------------------------------------\n",
      "--------------------------------------------------Fitting Fama-French Factor Model--------------------------------------------------\n",
      "--------------------------------------------------Done!--------------------------------------------------\n",
      "--------------------------------------------------Done!--------------------------------------------------\n",
      "--------------------------------------------------Calculate Alpha : KO (Fama French Model)--------------------------------------------------\n",
      "--------------------------------------------------Fitting Fama-French Factor Model--------------------------------------------------\n",
      "--------------------------------------------------Done!--------------------------------------------------\n",
      "--------------------------------------------------Done!--------------------------------------------------\n",
      "--------------------------------------------------Calculate Alpha : JNJ (Fama French Model)--------------------------------------------------\n",
      "--------------------------------------------------Fitting Fama-French Factor Model--------------------------------------------------\n",
      "--------------------------------------------------Done!--------------------------------------------------\n",
      "--------------------------------------------------Done!--------------------------------------------------\n",
      "--------------------------------------------------Calculate Alpha : WHR (Fama French Model)--------------------------------------------------\n",
      "--------------------------------------------------Fitting Fama-French Factor Model--------------------------------------------------\n",
      "--------------------------------------------------Done!--------------------------------------------------\n",
      "--------------------------------------------------Done!--------------------------------------------------\n",
      "--------------------------------------------------Calculate Alpha : MMM (Fama French Model)--------------------------------------------------\n",
      "--------------------------------------------------Fitting Fama-French Factor Model--------------------------------------------------\n",
      "--------------------------------------------------Done!--------------------------------------------------\n",
      "--------------------------------------------------Done!--------------------------------------------------\n",
      "--------------------------------------------------Calculate Alpha : GIS (Fama French Model)--------------------------------------------------\n",
      "--------------------------------------------------Fitting Fama-French Factor Model--------------------------------------------------\n",
      "--------------------------------------------------Done!--------------------------------------------------\n",
      "--------------------------------------------------Done!--------------------------------------------------\n",
      "--------------------------------------------------Determine Trading Days for Backtesting--------------------------------------------------\n",
      "--------------------------------------------------Done!--------------------------------------------------\n",
      "--------------------------------------------------Rank Assets--------------------------------------------------\n",
      "--------------------------------------------------Done!--------------------------------------------------\n",
      "--------------------------------------------------Backtesting of Factors Based on Selected Strategy -- Compute Cumulatie Returns--------------------------------------------------\n",
      "--------------------------------------------------Done!--------------------------------------------------\n",
      "--------------------------------------------------Plot of Portfolio Cumulative Returns--------------------------------------------------\n"
     ]
    },
    {
     "data": {
      "image/png": "[encoded data removed]",
      "text/plain": [
       "<Figure size 1000x1000 with 1 Axes>"
      ]
     },
     "metadata": {},
     "output_type": "display_data"
    },
    {
     "data": {
      "text/html": [
       "<div>\n",
       "<style scoped>\n",
       "    .dataframe tbody tr th:only-of-type {\n",
       "        vertical-align: middle;\n",
       "    }\n",
       "\n",
       "    .dataframe tbody tr th {\n",
       "        vertical-align: top;\n",
       "    }\n",
       "\n",
       "    .dataframe thead th {\n",
       "        text-align: right;\n",
       "    }\n",
       "</style>\n",
       "<table border=\"1\" class=\"dataframe\">\n",
       "  <thead>\n",
       "    <tr style=\"text-align: right;\">\n",
       "      <th></th>\n",
       "      <th>Total Profit</th>\n",
       "      <th>Annual Returns</th>\n",
       "      <th>Annual Volatility</th>\n",
       "      <th>Sharpe Ratio</th>\n",
       "      <th>Information Ratio</th>\n",
       "    </tr>\n",
       "  </thead>\n",
       "  <tbody>\n",
       "    <tr>\n",
       "      <th>0</th>\n",
       "      <td>1.298005</td>\n",
       "      <td>0.029238</td>\n",
       "      <td>0.003941</td>\n",
       "      <td>7.418</td>\n",
       "      <td>-0.49815</td>\n",
       "    </tr>\n",
       "  </tbody>\n",
       "</table>\n",
       "</div>"
      ],
      "text/plain": [
       "   Total Profit  Annual Returns  Annual Volatility  Sharpe Ratio  \\\n",
       "0      1.298005        0.029238           0.003941         7.418   \n",
       "\n",
       "   Information Ratio  \n",
       "0           -0.49815  "
      ]
     },
     "metadata": {},
     "output_type": "display_data"
    },
    {
     "data": {
      "text/html": [
       "<div>\n",
       "<style scoped>\n",
       "    .dataframe tbody tr th:only-of-type {\n",
       "        vertical-align: middle;\n",
       "    }\n",
       "\n",
       "    .dataframe tbody tr th {\n",
       "        vertical-align: top;\n",
       "    }\n",
       "\n",
       "    .dataframe thead th {\n",
       "        text-align: right;\n",
       "    }\n",
       "</style>\n",
       "<table border=\"1\" class=\"dataframe\">\n",
       "  <thead>\n",
       "    <tr style=\"text-align: right;\">\n",
       "      <th></th>\n",
       "      <th>Total Profit</th>\n",
       "      <th>Annual Returns</th>\n",
       "      <th>Annual Volatility</th>\n",
       "      <th>Sharpe Ratio</th>\n",
       "      <th>Information Ratio</th>\n",
       "    </tr>\n",
       "  </thead>\n",
       "  <tbody>\n",
       "    <tr>\n",
       "      <th>0</th>\n",
       "      <td>-831.352541</td>\n",
       "      <td>1.45107</td>\n",
       "      <td>6.514152</td>\n",
       "      <td>0.222757</td>\n",
       "      <td>0.206314</td>\n",
       "    </tr>\n",
       "  </tbody>\n",
       "</table>\n",
       "</div>"
      ],
      "text/plain": [
       "   Total Profit  Annual Returns  Annual Volatility  Sharpe Ratio  \\\n",
       "0   -831.352541         1.45107           6.514152      0.222757   \n",
       "\n",
       "   Information Ratio  \n",
       "0           0.206314  "
      ]
     },
     "metadata": {},
     "output_type": "display_data"
    },
    {
     "data": {
      "text/html": [
       "<div>\n",
       "<style scoped>\n",
       "    .dataframe tbody tr th:only-of-type {\n",
       "        vertical-align: middle;\n",
       "    }\n",
       "\n",
       "    .dataframe tbody tr th {\n",
       "        vertical-align: top;\n",
       "    }\n",
       "\n",
       "    .dataframe thead th {\n",
       "        text-align: right;\n",
       "    }\n",
       "</style>\n",
       "<table border=\"1\" class=\"dataframe\">\n",
       "  <thead>\n",
       "    <tr style=\"text-align: right;\">\n",
       "      <th></th>\n",
       "      <th>Total Profit</th>\n",
       "      <th>Annual Returns</th>\n",
       "      <th>Annual Volatility</th>\n",
       "      <th>Sharpe Ratio</th>\n",
       "      <th>Information Ratio</th>\n",
       "    </tr>\n",
       "  </thead>\n",
       "  <tbody>\n",
       "    <tr>\n",
       "      <th>0</th>\n",
       "      <td>-886.234571</td>\n",
       "      <td>0.462931</td>\n",
       "      <td>1.342458</td>\n",
       "      <td>0.344838</td>\n",
       "      <td>0.263688</td>\n",
       "    </tr>\n",
       "  </tbody>\n",
       "</table>\n",
       "</div>"
      ],
      "text/plain": [
       "   Total Profit  Annual Returns  Annual Volatility  Sharpe Ratio  \\\n",
       "0   -886.234571        0.462931           1.342458      0.344838   \n",
       "\n",
       "   Information Ratio  \n",
       "0           0.263688  "
      ]
     },
     "metadata": {},
     "output_type": "display_data"
    }
   ],
   "source": [
    "allocations_dict = {\n",
    "    \"Market Cap\": market_cap_stocks,\n",
    "    \"Empirical\" : optimal_weights_emp,\n",
    "    \"Factor Model\": optimal_weights_f,\n",
    "}\n",
    "performance = backtest(allocations_dict, factors=FF_FACTORS, asset_type=asset_type)\n",
    "\n",
    "display(performance[\"Market Cap\"])\n",
    "display(performance[\"Empirical\"])\n",
    "display(performance[\"Factor Model\"])"
   ]
  }
 ],
 "metadata": {
  "kernelspec": {
   "display_name": "venv",
   "language": "python",
   "name": "python3"
  },
  "language_info": {
   "codemirror_mode": {
    "name": "ipython",
    "version": 3
   },
   "file_extension": ".py",
   "mimetype": "text/x-python",
   "name": "python",
   "nbconvert_exporter": "python",
   "pygments_lexer": "ipython3",
   "version": "3.9.0"
  }
 },
 "nbformat": 4,
 "nbformat_minor": 2
}
